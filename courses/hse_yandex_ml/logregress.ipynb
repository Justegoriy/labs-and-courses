{
 "nbformat": 4,
 "nbformat_minor": 2,
 "metadata": {
  "language_info": {
   "name": "python",
   "codemirror_mode": {
    "name": "ipython",
    "version": 3
   },
   "version": "3.7.4"
  },
  "orig_nbformat": 2,
  "file_extension": ".py",
  "mimetype": "text/x-python",
  "name": "python",
  "npconvert_exporter": "python",
  "pygments_lexer": "ipython3",
  "version": 3
 },
 "cells": [
  {
   "cell_type": "code",
   "execution_count": 10,
   "metadata": {},
   "outputs": [],
   "source": [
    "import pandas as pd\n",
    "import numpy as np\n",
    "from sklearn.metrics import roc_auc_score"
   ]
  },
  {
   "cell_type": "code",
   "execution_count": 3,
   "metadata": {},
   "outputs": [
    {
     "data": {
      "text/html": "<div>\n<style scoped>\n    .dataframe tbody tr th:only-of-type {\n        vertical-align: middle;\n    }\n\n    .dataframe tbody tr th {\n        vertical-align: top;\n    }\n\n    .dataframe thead th {\n        text-align: right;\n    }\n</style>\n<table border=\"1\" class=\"dataframe\">\n  <thead>\n    <tr style=\"text-align: right;\">\n      <th></th>\n      <th>0</th>\n      <th>1</th>\n      <th>2</th>\n    </tr>\n  </thead>\n  <tbody>\n    <tr>\n      <td>0</td>\n      <td>-1</td>\n      <td>-0.663827</td>\n      <td>-0.138526</td>\n    </tr>\n    <tr>\n      <td>1</td>\n      <td>1</td>\n      <td>1.994596</td>\n      <td>2.468025</td>\n    </tr>\n    <tr>\n      <td>2</td>\n      <td>-1</td>\n      <td>-1.247395</td>\n      <td>0.749425</td>\n    </tr>\n    <tr>\n      <td>3</td>\n      <td>1</td>\n      <td>2.309374</td>\n      <td>1.899836</td>\n    </tr>\n    <tr>\n      <td>4</td>\n      <td>1</td>\n      <td>0.849143</td>\n      <td>2.407750</td>\n    </tr>\n    <tr>\n      <td>...</td>\n      <td>...</td>\n      <td>...</td>\n      <td>...</td>\n    </tr>\n    <tr>\n      <td>200</td>\n      <td>1</td>\n      <td>4.245176</td>\n      <td>3.053931</td>\n    </tr>\n    <tr>\n      <td>201</td>\n      <td>1</td>\n      <td>2.437935</td>\n      <td>1.357804</td>\n    </tr>\n    <tr>\n      <td>202</td>\n      <td>-1</td>\n      <td>-1.876638</td>\n      <td>1.533398</td>\n    </tr>\n    <tr>\n      <td>203</td>\n      <td>1</td>\n      <td>-6.824446</td>\n      <td>-13.934211</td>\n    </tr>\n    <tr>\n      <td>204</td>\n      <td>-1</td>\n      <td>0.001805</td>\n      <td>0.865147</td>\n    </tr>\n  </tbody>\n</table>\n<p>205 rows × 3 columns</p>\n</div>",
      "text/plain": "     0         1          2\n0   -1 -0.663827  -0.138526\n1    1  1.994596   2.468025\n2   -1 -1.247395   0.749425\n3    1  2.309374   1.899836\n4    1  0.849143   2.407750\n..  ..       ...        ...\n200  1  4.245176   3.053931\n201  1  2.437935   1.357804\n202 -1 -1.876638   1.533398\n203  1 -6.824446 -13.934211\n204 -1  0.001805   0.865147\n\n[205 rows x 3 columns]"
     },
     "execution_count": 3,
     "metadata": {},
     "output_type": "execute_result"
    }
   ],
   "source": [
    "df = pd.read_csv('data.csv', header=None)\n",
    "df"
   ]
  },
  {
   "cell_type": "code",
   "execution_count": 4,
   "metadata": {},
   "outputs": [
    {
     "data": {
      "text/html": "<div>\n<style scoped>\n    .dataframe tbody tr th:only-of-type {\n        vertical-align: middle;\n    }\n\n    .dataframe tbody tr th {\n        vertical-align: top;\n    }\n\n    .dataframe thead th {\n        text-align: right;\n    }\n</style>\n<table border=\"1\" class=\"dataframe\">\n  <thead>\n    <tr style=\"text-align: right;\">\n      <th></th>\n      <th>1</th>\n      <th>2</th>\n    </tr>\n  </thead>\n  <tbody>\n    <tr>\n      <td>0</td>\n      <td>-0.663827</td>\n      <td>-0.138526</td>\n    </tr>\n    <tr>\n      <td>1</td>\n      <td>1.994596</td>\n      <td>2.468025</td>\n    </tr>\n    <tr>\n      <td>2</td>\n      <td>-1.247395</td>\n      <td>0.749425</td>\n    </tr>\n    <tr>\n      <td>3</td>\n      <td>2.309374</td>\n      <td>1.899836</td>\n    </tr>\n    <tr>\n      <td>4</td>\n      <td>0.849143</td>\n      <td>2.407750</td>\n    </tr>\n    <tr>\n      <td>...</td>\n      <td>...</td>\n      <td>...</td>\n    </tr>\n    <tr>\n      <td>200</td>\n      <td>4.245176</td>\n      <td>3.053931</td>\n    </tr>\n    <tr>\n      <td>201</td>\n      <td>2.437935</td>\n      <td>1.357804</td>\n    </tr>\n    <tr>\n      <td>202</td>\n      <td>-1.876638</td>\n      <td>1.533398</td>\n    </tr>\n    <tr>\n      <td>203</td>\n      <td>-6.824446</td>\n      <td>-13.934211</td>\n    </tr>\n    <tr>\n      <td>204</td>\n      <td>0.001805</td>\n      <td>0.865147</td>\n    </tr>\n  </tbody>\n</table>\n<p>205 rows × 2 columns</p>\n</div>",
      "text/plain": "            1          2\n0   -0.663827  -0.138526\n1    1.994596   2.468025\n2   -1.247395   0.749425\n3    2.309374   1.899836\n4    0.849143   2.407750\n..        ...        ...\n200  4.245176   3.053931\n201  2.437935   1.357804\n202 -1.876638   1.533398\n203 -6.824446 -13.934211\n204  0.001805   0.865147\n\n[205 rows x 2 columns]"
     },
     "execution_count": 4,
     "metadata": {},
     "output_type": "execute_result"
    }
   ],
   "source": [
    "x = df.iloc[:,1:3]\n",
    "x"
   ]
  },
  {
   "cell_type": "code",
   "execution_count": 31,
   "metadata": {},
   "outputs": [
    {
     "data": {
      "text/plain": "(205, 2)"
     },
     "execution_count": 31,
     "metadata": {},
     "output_type": "execute_result"
    }
   ],
   "source": [
    "x = np.array(x)\n",
    "x.shape"
   ]
  },
  {
   "cell_type": "code",
   "execution_count": 28,
   "metadata": {},
   "outputs": [
    {
     "data": {
      "text/plain": "array([-1,  1, -1,  1,  1,  1,  1, -1, -1,  1, -1, -1, -1, -1,  1, -1, -1,\n        1,  1,  1, -1,  1, -1, -1, -1, -1,  1,  1, -1, -1, -1, -1,  1,  1,\n       -1, -1,  1,  1, -1,  1,  1, -1,  1, -1, -1,  1,  1, -1, -1,  1,  1,\n        1, -1,  1, -1, -1, -1,  1,  1,  1,  1,  1,  1,  1, -1,  1, -1,  1,\n       -1,  1,  1, -1,  1, -1, -1, -1,  1, -1,  1, -1,  1, -1,  1,  1, -1,\n        1,  1, -1,  1, -1, -1, -1,  1, -1, -1,  1,  1, -1, -1, -1,  1,  1,\n       -1, -1, -1,  1,  1,  1,  1, -1, -1,  1,  1,  1, -1,  1, -1, -1,  1,\n       -1,  1, -1,  1, -1,  1,  1,  1, -1,  1,  1,  1, -1, -1, -1,  1, -1,\n        1, -1,  1, -1,  1,  1,  1,  1,  1,  1,  1,  1,  1,  1, -1, -1, -1,\n       -1,  1, -1, -1,  1, -1, -1, -1, -1,  1,  1,  1,  1, -1,  1, -1, -1,\n        1, -1, -1, -1,  1,  1, -1,  1, -1,  1,  1, -1,  1, -1,  1, -1, -1,\n       -1, -1, -1,  1,  1, -1, -1,  1,  1, -1,  1,  1, -1,  1,  1, -1,  1,\n       -1], dtype=int64)"
     },
     "execution_count": 28,
     "metadata": {},
     "output_type": "execute_result"
    }
   ],
   "source": [
    "y = np.array(df.iloc[:,0])\n",
    "y"
   ]
  },
  {
   "cell_type": "code",
   "execution_count": 8,
   "metadata": {},
   "outputs": [
    {
     "data": {
      "text/plain": "array([0, 0])"
     },
     "execution_count": 8,
     "metadata": {},
     "output_type": "execute_result"
    }
   ],
   "source": [
    "w = np.array([0,0])\n",
    "w"
   ]
  },
  {
   "cell_type": "code",
   "execution_count": 36,
   "metadata": {},
   "outputs": [],
   "source": [
    "import math\n",
    "\n",
    "def grad(X, y, w, C=0, k = 0.1, max_step = 10000):\n",
    "    eps = 1e-5\n",
    "    s1 = 0\n",
    "    s2 = 0\n",
    "    l = X.shape[0]\n",
    "    for _ in range(max_step):\n",
    "        w0 = w\n",
    "        for i in range(l):\n",
    "            s1 += y[i] * X[i][0] * (1 - (1 + math.exp(-y[i]*(w[0]*X[i][0] + w[1]*X[i][1])))**(-1))\n",
    "            s2 += y[i] * X[i][1] * (1 - (1 + math.exp(-y[i]*(w[0]*X[i][0] + w[1]*X[i][1])))**(-1))\n",
    "        w[0] = w[0] + k / l * s1 - k * C * w[0]\n",
    "        w[1] = w[1] + k / l * s2 - k * C * w[1]\n",
    "        if math.sqrt((w0[0] - w[0])**2 + (w0[1] - w[1])**2) < eps:\n",
    "            break\n",
    "    return w\n",
    "\n",
    "def sigmoda(X, w):\n",
    "    return 1 / (1 + np.exp(-w[0] * X[:, 0] - w[1] * X[:, 1]))"
   ]
  },
  {
   "cell_type": "code",
   "execution_count": 37,
   "metadata": {},
   "outputs": [
    {
     "data": {
      "text/plain": "array([0, 0])"
     },
     "execution_count": 37,
     "metadata": {},
     "output_type": "execute_result"
    }
   ],
   "source": [
    "grad(x, y, w)"
   ]
  },
  {
   "cell_type": "code",
   "execution_count": null,
   "metadata": {},
   "outputs": [],
   "source": []
  }
 ]
}