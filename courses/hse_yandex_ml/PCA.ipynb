{
 "nbformat": 4,
 "nbformat_minor": 2,
 "metadata": {
  "language_info": {
   "name": "python",
   "codemirror_mode": {
    "name": "ipython",
    "version": 3
   },
   "version": "3.7.4-final"
  },
  "orig_nbformat": 2,
  "file_extension": ".py",
  "mimetype": "text/x-python",
  "name": "python",
  "npconvert_exporter": "python",
  "pygments_lexer": "ipython3",
  "version": 3,
  "kernelspec": {
   "name": "python37464bitbaseconda41c389dc164c4d56b90701ddd69ff165",
   "display_name": "Python 3.7.4 64-bit ('base': conda)"
  }
 },
 "cells": [
  {
   "cell_type": "code",
   "execution_count": 27,
   "metadata": {},
   "outputs": [],
   "source": [
    "import pandas as pd\n",
    "import numpy as np\n",
    "from sklearn.decomposition import PCA\n",
    "from numpy import corrcoef"
   ]
  },
  {
   "cell_type": "code",
   "execution_count": 28,
   "metadata": {},
   "outputs": [
    {
     "data": {
      "text/html": "<div>\n<style scoped>\n    .dataframe tbody tr th:only-of-type {\n        vertical-align: middle;\n    }\n\n    .dataframe tbody tr th {\n        vertical-align: top;\n    }\n\n    .dataframe thead th {\n        text-align: right;\n    }\n</style>\n<table border=\"1\" class=\"dataframe\">\n  <thead>\n    <tr style=\"text-align: right;\">\n      <th></th>\n      <th>date</th>\n      <th>AXP</th>\n      <th>BA</th>\n      <th>CAT</th>\n      <th>CSCO</th>\n      <th>CVX</th>\n      <th>DD</th>\n      <th>DIS</th>\n      <th>GE</th>\n      <th>GS</th>\n      <th>...</th>\n      <th>PFE</th>\n      <th>PG</th>\n      <th>T</th>\n      <th>TRV</th>\n      <th>UNH</th>\n      <th>UTX</th>\n      <th>V</th>\n      <th>VZ</th>\n      <th>WMT</th>\n      <th>XOM</th>\n    </tr>\n  </thead>\n  <tbody>\n    <tr>\n      <td>0</td>\n      <td>2013-09-23</td>\n      <td>76.440002</td>\n      <td>117.510002</td>\n      <td>85.029999</td>\n      <td>24.270000</td>\n      <td>125.519997</td>\n      <td>59.409999</td>\n      <td>64.750000</td>\n      <td>24.280001</td>\n      <td>165.250000</td>\n      <td>...</td>\n      <td>28.799999</td>\n      <td>79.279999</td>\n      <td>34.220001</td>\n      <td>86.379997</td>\n      <td>71.820000</td>\n      <td>109.419998</td>\n      <td>196.240005</td>\n      <td>47.980000</td>\n      <td>76.419998</td>\n      <td>87.750000</td>\n    </tr>\n    <tr>\n      <td>1</td>\n      <td>2013-09-24</td>\n      <td>76.070000</td>\n      <td>119.000000</td>\n      <td>85.110001</td>\n      <td>24.139999</td>\n      <td>124.489998</td>\n      <td>59.319997</td>\n      <td>64.320000</td>\n      <td>24.320000</td>\n      <td>162.970001</td>\n      <td>...</td>\n      <td>28.709999</td>\n      <td>78.620003</td>\n      <td>34.090000</td>\n      <td>85.870003</td>\n      <td>72.320000</td>\n      <td>110.000000</td>\n      <td>193.339996</td>\n      <td>47.270000</td>\n      <td>75.750000</td>\n      <td>87.360001</td>\n    </tr>\n    <tr>\n      <td>2</td>\n      <td>2013-09-25</td>\n      <td>75.989998</td>\n      <td>118.510002</td>\n      <td>84.500000</td>\n      <td>24.430000</td>\n      <td>124.070000</td>\n      <td>59.319997</td>\n      <td>64.449997</td>\n      <td>24.230000</td>\n      <td>162.309998</td>\n      <td>...</td>\n      <td>28.490000</td>\n      <td>77.720001</td>\n      <td>34.049999</td>\n      <td>85.980003</td>\n      <td>71.980003</td>\n      <td>109.260002</td>\n      <td>191.559998</td>\n      <td>46.950001</td>\n      <td>74.650002</td>\n      <td>87.139999</td>\n    </tr>\n    <tr>\n      <td>3</td>\n      <td>2013-09-26</td>\n      <td>76.320000</td>\n      <td>119.379997</td>\n      <td>84.199997</td>\n      <td>23.770000</td>\n      <td>123.489998</td>\n      <td>59.509996</td>\n      <td>65.239998</td>\n      <td>24.250000</td>\n      <td>162.289993</td>\n      <td>...</td>\n      <td>28.520000</td>\n      <td>78.050003</td>\n      <td>34.230000</td>\n      <td>85.830002</td>\n      <td>72.160004</td>\n      <td>109.660004</td>\n      <td>193.559998</td>\n      <td>47.669998</td>\n      <td>74.620003</td>\n      <td>87.070000</td>\n    </tr>\n    <tr>\n      <td>4</td>\n      <td>2013-09-27</td>\n      <td>75.889999</td>\n      <td>118.739998</td>\n      <td>83.800003</td>\n      <td>23.330000</td>\n      <td>122.639999</td>\n      <td>59.009995</td>\n      <td>65.190002</td>\n      <td>24.049999</td>\n      <td>159.850006</td>\n      <td>...</td>\n      <td>28.879999</td>\n      <td>77.209999</td>\n      <td>33.980000</td>\n      <td>85.410004</td>\n      <td>71.989998</td>\n      <td>109.360001</td>\n      <td>193.050003</td>\n      <td>47.000000</td>\n      <td>74.360001</td>\n      <td>86.900002</td>\n    </tr>\n    <tr>\n      <td>...</td>\n      <td>...</td>\n      <td>...</td>\n      <td>...</td>\n      <td>...</td>\n      <td>...</td>\n      <td>...</td>\n      <td>...</td>\n      <td>...</td>\n      <td>...</td>\n      <td>...</td>\n      <td>...</td>\n      <td>...</td>\n      <td>...</td>\n      <td>...</td>\n      <td>...</td>\n      <td>...</td>\n      <td>...</td>\n      <td>...</td>\n      <td>...</td>\n      <td>...</td>\n      <td>...</td>\n    </tr>\n    <tr>\n      <td>369</td>\n      <td>2015-03-12</td>\n      <td>81.559998</td>\n      <td>152.039993</td>\n      <td>80.190002</td>\n      <td>28.240000</td>\n      <td>102.419998</td>\n      <td>80.400001</td>\n      <td>107.169998</td>\n      <td>25.400000</td>\n      <td>189.949997</td>\n      <td>...</td>\n      <td>34.000000</td>\n      <td>82.089996</td>\n      <td>33.130001</td>\n      <td>107.830002</td>\n      <td>114.879997</td>\n      <td>121.239998</td>\n      <td>269.579987</td>\n      <td>48.730000</td>\n      <td>81.900002</td>\n      <td>84.220001</td>\n    </tr>\n    <tr>\n      <td>370</td>\n      <td>2015-03-13</td>\n      <td>80.599998</td>\n      <td>151.570007</td>\n      <td>79.230003</td>\n      <td>27.940001</td>\n      <td>101.620003</td>\n      <td>80.499997</td>\n      <td>106.440002</td>\n      <td>25.040001</td>\n      <td>189.339996</td>\n      <td>...</td>\n      <td>34.000000</td>\n      <td>81.830002</td>\n      <td>32.759998</td>\n      <td>106.720001</td>\n      <td>115.250000</td>\n      <td>118.739998</td>\n      <td>265.029999</td>\n      <td>48.840000</td>\n      <td>81.900002</td>\n      <td>83.870003</td>\n    </tr>\n    <tr>\n      <td>371</td>\n      <td>2015-03-16</td>\n      <td>81.500000</td>\n      <td>153.669998</td>\n      <td>79.970001</td>\n      <td>28.299999</td>\n      <td>103.129997</td>\n      <td>77.069994</td>\n      <td>107.370003</td>\n      <td>25.450001</td>\n      <td>191.899994</td>\n      <td>...</td>\n      <td>34.439999</td>\n      <td>83.559998</td>\n      <td>33.060001</td>\n      <td>108.930000</td>\n      <td>118.519997</td>\n      <td>120.070000</td>\n      <td>269.019989</td>\n      <td>49.270000</td>\n      <td>83.290001</td>\n      <td>84.760002</td>\n    </tr>\n    <tr>\n      <td>372</td>\n      <td>2015-03-17</td>\n      <td>81.059998</td>\n      <td>154.509995</td>\n      <td>78.449997</td>\n      <td>28.150000</td>\n      <td>103.169998</td>\n      <td>74.680001</td>\n      <td>106.959999</td>\n      <td>25.309999</td>\n      <td>190.570007</td>\n      <td>...</td>\n      <td>34.169998</td>\n      <td>82.849998</td>\n      <td>32.900002</td>\n      <td>108.750000</td>\n      <td>117.599998</td>\n      <td>119.860001</td>\n      <td>264.500000</td>\n      <td>48.950001</td>\n      <td>82.620003</td>\n      <td>84.080002</td>\n    </tr>\n    <tr>\n      <td>373</td>\n      <td>2015-03-18</td>\n      <td>81.860001</td>\n      <td>155.729996</td>\n      <td>81.330002</td>\n      <td>28.150000</td>\n      <td>106.699997</td>\n      <td>76.009997</td>\n      <td>107.970001</td>\n      <td>25.639999</td>\n      <td>192.320007</td>\n      <td>...</td>\n      <td>34.380001</td>\n      <td>83.750000</td>\n      <td>33.590000</td>\n      <td>109.519997</td>\n      <td>119.959999</td>\n      <td>120.309998</td>\n      <td>267.670013</td>\n      <td>49.540001</td>\n      <td>82.529999</td>\n      <td>86.070000</td>\n    </tr>\n  </tbody>\n</table>\n<p>374 rows × 31 columns</p>\n</div>",
      "text/plain": "           date        AXP          BA        CAT       CSCO         CVX  \\\n0    2013-09-23  76.440002  117.510002  85.029999  24.270000  125.519997   \n1    2013-09-24  76.070000  119.000000  85.110001  24.139999  124.489998   \n2    2013-09-25  75.989998  118.510002  84.500000  24.430000  124.070000   \n3    2013-09-26  76.320000  119.379997  84.199997  23.770000  123.489998   \n4    2013-09-27  75.889999  118.739998  83.800003  23.330000  122.639999   \n..          ...        ...         ...        ...        ...         ...   \n369  2015-03-12  81.559998  152.039993  80.190002  28.240000  102.419998   \n370  2015-03-13  80.599998  151.570007  79.230003  27.940001  101.620003   \n371  2015-03-16  81.500000  153.669998  79.970001  28.299999  103.129997   \n372  2015-03-17  81.059998  154.509995  78.449997  28.150000  103.169998   \n373  2015-03-18  81.860001  155.729996  81.330002  28.150000  106.699997   \n\n            DD         DIS         GE          GS  ...        PFE         PG  \\\n0    59.409999   64.750000  24.280001  165.250000  ...  28.799999  79.279999   \n1    59.319997   64.320000  24.320000  162.970001  ...  28.709999  78.620003   \n2    59.319997   64.449997  24.230000  162.309998  ...  28.490000  77.720001   \n3    59.509996   65.239998  24.250000  162.289993  ...  28.520000  78.050003   \n4    59.009995   65.190002  24.049999  159.850006  ...  28.879999  77.209999   \n..         ...         ...        ...         ...  ...        ...        ...   \n369  80.400001  107.169998  25.400000  189.949997  ...  34.000000  82.089996   \n370  80.499997  106.440002  25.040001  189.339996  ...  34.000000  81.830002   \n371  77.069994  107.370003  25.450001  191.899994  ...  34.439999  83.559998   \n372  74.680001  106.959999  25.309999  190.570007  ...  34.169998  82.849998   \n373  76.009997  107.970001  25.639999  192.320007  ...  34.380001  83.750000   \n\n             T         TRV         UNH         UTX           V         VZ  \\\n0    34.220001   86.379997   71.820000  109.419998  196.240005  47.980000   \n1    34.090000   85.870003   72.320000  110.000000  193.339996  47.270000   \n2    34.049999   85.980003   71.980003  109.260002  191.559998  46.950001   \n3    34.230000   85.830002   72.160004  109.660004  193.559998  47.669998   \n4    33.980000   85.410004   71.989998  109.360001  193.050003  47.000000   \n..         ...         ...         ...         ...         ...        ...   \n369  33.130001  107.830002  114.879997  121.239998  269.579987  48.730000   \n370  32.759998  106.720001  115.250000  118.739998  265.029999  48.840000   \n371  33.060001  108.930000  118.519997  120.070000  269.019989  49.270000   \n372  32.900002  108.750000  117.599998  119.860001  264.500000  48.950001   \n373  33.590000  109.519997  119.959999  120.309998  267.670013  49.540001   \n\n           WMT        XOM  \n0    76.419998  87.750000  \n1    75.750000  87.360001  \n2    74.650002  87.139999  \n3    74.620003  87.070000  \n4    74.360001  86.900002  \n..         ...        ...  \n369  81.900002  84.220001  \n370  81.900002  83.870003  \n371  83.290001  84.760002  \n372  82.620003  84.080002  \n373  82.529999  86.070000  \n\n[374 rows x 31 columns]"
     },
     "execution_count": 28,
     "metadata": {},
     "output_type": "execute_result"
    }
   ],
   "source": [
    "prices = pd.read_csv('close_prices.csv')\n",
    "indexes = pd.read_csv('dj_index.csv')\n",
    "prices"
   ]
  },
  {
   "cell_type": "code",
   "execution_count": 29,
   "metadata": {},
   "outputs": [
    {
     "data": {
      "text/html": "<div>\n<style scoped>\n    .dataframe tbody tr th:only-of-type {\n        vertical-align: middle;\n    }\n\n    .dataframe tbody tr th {\n        vertical-align: top;\n    }\n\n    .dataframe thead th {\n        text-align: right;\n    }\n</style>\n<table border=\"1\" class=\"dataframe\">\n  <thead>\n    <tr style=\"text-align: right;\">\n      <th></th>\n      <th>date</th>\n      <th>^DJI</th>\n    </tr>\n  </thead>\n  <tbody>\n    <tr>\n      <td>0</td>\n      <td>2013-09-23</td>\n      <td>15401.379883</td>\n    </tr>\n    <tr>\n      <td>1</td>\n      <td>2013-09-24</td>\n      <td>15334.589844</td>\n    </tr>\n    <tr>\n      <td>2</td>\n      <td>2013-09-25</td>\n      <td>15273.259766</td>\n    </tr>\n    <tr>\n      <td>3</td>\n      <td>2013-09-26</td>\n      <td>15328.299805</td>\n    </tr>\n    <tr>\n      <td>4</td>\n      <td>2013-09-27</td>\n      <td>15258.240234</td>\n    </tr>\n    <tr>\n      <td>...</td>\n      <td>...</td>\n      <td>...</td>\n    </tr>\n    <tr>\n      <td>369</td>\n      <td>2015-03-12</td>\n      <td>17895.220703</td>\n    </tr>\n    <tr>\n      <td>370</td>\n      <td>2015-03-13</td>\n      <td>17749.310547</td>\n    </tr>\n    <tr>\n      <td>371</td>\n      <td>2015-03-16</td>\n      <td>17977.419922</td>\n    </tr>\n    <tr>\n      <td>372</td>\n      <td>2015-03-17</td>\n      <td>17849.080078</td>\n    </tr>\n    <tr>\n      <td>373</td>\n      <td>2015-03-18</td>\n      <td>18076.189453</td>\n    </tr>\n  </tbody>\n</table>\n<p>374 rows × 2 columns</p>\n</div>",
      "text/plain": "           date          ^DJI\n0    2013-09-23  15401.379883\n1    2013-09-24  15334.589844\n2    2013-09-25  15273.259766\n3    2013-09-26  15328.299805\n4    2013-09-27  15258.240234\n..          ...           ...\n369  2015-03-12  17895.220703\n370  2015-03-13  17749.310547\n371  2015-03-16  17977.419922\n372  2015-03-17  17849.080078\n373  2015-03-18  18076.189453\n\n[374 rows x 2 columns]"
     },
     "execution_count": 29,
     "metadata": {},
     "output_type": "execute_result"
    }
   ],
   "source": [
    "indexes"
   ]
  },
  {
   "cell_type": "code",
   "execution_count": 30,
   "metadata": {},
   "outputs": [
    {
     "data": {
      "text/plain": "array([[ 76.440002, 117.510002,  85.029999, ...,  47.98    ,  76.419998,\n         87.75    ],\n       [ 76.07    , 119.      ,  85.110001, ...,  47.27    ,  75.75    ,\n         87.360001],\n       [ 75.989998, 118.510002,  84.5     , ...,  46.950001,  74.650002,\n         87.139999],\n       ...,\n       [ 81.5     , 153.669998,  79.970001, ...,  49.27    ,  83.290001,\n         84.760002],\n       [ 81.059998, 154.509995,  78.449997, ...,  48.950001,  82.620003,\n         84.080002],\n       [ 81.860001, 155.729996,  81.330002, ...,  49.540001,  82.529999,\n         86.07    ]])"
     },
     "execution_count": 30,
     "metadata": {},
     "output_type": "execute_result"
    }
   ],
   "source": [
    "x = np.array(prices.iloc[:, 1:32])\n",
    "x"
   ]
  },
  {
   "cell_type": "code",
   "execution_count": 31,
   "metadata": {},
   "outputs": [
    {
     "data": {
      "text/plain": "array([0.73897118, 0.11007169, 0.04995088, 0.0287492 , 0.02215448,\n       0.01931577, 0.00674853, 0.00614091, 0.00320594, 0.00305611])"
     },
     "execution_count": 31,
     "metadata": {},
     "output_type": "execute_result"
    }
   ],
   "source": [
    "pca = PCA(n_components=10)\n",
    "pca.fit(x)\n",
    "pca.explained_variance_ratio_"
   ]
  },
  {
   "cell_type": "code",
   "execution_count": 32,
   "metadata": {},
   "outputs": [
    {
     "name": "stdout",
     "output_type": "stream",
     "text": "Need components 4\n"
    }
   ],
   "source": [
    "count = 0\n",
    "sum = 0\n",
    "for i in range(len(pca.explained_variance_ratio_)):\n",
    "    count+=1\n",
    "    value = pca.explained_variance_ratio_[i]\n",
    "    sum+= value\n",
    "    if sum > 0.9:\n",
    "        break\n",
    "print(\"Need components %d\" % count)"
   ]
  },
  {
   "cell_type": "code",
   "execution_count": 33,
   "metadata": {},
   "outputs": [
    {
     "data": {
      "text/html": "<div>\n<style scoped>\n    .dataframe tbody tr th:only-of-type {\n        vertical-align: middle;\n    }\n\n    .dataframe tbody tr th {\n        vertical-align: top;\n    }\n\n    .dataframe thead th {\n        text-align: right;\n    }\n</style>\n<table border=\"1\" class=\"dataframe\">\n  <thead>\n    <tr style=\"text-align: right;\">\n      <th></th>\n      <th>0</th>\n    </tr>\n  </thead>\n  <tbody>\n    <tr>\n      <td>0</td>\n      <td>-50.902404</td>\n    </tr>\n    <tr>\n      <td>1</td>\n      <td>-52.846909</td>\n    </tr>\n    <tr>\n      <td>2</td>\n      <td>-54.614439</td>\n    </tr>\n    <tr>\n      <td>3</td>\n      <td>-52.600566</td>\n    </tr>\n    <tr>\n      <td>4</td>\n      <td>-52.370123</td>\n    </tr>\n    <tr>\n      <td>...</td>\n      <td>...</td>\n    </tr>\n    <tr>\n      <td>369</td>\n      <td>81.290980</td>\n    </tr>\n    <tr>\n      <td>370</td>\n      <td>77.903534</td>\n    </tr>\n    <tr>\n      <td>371</td>\n      <td>83.798199</td>\n    </tr>\n    <tr>\n      <td>372</td>\n      <td>79.195789</td>\n    </tr>\n    <tr>\n      <td>373</td>\n      <td>82.968859</td>\n    </tr>\n  </tbody>\n</table>\n<p>374 rows × 1 columns</p>\n</div>",
      "text/plain": "             0\n0   -50.902404\n1   -52.846909\n2   -54.614439\n3   -52.600566\n4   -52.370123\n..         ...\n369  81.290980\n370  77.903534\n371  83.798199\n372  79.195789\n373  82.968859\n\n[374 rows x 1 columns]"
     },
     "execution_count": 33,
     "metadata": {},
     "output_type": "execute_result"
    }
   ],
   "source": [
    "component = pd.DataFrame(pca.transform(x)[:,0])\n",
    "component"
   ]
  },
  {
   "cell_type": "code",
   "execution_count": 34,
   "metadata": {},
   "outputs": [
    {
     "data": {
      "text/plain": "0      15401.379883\n1      15334.589844\n2      15273.259766\n3      15328.299805\n4      15258.240234\n           ...     \n369    17895.220703\n370    17749.310547\n371    17977.419922\n372    17849.080078\n373    18076.189453\nName: ^DJI, Length: 374, dtype: float64"
     },
     "execution_count": 34,
     "metadata": {},
     "output_type": "execute_result"
    }
   ],
   "source": [
    "index = indexes['^DJI']\n",
    "index"
   ]
  },
  {
   "cell_type": "code",
   "execution_count": 41,
   "metadata": {},
   "outputs": [
    {
     "data": {
      "text/plain": "0.9096522193050238"
     },
     "execution_count": 41,
     "metadata": {},
     "output_type": "execute_result"
    }
   ],
   "source": [
    "corrcoef(component.T, index.T)[1,0]"
   ]
  },
  {
   "cell_type": "code",
   "execution_count": 47,
   "metadata": {},
   "outputs": [
    {
     "data": {
      "text/plain": "array([ 1.61383840e-02,  1.20644923e-01, -5.16612711e-02,  5.04842369e-02,\n       -1.25859933e-01,  1.14089567e-01,  2.33906290e-01, -6.20513749e-03,\n        2.51227032e-01,  2.88996029e-01, -2.64998795e-01,  9.31320168e-02,\n        9.13948403e-02,  4.69879340e-02,  2.90549417e-02, -2.61068828e-02,\n        3.29615584e-01,  7.13897133e-02,  7.62295699e-02,  2.11888868e-01,\n        2.30922941e-02,  7.77316954e-02, -7.20594590e-03,  1.89479745e-01,\n        3.21564017e-01,  5.36834873e-02,  5.79683946e-01,  1.09122230e-04,\n        8.71614334e-02, -4.29421420e-02])"
     },
     "execution_count": 47,
     "metadata": {},
     "output_type": "execute_result"
    }
   ],
   "source": [
    "pca.components_[0]"
   ]
  },
  {
   "cell_type": "code",
   "execution_count": 52,
   "metadata": {},
   "outputs": [
    {
     "data": {
      "text/plain": "'V'"
     },
     "execution_count": 52,
     "metadata": {},
     "output_type": "execute_result"
    }
   ],
   "source": [
    "val = -1\n",
    "ind = 0\n",
    "for i in range(len(pca.components_[0])):\n",
    "    if pca.components_[0][i] > val:\n",
    "        val = pca.components_[0][i]\n",
    "        ind = i\n",
    "prices.columns[ind + 1]"
   ]
  },
  {
   "cell_type": "code",
   "execution_count": 48,
   "metadata": {},
   "outputs": [
    {
     "data": {
      "text/plain": "'UTX'"
     },
     "execution_count": 48,
     "metadata": {},
     "output_type": "execute_result"
    }
   ],
   "source": [
    "prices.columns[26]"
   ]
  },
  {
   "cell_type": "code",
   "execution_count": null,
   "metadata": {},
   "outputs": [],
   "source": []
  }
 ]
}