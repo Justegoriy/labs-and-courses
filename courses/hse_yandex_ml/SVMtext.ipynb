{
 "nbformat": 4,
 "nbformat_minor": 2,
 "metadata": {
  "language_info": {
   "name": "python",
   "codemirror_mode": {
    "name": "ipython",
    "version": 3
   },
   "version": "3.7.4"
  },
  "orig_nbformat": 2,
  "file_extension": ".py",
  "mimetype": "text/x-python",
  "name": "python",
  "npconvert_exporter": "python",
  "pygments_lexer": "ipython3",
  "version": 3
 },
 "cells": [
  {
   "cell_type": "code",
   "execution_count": 10,
   "metadata": {},
   "outputs": [],
   "source": [
    "import pandas as pd\n",
    "from sklearn.feature_extraction.text import TfidfVectorizer\n",
    "from sklearn.svm import SVC\n",
    "from sklearn.model_selection import GridSearchCV\n",
    "from sklearn.model_selection import KFold\n",
    "import numpy as np"
   ]
  },
  {
   "cell_type": "code",
   "execution_count": 5,
   "metadata": {},
   "outputs": [],
   "source": [
    "from sklearn import datasets\n",
    "newsgroups = datasets.fetch_20newsgroups(\n",
    "                    subset='all', \n",
    "                    categories=['alt.atheism', 'sci.space']\n",
    "             )"
   ]
  },
  {
   "cell_type": "code",
   "execution_count": 8,
   "metadata": {},
   "outputs": [
    {
     "data": {
      "text/plain": "<1786x28382 sparse matrix of type '<class 'numpy.float64'>'\n\twith 303138 stored elements in Compressed Sparse Row format>"
     },
     "execution_count": 8,
     "metadata": {},
     "output_type": "execute_result"
    }
   ],
   "source": [
    "vectorizer = TfidfVectorizer()\n",
    "x = vectorizer.fit_transform(newsgroups.data)\n",
    "x"
   ]
  },
  {
   "cell_type": "code",
   "execution_count": 9,
   "metadata": {},
   "outputs": [
    {
     "data": {
      "text/plain": "array([0, 0, 1, ..., 1, 1, 0], dtype=int64)"
     },
     "execution_count": 9,
     "metadata": {},
     "output_type": "execute_result"
    }
   ],
   "source": [
    "y = newsgroups.target\n",
    "y"
   ]
  },
  {
   "source": [
    "grid = {'C' : np.power(10.0, np.arange(-5, 6))}\n",
    "cv = KFold(n_splits=5, shuffle=True, random_state=241)\n",
    "clf =SVC(kernel='linear', random_state=241)\n",
    "gs = GridSearchCV(clf, grid, scoring='accuracy', cv=cv)\n",
    "gs.fit(x, y)"
   ],
   "cell_type": "code",
   "outputs": [
    {
     "output_type": "execute_result",
     "data": {
      "text/plain": "GridSearchCV(cv=KFold(n_splits=5, random_state=241, shuffle=True),\n             error_score='raise-deprecating',\n             estimator=SVC(C=1.0, cache_size=200, class_weight=None, coef0=0.0,\n                           decision_function_shape='ovr', degree=3,\n                           gamma='auto_deprecated', kernel='linear',\n                           max_iter=-1, probability=False, random_state=241,\n                           shrinking=True, tol=0.001, verbose=False),\n             iid='warn', n_jobs=None,\n             param_grid={'C': array([1.e-05, 1.e-04, 1.e-03, 1.e-02, 1.e-01, 1.e+00, 1.e+01, 1.e+02,\n       1.e+03, 1.e+04, 1.e+05])},\n             pre_dispatch='2*n_jobs', refit=True, return_train_score=False,\n             scoring='accuracy', verbose=0)"
     },
     "metadata": {},
     "execution_count": 14
    }
   ],
   "metadata": {},
   "execution_count": 14
  },
  {
   "source": [
    "clf1 = SVC(kernel='linear', random_state=241)\n",
    "clf1.fit(x, y)\n",
    "clf1.coef_"
   ],
   "cell_type": "code",
   "outputs": [
    {
     "output_type": "execute_result",
     "data": {
      "text/plain": "<1x28382 sparse matrix of type '<class 'numpy.float64'>'\n\twith 18404 stored elements in Compressed Sparse Row format>"
     },
     "metadata": {},
     "execution_count": 25
    }
   ],
   "metadata": {},
   "execution_count": 25
  },
  {
   "source": [
    "coefs = abs(clf1.coef_.todense().A1)\n",
    "coefs = np.argsort(coefs)[::-1]\n",
    "coefs"
   ],
   "cell_type": "code",
   "outputs": [
    {
     "output_type": "execute_result",
     "data": {
      "text/plain": "array([24019, 12871,  5088, ...,  9144, 21437,  7801], dtype=int64)"
     },
     "metadata": {},
     "execution_count": 31
    }
   ],
   "metadata": {},
   "execution_count": 31
  },
  {
   "source": [
    "words = vectorizer.get_feature_names()\n",
    "ans = [words[i] for i in coefs]\n",
    "ans"
   ],
   "cell_type": "code",
   "outputs": [
    {
     "output_type": "execute_result",
     "data": {
      "text/plain": "['space',\n 'god',\n 'atheism',\n 'atheists',\n 'moon',\n 'sky',\n 'religion',\n 'bible',\n 'keith',\n 'sci',\n 'cobb',\n 'nasa',\n 'religious',\n 'mathew',\n 'edu',\n 'halat',\n 'islamic',\n 'unm',\n 'is',\n 'dc',\n 'jesus',\n 'sgi',\n 'launch',\n 'wrote',\n 'christian',\n 'pope',\n 'gamma',\n 'ca',\n 're',\n 'he',\n 'ether',\n 'sandvik',\n 'death',\n 'rushdie',\n 'alaska',\n 'uk',\n 'rice',\n 'people',\n 'henry',\n 'nick',\n 'temple',\n 'access',\n 'po',\n 'asimov',\n 'psilink',\n 'dietz',\n 'digex',\n 'perry',\n 'penalty',\n 'monash',\n 'tammy',\n 'livesey',\n 'br',\n 'post',\n 'fish',\n 'tek',\n 'shuttle',\n 'scouts',\n 'morality',\n 'okcforum',\n 'jaeger',\n 'rochester',\n 'enviroleague',\n 'jim',\n 'kmr4',\n 'rockets',\n 'crchh410',\n 'atheist',\n 'alt',\n 'scharle',\n 'koresh',\n 'aurora',\n 'of',\n 'satellite',\n 'their',\n 'cs',\n 'portal',\n 'orbit',\n 'rh',\n 'maddi',\n 'internet',\n 'new',\n 'wisc',\n 'astronomy',\n 'jon',\n 'loss',\n 'spacecraft',\n 'christianity',\n 'net',\n 'planets',\n 'rocket',\n 'islam',\n 'say',\n 'strom',\n 'thoughts',\n 'psuvm',\n 'maharishi',\n 'berkeley',\n 'ece',\n 'wingate',\n 'tom',\n 'gregg',\n 'ucsc',\n 'mars',\n 'data',\n 'caltech',\n 'not',\n 'hell',\n 'your',\n 'andrew',\n 'swarthmore',\n 'breathing',\n 'program',\n 'mormon',\n 'accelerations',\n 'all',\n 'boy',\n 'palmer',\n 'benedikt',\n 'mantis',\n 'mccullou',\n 'nicho',\n 'timmbake',\n 'mcl',\n 'horizon',\n 'osrhe',\n 'writes',\n 'boeing',\n 'colostate',\n 'light',\n 'mccall',\n 'gov',\n 'convex',\n 'has',\n 'kent',\n 'geoff',\n 'arromdee',\n 'toronto',\n 'believing',\n 'companies',\n 'george',\n 'thanks',\n 'jews',\n 'bell',\n 'pat',\n 'software',\n 'who',\n 'seems',\n 'company',\n 'bmd',\n 'darwin',\n 'wpd',\n 'solntze',\n 'work',\n 'hitler',\n 'trw',\n 'wwc',\n 'get',\n 'psu',\n 'northern',\n 'ocis',\n 'gulf',\n 'unix',\n 'timmons',\n 'qpliu',\n 'marketing',\n 'verdix',\n 'dreams',\n '12',\n 'because',\n 'iraq',\n 'teflon',\n 'hausmann',\n 'ti',\n 'risk',\n 'ed',\n 'gif',\n 'moral',\n 'colorado',\n 'hst',\n 'astro',\n 'uow',\n 'objective',\n 'healy',\n 'dsinc',\n 'cost',\n 'jsn104',\n 'life',\n 'newsreader',\n 'carina',\n 'vonnegut',\n 'larson',\n 'very',\n 'funding',\n 'secular',\n 'books',\n 'oulu',\n 'government',\n 'forgach',\n 'genocide',\n 'math',\n 'bake',\n 'batman',\n 'planet',\n 'beliefs',\n 'gary',\n 'harvard',\n 'frank',\n '2000',\n 'allen',\n 'mcelwaine',\n 'free',\n 'dark',\n 'cwru',\n 'plane',\n 'bursters',\n 'dseg',\n 'priest',\n 'allah',\n 'amusing',\n 'jewish',\n 'compaq',\n 'engines',\n 'p00261',\n 'dn',\n 'school',\n 'twisto',\n 'edm',\n 'graham',\n 'mikec',\n 'you',\n 'wright',\n 'atmosphere',\n 'satellites',\n 'truth',\n 'vnet',\n 'xpresso',\n 'oz',\n 'mayo',\n 'rights',\n 'project',\n 'women',\n 'sex',\n 'jupiter',\n 'vehicle',\n 'gas',\n 'triton',\n 'deleted',\n 'spencer',\n 'oser',\n 'wustl',\n 'lots',\n 'otago',\n 'evolution',\n 'peace',\n 'yet',\n 'nattress',\n 'comet',\n 'gps',\n 'command',\n 'telescope',\n 'bobbe',\n 'vice',\n 'lsd',\n 'east',\n 'cray',\n 'planetary',\n 'lunatic',\n 'cain',\n 'dennis',\n 'lord',\n 'pww',\n 'cso',\n 'high',\n 'information',\n 'read',\n 'men',\n 'newton',\n 'max',\n 'cjf',\n 'jbh55289',\n 'bobby',\n 'unisa',\n 'indeed',\n 'macalstr',\n 'following',\n 'respond',\n 'cruel',\n 'bsa',\n 'wallacen',\n 'ryan',\n 'solar',\n 'rest',\n 'dropped',\n 'brian',\n 'ingles',\n 'big',\n 'uta',\n 'utarlg',\n 'she',\n 'cb',\n 'madhaus',\n 'false',\n 'minster',\n 'walla',\n 'keithley',\n 'mayne',\n 'origins',\n 'kaflowitz',\n 'liar',\n 'year',\n 'clarke',\n 'russian',\n 'large',\n 'him',\n 'bear',\n 'scheduled',\n 'darice',\n 'yoyo',\n 'gans',\n 'juliet',\n 'contradictions',\n 'lippard',\n 'games',\n 'degrees',\n 'society',\n 'proton',\n 'yamauchi',\n 'holy',\n 'drag',\n 'dean',\n 'se',\n 'thank',\n 'values',\n 'stsci',\n 'greg',\n 'acooper',\n 'advance',\n 'challenges',\n 'hate',\n 'dan',\n 'karner',\n 'flight',\n 'binglis',\n 'burden',\n '500',\n 'observatory',\n 'small',\n 'starving',\n 'charley',\n 'take',\n 'cc',\n 'metaphor',\n 'dirac',\n 'doug',\n 'detectors',\n 'iroquois',\n 'called',\n 'biblical',\n 'ufl',\n 'edwin',\n 'beauchaine',\n 'centaur',\n 'ucsb',\n 'technolgy',\n 'york',\n 'down',\n 'do',\n '09',\n 'tin',\n 'mccullough',\n 'usc',\n 'lunar',\n 'been',\n 'family',\n 'eos',\n 'sorry',\n 'bs',\n 'taste',\n 'iastate',\n 'pgf',\n 'reston',\n 'me',\n 'aaron',\n 'wanted',\n 'agnostics',\n 'mercury',\n 'pluto',\n 'vatican',\n 'ni',\n 'nsmca',\n 'stamp',\n 'naren',\n 'themselves',\n 'kadie',\n 'health',\n 'sunrise',\n 'nanci',\n 'i3150101',\n 'dbstu1',\n 'quran',\n 'conner',\n 'maine',\n 'cacs',\n 'shit',\n 'galaxy',\n 'religions',\n 'petri',\n 'schneider',\n 'josh',\n 'rz',\n 'alphacdc',\n 'scicom',\n 'gatech',\n 'jet',\n 'shi',\n 'lis',\n 'alexia',\n 'germany',\n 've',\n 'ultb',\n 'rit',\n 'isc',\n 'carpenter',\n 'globe',\n 'political',\n 'pooh',\n 'healta',\n 'via',\n 'clements',\n 'bursts',\n 'burst',\n 'design',\n 'population',\n 'ke4zv',\n 'caused',\n 'atoms',\n 'clementine',\n 'fred',\n 'cash',\n 'vandalizing',\n 'on',\n 'ites',\n 'tektronix',\n 'zoo',\n 'luke',\n 'mike',\n 'word',\n 'wonder',\n 'griffin',\n 'would',\n 'cmu',\n 'boom',\n 'helsinki',\n 'address',\n 'looking',\n 'austin',\n 'crime',\n 'evidence',\n 'texts',\n 'keys',\n 'book',\n 'wesleyan',\n 'might',\n 'tu',\n 'bears',\n 'mail',\n 'envelope',\n 'temperature',\n 'gillow',\n 'qur',\n 'trust',\n 'astronomers',\n 'ftp',\n 'walker',\n 'univ',\n 'cold',\n 'john',\n 'amateur',\n 'liberty',\n 'my',\n '22',\n 'bcash',\n 'wrong',\n 'knowles',\n 'johnchad',\n 'lockheed',\n 'ico',\n 'advertising',\n 'prb',\n 'organizations',\n 'kings',\n 'mangoe',\n 'sol1',\n 'usl',\n 'articles',\n 'places',\n 'into',\n 'pepke',\n 'sjs28257',\n 'stelter',\n 'mccreary',\n 'overhead',\n 'job',\n 'keywords',\n 'arnold',\n 'jsc',\n 'fs7',\n 'international',\n 'an',\n 'nus',\n 'center',\n 'id',\n 'dgraham',\n 'oxygen',\n '97',\n 'arizona',\n 'agree',\n '21',\n 'about',\n 'spacsun',\n 'images',\n 'earth',\n 'range',\n 'article',\n 'buphy',\n '107',\n 'hostile',\n 'written',\n 'eng',\n 'ol',\n 'combo',\n 'bissell',\n 'theist',\n 'fall',\n 'maryland',\n 'mark',\n 'text',\n 'org',\n 'orion',\n 'smiley',\n 'force',\n 'rb',\n 'available',\n 'user',\n 'sq',\n 'abomination',\n 'abyss',\n 'weightlessness',\n 'wouldn',\n 'doesn',\n 'billboard',\n 'ssto',\n 'whirrr',\n 'war',\n 'proof',\n 'saturn',\n 'fraering',\n 'frame',\n 'sat',\n 'office',\n 'we',\n 'contradictory',\n 'allan',\n 'uxa',\n 'fax',\n 'cnsvax',\n 'uwec',\n 'definition',\n 'uranium',\n 'americans',\n 'european',\n 'indyvax',\n '1993apr15',\n 'steinly',\n 'topaz',\n 'conditions',\n 'punishment',\n 'distance',\n 'christians',\n 'uucp',\n 'ray',\n 'mission',\n 'smm125',\n 'were',\n 'commercial',\n 'figures',\n '10',\n 'snake2',\n 'kv07',\n 'warren',\n 'vonroeschlaub',\n 'newnham',\n 'usatoday',\n 'interest',\n 'jefferson',\n 'enkidu',\n 'agrino',\n 'mic',\n 'edge',\n 'log',\n 'std',\n 'ajjb',\n 'rosenau',\n 'replace',\n 'begat',\n 'jbrown',\n 'oath',\n 'distribution',\n 'off',\n 'infinite',\n 'more',\n 'cco',\n 'size',\n '9051467f',\n 'brendan',\n 'exactly',\n 'nm0w',\n 'bounce',\n 'motto',\n 'am',\n 'file',\n 'jhu',\n 'bobo',\n 'concordia',\n 'nyx',\n 'jpl',\n 'social',\n 'wonderfull',\n 'keeping',\n 'flights',\n 'engin',\n 'stars',\n 'consciousness',\n 'thejester',\n 'si',\n 'dong',\n 'motion',\n 'wondering',\n 'szabo',\n 'mccolm',\n 'term',\n 'fluid',\n 'instance',\n 'someone',\n 'reference',\n 'leland',\n 'latech',\n 'engr',\n 'aviation',\n 'bnsc',\n 'rl',\n 'money',\n 'may',\n 'daughters',\n 'drickel',\n 'happen',\n 'flb',\n 'oort',\n 'james',\n 'reality',\n 'west',\n 'nicoll',\n 'wats',\n 'ryukoku',\n 'opinions',\n 'department',\n 'logic',\n 'chip',\n 'lmh',\n 'henling',\n 'noonan',\n 'venus',\n 'ces',\n 'mozumder',\n 'brunel',\n 'marshall',\n 'need',\n 'just',\n 'jennise',\n 'dgi',\n 'page',\n 'station',\n 'saw',\n 'bil',\n 'moscow',\n 'postings',\n 'message',\n 'adelaide',\n 'mellish',\n 'laboratory',\n 'philosophers',\n 'teacher',\n 'weather',\n 'for',\n 'murder',\n 'lamontg',\n 'iupui',\n 'court',\n 'iran',\n 'basis',\n 'mentorg',\n 'split',\n 'nickname',\n 'are',\n 'alternative',\n 'test',\n 'christ',\n 'punisher',\n 'oxford',\n 'b12',\n 'skat',\n 'hopkins',\n 'smart',\n 'galileo',\n 'mine',\n 'hga',\n 'notre',\n 'dame',\n '76',\n 'risen',\n 'khan',\n 'ucdavis',\n 'beauty',\n 'twist',\n 'graeme',\n 'newcastle',\n 'cannot',\n 'finally',\n 'sg',\n 'field',\n 'titan',\n 'fools',\n 'chrisj',\n 'russell',\n 'andrews',\n 'mksol',\n 'videocart',\n 'sender',\n '18084tm',\n 'msu',\n 'arguments',\n 'van',\n 'dog',\n 'purpose',\n 'market',\n 'pure',\n 'creator',\n 'nuclear',\n 'acceptable',\n 'liquid',\n 'bar',\n 'created',\n 'putt',\n 'aero',\n '00',\n 'hq',\n 'swear',\n 'aircraft',\n 'ross',\n 'habitable',\n 'citizenship',\n 'exploration',\n 'become',\n 'mining',\n 'per',\n 'catholic',\n 'california',\n 'shakala',\n 'don',\n 'emx',\n 'surface',\n 'power',\n 'christensen',\n 'chocolate',\n 'adam',\n 'mistake',\n 'weapons',\n 'alien',\n 'sort',\n 'chade',\n 'meng',\n 'dcs',\n 'oil',\n 'course',\n 'lower',\n 'freed',\n 'nathan',\n 'wallace',\n 'engineering',\n 'claim',\n 'prism',\n 'costs',\n 'send',\n 'when',\n 'bombs',\n 'way',\n 'uwo',\n 'tafe',\n 'scouting',\n 'as',\n 'mottos',\n 'nyeda',\n 'nye',\n 'rocketry',\n 'bookstore',\n 'oh',\n 'antichrist',\n 'insist',\n 'nickh',\n 'long',\n 'andy',\n 'his',\n 'rand',\n 'investment',\n 'star',\n 'bby',\n 'turkey',\n 'perky',\n 'unicorns',\n 'eagle',\n 'land',\n 'nations',\n 'go',\n 'noao',\n 'nd',\n 'lukasiewicz',\n 'drawn',\n 'com',\n 'young',\n 'enough',\n 'currently',\n 'schiewer',\n '45g',\n 'scl',\n 'skybridge',\n 'individual',\n 'letters',\n 'bone',\n 'disk',\n 'words',\n 'fuzzy',\n 'uni',\n 'writings',\n 'interested',\n 'pink',\n 'interpretation',\n 'choice',\n 'itc',\n 'sounds',\n 'woman',\n 'mary',\n 'poori',\n 'efforts',\n 'hebrew',\n 'image',\n 'nosubdomain',\n 'nodomain',\n 'umich',\n 'arabia',\n 'reading',\n 'visix',\n 'nicknames',\n 'ufnmr6',\n 'tianity',\n 'jmcocker',\n 'wawers',\n 'muslims',\n 'night',\n 'projects',\n 'washington',\n 'penn',\n 'training',\n 'from',\n 'request',\n 'csugrad',\n 'click',\n 'loral',\n 'knox',\n 'shearman',\n 'weeks',\n 'lick',\n 'sunset',\n 'wdwells',\n 'christen',\n 'tyre',\n 'often',\n 'vulcan',\n '50',\n 'hertz',\n 'direction',\n 'krumins',\n 'vt',\n 'launched',\n 'over',\n 'russia',\n 'vinayak',\n 'vdp',\n 'lawrence',\n 'sec',\n 'church',\n 'freedom',\n 'compromise',\n 'low',\n 'jenny',\n 'darwinners',\n 'acceleration',\n 'sinners',\n 'management',\n 'orbital',\n 'babcock',\n 'danb',\n 'cohen',\n '1993apr16',\n 'those',\n 'nicholls',\n 'bnr',\n 'week',\n 'battin',\n 'antioc',\n 'antioch',\n 'diversity',\n 'structure',\n 'tan',\n 'cbnewsj',\n 'behavior',\n 'su',\n 'lie',\n 'muslilams',\n 'dekorte',\n 'phantom',\n 'lle',\n 'shaped',\n 'cfa',\n 'billion',\n 'shamim',\n 'mean',\n 'braunschweig',\n 'freemasonry',\n 'scout',\n 'jonathan',\n 'native',\n 'stage',\n 'noticed',\n 'later',\n 'payload',\n 'media',\n 'muslim',\n 'mile',\n 'air',\n 'gck',\n 'consensual',\n 'kozlowski',\n 'segundo',\n 'missions',\n 'theism',\n 'area',\n 'olsen',\n 'instruments',\n 'wampyr',\n 'philosophy',\n 'beam',\n 'vaughan',\n 'alan',\n 'placed',\n 'gay',\n 'piper',\n 'nss',\n 'ctron',\n 'wells',\n 'youth',\n 'sentence',\n '973',\n 'sold',\n 'kant',\n 'flame',\n 'nc',\n 'wasn',\n 'fuller',\n 'must',\n 'testimony',\n 'vax1',\n 'genetic',\n 'so',\n 'satanic',\n '_______________________________________________________________________________',\n 'geocentric',\n 'att',\n 'journal',\n 'haines',\n 'fermi',\n 'wraith',\n '47',\n 'heaven',\n 'higgins',\n 'iti',\n 'relaxing',\n 'pasadena',\n 'sig',\n 'srl03',\n ...]"
     },
     "metadata": {},
     "execution_count": 32
    }
   ],
   "metadata": {},
   "execution_count": 32
  },
  {
   "cell_type": "code",
   "execution_count": null,
   "metadata": {},
   "outputs": [],
   "source": []
  },
  {
   "source": [
    "gs.get_params()"
   ],
   "cell_type": "code",
   "outputs": [
    {
     "output_type": "execute_result",
     "data": {
      "text/plain": "{'cv': KFold(n_splits=5, random_state=241, shuffle=True),\n 'error_score': 'raise-deprecating',\n 'estimator__C': 1.0,\n 'estimator__cache_size': 200,\n 'estimator__class_weight': None,\n 'estimator__coef0': 0.0,\n 'estimator__decision_function_shape': 'ovr',\n 'estimator__degree': 3,\n 'estimator__gamma': 'auto_deprecated',\n 'estimator__kernel': 'linear',\n 'estimator__max_iter': -1,\n 'estimator__probability': False,\n 'estimator__random_state': 241,\n 'estimator__shrinking': True,\n 'estimator__tol': 0.001,\n 'estimator__verbose': False,\n 'estimator': SVC(C=1.0, cache_size=200, class_weight=None, coef0=0.0,\n     decision_function_shape='ovr', degree=3, gamma='auto_deprecated',\n     kernel='linear', max_iter=-1, probability=False, random_state=241,\n     shrinking=True, tol=0.001, verbose=False),\n 'iid': 'warn',\n 'n_jobs': None,\n 'param_grid': {'C': array([1.e-05, 1.e-04, 1.e-03, 1.e-02, 1.e-01, 1.e+00, 1.e+01, 1.e+02,\n         1.e+03, 1.e+04, 1.e+05])},\n 'pre_dispatch': '2*n_jobs',\n 'refit': True,\n 'return_train_score': False,\n 'scoring': 'accuracy',\n 'verbose': 0}"
     },
     "metadata": {},
     "execution_count": 24
    }
   ],
   "metadata": {},
   "execution_count": 24
  }
 ]
}