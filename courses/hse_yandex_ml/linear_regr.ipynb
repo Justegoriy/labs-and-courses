{
 "nbformat": 4,
 "nbformat_minor": 2,
 "metadata": {
  "language_info": {
   "name": "python",
   "codemirror_mode": {
    "name": "ipython",
    "version": 3
   },
   "version": "3.7.4-final"
  },
  "orig_nbformat": 2,
  "file_extension": ".py",
  "mimetype": "text/x-python",
  "name": "python",
  "npconvert_exporter": "python",
  "pygments_lexer": "ipython3",
  "version": 3,
  "kernelspec": {
   "name": "python37464bitbaseconda41c389dc164c4d56b90701ddd69ff165",
   "display_name": "Python 3.7.4 64-bit ('base': conda)"
  }
 },
 "cells": [
  {
   "cell_type": "code",
   "execution_count": 7,
   "metadata": {},
   "outputs": [],
   "source": [
    "import pandas as pd\n",
    "from sklearn.linear_model import Ridge\n",
    "from sklearn.feature_extraction.text import TfidfVectorizer\n",
    "from sklearn.feature_extraction import DictVectorizer"
   ]
  },
  {
   "cell_type": "code",
   "execution_count": 8,
   "metadata": {},
   "outputs": [
    {
     "data": {
      "text/html": "<div>\n<style scoped>\n    .dataframe tbody tr th:only-of-type {\n        vertical-align: middle;\n    }\n\n    .dataframe tbody tr th {\n        vertical-align: top;\n    }\n\n    .dataframe thead th {\n        text-align: right;\n    }\n</style>\n<table border=\"1\" class=\"dataframe\">\n  <thead>\n    <tr style=\"text-align: right;\">\n      <th></th>\n      <th>FullDescription</th>\n      <th>LocationNormalized</th>\n      <th>ContractTime</th>\n      <th>SalaryNormalized</th>\n    </tr>\n  </thead>\n  <tbody>\n    <tr>\n      <td>0</td>\n      <td>International Sales Manager London ****k  ****...</td>\n      <td>London</td>\n      <td>permanent</td>\n      <td>33000</td>\n    </tr>\n    <tr>\n      <td>1</td>\n      <td>An ideal opportunity for an individual that ha...</td>\n      <td>London</td>\n      <td>permanent</td>\n      <td>50000</td>\n    </tr>\n    <tr>\n      <td>2</td>\n      <td>Online Content and Brand Manager// Luxury Reta...</td>\n      <td>South East London</td>\n      <td>permanent</td>\n      <td>40000</td>\n    </tr>\n    <tr>\n      <td>3</td>\n      <td>A great local marketleader is seeking a perman...</td>\n      <td>Dereham</td>\n      <td>permanent</td>\n      <td>22500</td>\n    </tr>\n    <tr>\n      <td>4</td>\n      <td>Registered Nurse / RGN  Nursing Home for Young...</td>\n      <td>Sutton Coldfield</td>\n      <td>NaN</td>\n      <td>20355</td>\n    </tr>\n    <tr>\n      <td>...</td>\n      <td>...</td>\n      <td>...</td>\n      <td>...</td>\n      <td>...</td>\n    </tr>\n    <tr>\n      <td>59995</td>\n      <td>As a result of continued growth, First Class S...</td>\n      <td>Whitley Bay</td>\n      <td>contract</td>\n      <td>26400</td>\n    </tr>\n    <tr>\n      <td>59996</td>\n      <td>PHP / MVC Web Developer  MacclesfieldCirca ***...</td>\n      <td>Macclesfield</td>\n      <td>permanent</td>\n      <td>26000</td>\n    </tr>\n    <tr>\n      <td>59997</td>\n      <td>Staff Nurse, Nursing Home, Baldock White Recru...</td>\n      <td>Baldock</td>\n      <td>NaN</td>\n      <td>24500</td>\n    </tr>\n    <tr>\n      <td>59998</td>\n      <td>This is one of the best agency side opportunit...</td>\n      <td>The City</td>\n      <td>permanent</td>\n      <td>65000</td>\n    </tr>\n    <tr>\n      <td>59999</td>\n      <td>Must have CSCS card must have asbestos awarene...</td>\n      <td>London</td>\n      <td>NaN</td>\n      <td>23040</td>\n    </tr>\n  </tbody>\n</table>\n<p>60000 rows × 4 columns</p>\n</div>",
      "text/plain": "                                         FullDescription LocationNormalized  \\\n0      International Sales Manager London ****k  ****...             London   \n1      An ideal opportunity for an individual that ha...             London   \n2      Online Content and Brand Manager// Luxury Reta...  South East London   \n3      A great local marketleader is seeking a perman...            Dereham   \n4      Registered Nurse / RGN  Nursing Home for Young...   Sutton Coldfield   \n...                                                  ...                ...   \n59995  As a result of continued growth, First Class S...        Whitley Bay   \n59996  PHP / MVC Web Developer  MacclesfieldCirca ***...       Macclesfield   \n59997  Staff Nurse, Nursing Home, Baldock White Recru...            Baldock   \n59998  This is one of the best agency side opportunit...           The City   \n59999  Must have CSCS card must have asbestos awarene...             London   \n\n      ContractTime  SalaryNormalized  \n0        permanent             33000  \n1        permanent             50000  \n2        permanent             40000  \n3        permanent             22500  \n4              NaN             20355  \n...            ...               ...  \n59995     contract             26400  \n59996    permanent             26000  \n59997          NaN             24500  \n59998    permanent             65000  \n59999          NaN             23040  \n\n[60000 rows x 4 columns]"
     },
     "execution_count": 8,
     "metadata": {},
     "output_type": "execute_result"
    }
   ],
   "source": [
    "train = pd.read_csv('salary_train.csv')\n",
    "test = pd.read_csv('salary_test.csv')\n",
    "train"
   ]
  },
  {
   "cell_type": "code",
   "execution_count": 9,
   "metadata": {},
   "outputs": [
    {
     "data": {
      "text/html": "<div>\n<style scoped>\n    .dataframe tbody tr th:only-of-type {\n        vertical-align: middle;\n    }\n\n    .dataframe tbody tr th {\n        vertical-align: top;\n    }\n\n    .dataframe thead th {\n        text-align: right;\n    }\n</style>\n<table border=\"1\" class=\"dataframe\">\n  <thead>\n    <tr style=\"text-align: right;\">\n      <th></th>\n      <th>FullDescription</th>\n      <th>LocationNormalized</th>\n      <th>ContractTime</th>\n      <th>SalaryNormalized</th>\n    </tr>\n  </thead>\n  <tbody>\n    <tr>\n      <td>0</td>\n      <td>We currently have a vacancy for an HR Project ...</td>\n      <td>Milton Keynes</td>\n      <td>contract</td>\n      <td>NaN</td>\n    </tr>\n    <tr>\n      <td>1</td>\n      <td>A Web developer opportunity has arisen with an...</td>\n      <td>Manchester</td>\n      <td>permanent</td>\n      <td>NaN</td>\n    </tr>\n  </tbody>\n</table>\n</div>",
      "text/plain": "                                     FullDescription LocationNormalized  \\\n0  We currently have a vacancy for an HR Project ...      Milton Keynes   \n1  A Web developer opportunity has arisen with an...         Manchester   \n\n  ContractTime  SalaryNormalized  \n0     contract               NaN  \n1    permanent               NaN  "
     },
     "execution_count": 9,
     "metadata": {},
     "output_type": "execute_result"
    }
   ],
   "source": [
    "test"
   ]
  },
  {
   "cell_type": "code",
   "execution_count": 10,
   "metadata": {},
   "outputs": [
    {
     "data": {
      "text/html": "<div>\n<style scoped>\n    .dataframe tbody tr th:only-of-type {\n        vertical-align: middle;\n    }\n\n    .dataframe tbody tr th {\n        vertical-align: top;\n    }\n\n    .dataframe thead th {\n        text-align: right;\n    }\n</style>\n<table border=\"1\" class=\"dataframe\">\n  <thead>\n    <tr style=\"text-align: right;\">\n      <th></th>\n      <th>FullDescription</th>\n      <th>LocationNormalized</th>\n      <th>ContractTime</th>\n      <th>SalaryNormalized</th>\n    </tr>\n  </thead>\n  <tbody>\n    <tr>\n      <td>0</td>\n      <td>international sales manager london ****k  ****...</td>\n      <td>London</td>\n      <td>permanent</td>\n      <td>33000</td>\n    </tr>\n    <tr>\n      <td>1</td>\n      <td>an ideal opportunity for an individual that ha...</td>\n      <td>London</td>\n      <td>permanent</td>\n      <td>50000</td>\n    </tr>\n    <tr>\n      <td>2</td>\n      <td>online content and brand manager// luxury reta...</td>\n      <td>South East London</td>\n      <td>permanent</td>\n      <td>40000</td>\n    </tr>\n    <tr>\n      <td>3</td>\n      <td>a great local marketleader is seeking a perman...</td>\n      <td>Dereham</td>\n      <td>permanent</td>\n      <td>22500</td>\n    </tr>\n    <tr>\n      <td>4</td>\n      <td>registered nurse / rgn  nursing home for young...</td>\n      <td>Sutton Coldfield</td>\n      <td>NaN</td>\n      <td>20355</td>\n    </tr>\n    <tr>\n      <td>...</td>\n      <td>...</td>\n      <td>...</td>\n      <td>...</td>\n      <td>...</td>\n    </tr>\n    <tr>\n      <td>59995</td>\n      <td>as a result of continued growth, first class s...</td>\n      <td>Whitley Bay</td>\n      <td>contract</td>\n      <td>26400</td>\n    </tr>\n    <tr>\n      <td>59996</td>\n      <td>php / mvc web developer  macclesfieldcirca ***...</td>\n      <td>Macclesfield</td>\n      <td>permanent</td>\n      <td>26000</td>\n    </tr>\n    <tr>\n      <td>59997</td>\n      <td>staff nurse, nursing home, baldock white recru...</td>\n      <td>Baldock</td>\n      <td>NaN</td>\n      <td>24500</td>\n    </tr>\n    <tr>\n      <td>59998</td>\n      <td>this is one of the best agency side opportunit...</td>\n      <td>The City</td>\n      <td>permanent</td>\n      <td>65000</td>\n    </tr>\n    <tr>\n      <td>59999</td>\n      <td>must have cscs card must have asbestos awarene...</td>\n      <td>London</td>\n      <td>NaN</td>\n      <td>23040</td>\n    </tr>\n  </tbody>\n</table>\n<p>60000 rows × 4 columns</p>\n</div>",
      "text/plain": "                                         FullDescription LocationNormalized  \\\n0      international sales manager london ****k  ****...             London   \n1      an ideal opportunity for an individual that ha...             London   \n2      online content and brand manager// luxury reta...  South East London   \n3      a great local marketleader is seeking a perman...            Dereham   \n4      registered nurse / rgn  nursing home for young...   Sutton Coldfield   \n...                                                  ...                ...   \n59995  as a result of continued growth, first class s...        Whitley Bay   \n59996  php / mvc web developer  macclesfieldcirca ***...       Macclesfield   \n59997  staff nurse, nursing home, baldock white recru...            Baldock   \n59998  this is one of the best agency side opportunit...           The City   \n59999  must have cscs card must have asbestos awarene...             London   \n\n      ContractTime  SalaryNormalized  \n0        permanent             33000  \n1        permanent             50000  \n2        permanent             40000  \n3        permanent             22500  \n4              NaN             20355  \n...            ...               ...  \n59995     contract             26400  \n59996    permanent             26000  \n59997          NaN             24500  \n59998    permanent             65000  \n59999          NaN             23040  \n\n[60000 rows x 4 columns]"
     },
     "execution_count": 10,
     "metadata": {},
     "output_type": "execute_result"
    }
   ],
   "source": [
    "train['FullDescription'] = train.FullDescription.str.lower()\n",
    "train"
   ]
  },
  {
   "cell_type": "code",
   "execution_count": 11,
   "metadata": {},
   "outputs": [
    {
     "data": {
      "text/html": "<div>\n<style scoped>\n    .dataframe tbody tr th:only-of-type {\n        vertical-align: middle;\n    }\n\n    .dataframe tbody tr th {\n        vertical-align: top;\n    }\n\n    .dataframe thead th {\n        text-align: right;\n    }\n</style>\n<table border=\"1\" class=\"dataframe\">\n  <thead>\n    <tr style=\"text-align: right;\">\n      <th></th>\n      <th>FullDescription</th>\n      <th>LocationNormalized</th>\n      <th>ContractTime</th>\n      <th>SalaryNormalized</th>\n    </tr>\n  </thead>\n  <tbody>\n    <tr>\n      <td>0</td>\n      <td>international sales manager london     k      ...</td>\n      <td>London</td>\n      <td>permanent</td>\n      <td>33000</td>\n    </tr>\n    <tr>\n      <td>1</td>\n      <td>an ideal opportunity for an individual that ha...</td>\n      <td>London</td>\n      <td>permanent</td>\n      <td>50000</td>\n    </tr>\n    <tr>\n      <td>2</td>\n      <td>online content and brand manager   luxury reta...</td>\n      <td>South East London</td>\n      <td>permanent</td>\n      <td>40000</td>\n    </tr>\n    <tr>\n      <td>3</td>\n      <td>a great local marketleader is seeking a perman...</td>\n      <td>Dereham</td>\n      <td>permanent</td>\n      <td>22500</td>\n    </tr>\n    <tr>\n      <td>4</td>\n      <td>registered nurse   rgn  nursing home for young...</td>\n      <td>Sutton Coldfield</td>\n      <td>NaN</td>\n      <td>20355</td>\n    </tr>\n    <tr>\n      <td>...</td>\n      <td>...</td>\n      <td>...</td>\n      <td>...</td>\n      <td>...</td>\n    </tr>\n    <tr>\n      <td>59995</td>\n      <td>as a result of continued growth  first class s...</td>\n      <td>Whitley Bay</td>\n      <td>contract</td>\n      <td>26400</td>\n    </tr>\n    <tr>\n      <td>59996</td>\n      <td>php   mvc web developer  macclesfieldcirca    ...</td>\n      <td>Macclesfield</td>\n      <td>permanent</td>\n      <td>26000</td>\n    </tr>\n    <tr>\n      <td>59997</td>\n      <td>staff nurse  nursing home  baldock white recru...</td>\n      <td>Baldock</td>\n      <td>NaN</td>\n      <td>24500</td>\n    </tr>\n    <tr>\n      <td>59998</td>\n      <td>this is one of the best agency side opportunit...</td>\n      <td>The City</td>\n      <td>permanent</td>\n      <td>65000</td>\n    </tr>\n    <tr>\n      <td>59999</td>\n      <td>must have cscs card must have asbestos awarene...</td>\n      <td>London</td>\n      <td>NaN</td>\n      <td>23040</td>\n    </tr>\n  </tbody>\n</table>\n<p>60000 rows × 4 columns</p>\n</div>",
      "text/plain": "                                         FullDescription LocationNormalized  \\\n0      international sales manager london     k      ...             London   \n1      an ideal opportunity for an individual that ha...             London   \n2      online content and brand manager   luxury reta...  South East London   \n3      a great local marketleader is seeking a perman...            Dereham   \n4      registered nurse   rgn  nursing home for young...   Sutton Coldfield   \n...                                                  ...                ...   \n59995  as a result of continued growth  first class s...        Whitley Bay   \n59996  php   mvc web developer  macclesfieldcirca    ...       Macclesfield   \n59997  staff nurse  nursing home  baldock white recru...            Baldock   \n59998  this is one of the best agency side opportunit...           The City   \n59999  must have cscs card must have asbestos awarene...             London   \n\n      ContractTime  SalaryNormalized  \n0        permanent             33000  \n1        permanent             50000  \n2        permanent             40000  \n3        permanent             22500  \n4              NaN             20355  \n...            ...               ...  \n59995     contract             26400  \n59996    permanent             26000  \n59997          NaN             24500  \n59998    permanent             65000  \n59999          NaN             23040  \n\n[60000 rows x 4 columns]"
     },
     "execution_count": 11,
     "metadata": {},
     "output_type": "execute_result"
    }
   ],
   "source": [
    "train['FullDescription'] = train['FullDescription'].replace('[^a-zA-Z0-9]', ' ', regex=True)\n",
    "train"
   ]
  },
  {
   "cell_type": "code",
   "execution_count": 21,
   "metadata": {},
   "outputs": [
    {
     "data": {
      "text/plain": "<60000x22861 sparse matrix of type '<class 'numpy.float64'>'\n\twith 8365759 stored elements in Compressed Sparse Row format>"
     },
     "execution_count": 21,
     "metadata": {},
     "output_type": "execute_result"
    }
   ],
   "source": [
    "vectorizer = TfidfVectorizer()\n",
    "vectorizer.min_df = 5\n",
    "x_train1 = vectorizer.fit_transform(train['FullDescription'])\n",
    "x_train1"
   ]
  },
  {
   "cell_type": "code",
   "execution_count": 22,
   "metadata": {},
   "outputs": [
    {
     "data": {
      "text/plain": "<2x22861 sparse matrix of type '<class 'numpy.float64'>'\n\twith 300 stored elements in Compressed Sparse Row format>"
     },
     "execution_count": 22,
     "metadata": {},
     "output_type": "execute_result"
    }
   ],
   "source": [
    "test['FullDescription'] = test.FullDescription.str.lower()\n",
    "test['FullDescription'] = test['FullDescription'].replace('[^a-zA-Z0-9]', ' ', regex=True)\n",
    "x_test1 = vectorizer.transform(test['FullDescription'])\n",
    "x_test1"
   ]
  },
  {
   "cell_type": "code",
   "execution_count": 19,
   "metadata": {},
   "outputs": [
    {
     "data": {
      "text/html": "<div>\n<style scoped>\n    .dataframe tbody tr th:only-of-type {\n        vertical-align: middle;\n    }\n\n    .dataframe tbody tr th {\n        vertical-align: top;\n    }\n\n    .dataframe thead th {\n        text-align: right;\n    }\n</style>\n<table border=\"1\" class=\"dataframe\">\n  <thead>\n    <tr style=\"text-align: right;\">\n      <th></th>\n      <th>FullDescription</th>\n      <th>LocationNormalized</th>\n      <th>ContractTime</th>\n      <th>SalaryNormalized</th>\n    </tr>\n  </thead>\n  <tbody>\n    <tr>\n      <td>0</td>\n      <td>international sales manager london     k      ...</td>\n      <td>London</td>\n      <td>permanent</td>\n      <td>33000</td>\n    </tr>\n    <tr>\n      <td>1</td>\n      <td>an ideal opportunity for an individual that ha...</td>\n      <td>London</td>\n      <td>permanent</td>\n      <td>50000</td>\n    </tr>\n    <tr>\n      <td>2</td>\n      <td>online content and brand manager   luxury reta...</td>\n      <td>South East London</td>\n      <td>permanent</td>\n      <td>40000</td>\n    </tr>\n    <tr>\n      <td>3</td>\n      <td>a great local marketleader is seeking a perman...</td>\n      <td>Dereham</td>\n      <td>permanent</td>\n      <td>22500</td>\n    </tr>\n    <tr>\n      <td>4</td>\n      <td>registered nurse   rgn  nursing home for young...</td>\n      <td>Sutton Coldfield</td>\n      <td>nan</td>\n      <td>20355</td>\n    </tr>\n    <tr>\n      <td>...</td>\n      <td>...</td>\n      <td>...</td>\n      <td>...</td>\n      <td>...</td>\n    </tr>\n    <tr>\n      <td>59995</td>\n      <td>as a result of continued growth  first class s...</td>\n      <td>Whitley Bay</td>\n      <td>contract</td>\n      <td>26400</td>\n    </tr>\n    <tr>\n      <td>59996</td>\n      <td>php   mvc web developer  macclesfieldcirca    ...</td>\n      <td>Macclesfield</td>\n      <td>permanent</td>\n      <td>26000</td>\n    </tr>\n    <tr>\n      <td>59997</td>\n      <td>staff nurse  nursing home  baldock white recru...</td>\n      <td>Baldock</td>\n      <td>nan</td>\n      <td>24500</td>\n    </tr>\n    <tr>\n      <td>59998</td>\n      <td>this is one of the best agency side opportunit...</td>\n      <td>The City</td>\n      <td>permanent</td>\n      <td>65000</td>\n    </tr>\n    <tr>\n      <td>59999</td>\n      <td>must have cscs card must have asbestos awarene...</td>\n      <td>London</td>\n      <td>nan</td>\n      <td>23040</td>\n    </tr>\n  </tbody>\n</table>\n<p>60000 rows × 4 columns</p>\n</div>",
      "text/plain": "                                         FullDescription LocationNormalized  \\\n0      international sales manager london     k      ...             London   \n1      an ideal opportunity for an individual that ha...             London   \n2      online content and brand manager   luxury reta...  South East London   \n3      a great local marketleader is seeking a perman...            Dereham   \n4      registered nurse   rgn  nursing home for young...   Sutton Coldfield   \n...                                                  ...                ...   \n59995  as a result of continued growth  first class s...        Whitley Bay   \n59996  php   mvc web developer  macclesfieldcirca    ...       Macclesfield   \n59997  staff nurse  nursing home  baldock white recru...            Baldock   \n59998  this is one of the best agency side opportunit...           The City   \n59999  must have cscs card must have asbestos awarene...             London   \n\n      ContractTime  SalaryNormalized  \n0        permanent             33000  \n1        permanent             50000  \n2        permanent             40000  \n3        permanent             22500  \n4              nan             20355  \n...            ...               ...  \n59995     contract             26400  \n59996    permanent             26000  \n59997          nan             24500  \n59998    permanent             65000  \n59999          nan             23040  \n\n[60000 rows x 4 columns]"
     },
     "execution_count": 19,
     "metadata": {},
     "output_type": "execute_result"
    }
   ],
   "source": [
    "train['LocationNormalized'].fillna('nan', inplace=True)\n",
    "train['ContractTime'].fillna('nan', inplace=True)\n",
    "train"
   ]
  },
  {
   "cell_type": "code",
   "execution_count": 27,
   "metadata": {},
   "outputs": [],
   "source": [
    "enc = DictVectorizer()\n",
    "x_train2 = enc.fit_transform(train[['LocationNormalized', 'ContractTime']].to_dict('records'))\n",
    "x_test2 = enc.transform(test[['LocationNormalized', 'ContractTime']].to_dict('records'))"
   ]
  },
  {
   "cell_type": "code",
   "execution_count": 29,
   "metadata": {},
   "outputs": [],
   "source": [
    "from scipy.sparse import hstack"
   ]
  },
  {
   "cell_type": "code",
   "execution_count": 31,
   "metadata": {},
   "outputs": [
    {
     "data": {
      "text/plain": "<60000x24627 sparse matrix of type '<class 'numpy.float64'>'\n\twith 8485759 stored elements in COOrdinate format>"
     },
     "execution_count": 31,
     "metadata": {},
     "output_type": "execute_result"
    }
   ],
   "source": [
    "x_train = hstack((x_train1, x_train2))\n",
    "x_train"
   ]
  },
  {
   "cell_type": "code",
   "execution_count": 32,
   "metadata": {},
   "outputs": [
    {
     "data": {
      "text/plain": "<2x24627 sparse matrix of type '<class 'numpy.float64'>'\n\twith 304 stored elements in COOrdinate format>"
     },
     "execution_count": 32,
     "metadata": {},
     "output_type": "execute_result"
    }
   ],
   "source": [
    "x_test = hstack((x_test1, x_test2))\n",
    "x_test"
   ]
  },
  {
   "cell_type": "code",
   "execution_count": 33,
   "metadata": {},
   "outputs": [
    {
     "data": {
      "text/plain": "0        33000\n1        50000\n2        40000\n3        22500\n4        20355\n         ...  \n59995    26400\n59996    26000\n59997    24500\n59998    65000\n59999    23040\nName: SalaryNormalized, Length: 60000, dtype: int64"
     },
     "execution_count": 33,
     "metadata": {},
     "output_type": "execute_result"
    }
   ],
   "source": [
    "y = train['SalaryNormalized']\n",
    "y"
   ]
  },
  {
   "cell_type": "code",
   "execution_count": 34,
   "metadata": {},
   "outputs": [
    {
     "data": {
      "text/plain": "array([56555.61500155, 37188.32442618])"
     },
     "execution_count": 34,
     "metadata": {},
     "output_type": "execute_result"
    }
   ],
   "source": [
    "model = Ridge(alpha=1, random_state=241)\n",
    "model.fit(x_train, y)\n",
    "model.predict(x_test)"
   ]
  },
  {
   "cell_type": "code",
   "execution_count": null,
   "metadata": {},
   "outputs": [],
   "source": []
  }
 ]
}