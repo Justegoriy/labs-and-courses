{
 "nbformat": 4,
 "nbformat_minor": 2,
 "metadata": {
  "language_info": {
   "name": "python",
   "codemirror_mode": {
    "name": "ipython",
    "version": 3
   },
   "version": "3.7.4"
  },
  "orig_nbformat": 2,
  "file_extension": ".py",
  "mimetype": "text/x-python",
  "name": "python",
  "npconvert_exporter": "python",
  "pygments_lexer": "ipython3",
  "version": 3
 },
 "cells": [
  {
   "cell_type": "code",
   "execution_count": 30,
   "metadata": {},
   "outputs": [],
   "source": [
    "import pandas as pd\n",
    "from sklearn import linear_model, metrics, preprocessing"
   ]
  },
  {
   "cell_type": "code",
   "execution_count": 58,
   "metadata": {},
   "outputs": [
    {
     "data": {
      "text/html": "<div>\n<style scoped>\n    .dataframe tbody tr th:only-of-type {\n        vertical-align: middle;\n    }\n\n    .dataframe tbody tr th {\n        vertical-align: top;\n    }\n\n    .dataframe thead th {\n        text-align: right;\n    }\n</style>\n<table border=\"1\" class=\"dataframe\">\n  <thead>\n    <tr style=\"text-align: right;\">\n      <th></th>\n      <th>0</th>\n      <th>1</th>\n      <th>2</th>\n    </tr>\n  </thead>\n  <tbody>\n    <tr>\n      <td>0</td>\n      <td>-1.0</td>\n      <td>-0.024626</td>\n      <td>1174.600238</td>\n    </tr>\n    <tr>\n      <td>1</td>\n      <td>1.0</td>\n      <td>-0.978058</td>\n      <td>1083.198803</td>\n    </tr>\n    <tr>\n      <td>2</td>\n      <td>-1.0</td>\n      <td>0.314272</td>\n      <td>-1472.977609</td>\n    </tr>\n    <tr>\n      <td>3</td>\n      <td>-1.0</td>\n      <td>0.179752</td>\n      <td>231.017267</td>\n    </tr>\n    <tr>\n      <td>4</td>\n      <td>1.0</td>\n      <td>-1.262544</td>\n      <td>-778.271726</td>\n    </tr>\n    <tr>\n      <td>...</td>\n      <td>...</td>\n      <td>...</td>\n      <td>...</td>\n    </tr>\n    <tr>\n      <td>295</td>\n      <td>-1.0</td>\n      <td>-0.126438</td>\n      <td>1861.564124</td>\n    </tr>\n    <tr>\n      <td>296</td>\n      <td>-1.0</td>\n      <td>-0.490972</td>\n      <td>1815.652064</td>\n    </tr>\n    <tr>\n      <td>297</td>\n      <td>1.0</td>\n      <td>-0.375750</td>\n      <td>-314.074374</td>\n    </tr>\n    <tr>\n      <td>298</td>\n      <td>1.0</td>\n      <td>-1.861976</td>\n      <td>-1083.677679</td>\n    </tr>\n    <tr>\n      <td>299</td>\n      <td>1.0</td>\n      <td>-0.039329</td>\n      <td>-1863.884299</td>\n    </tr>\n  </tbody>\n</table>\n<p>300 rows × 3 columns</p>\n</div>",
      "text/plain": "       0         1            2\n0   -1.0 -0.024626  1174.600238\n1    1.0 -0.978058  1083.198803\n2   -1.0  0.314272 -1472.977609\n3   -1.0  0.179752   231.017267\n4    1.0 -1.262544  -778.271726\n..   ...       ...          ...\n295 -1.0 -0.126438  1861.564124\n296 -1.0 -0.490972  1815.652064\n297  1.0 -0.375750  -314.074374\n298  1.0 -1.861976 -1083.677679\n299  1.0 -0.039329 -1863.884299\n\n[300 rows x 3 columns]"
     },
     "execution_count": 58,
     "metadata": {},
     "output_type": "execute_result"
    }
   ],
   "source": [
    "train = pd.read_csv('train.csv', header=None)\n",
    "train"
   ]
  },
  {
   "cell_type": "code",
   "execution_count": 59,
   "metadata": {},
   "outputs": [
    {
     "data": {
      "text/html": "<div>\n<style scoped>\n    .dataframe tbody tr th:only-of-type {\n        vertical-align: middle;\n    }\n\n    .dataframe tbody tr th {\n        vertical-align: top;\n    }\n\n    .dataframe thead th {\n        text-align: right;\n    }\n</style>\n<table border=\"1\" class=\"dataframe\">\n  <thead>\n    <tr style=\"text-align: right;\">\n      <th></th>\n      <th>0</th>\n      <th>1</th>\n      <th>2</th>\n    </tr>\n  </thead>\n  <tbody>\n    <tr>\n      <td>0</td>\n      <td>-1.0</td>\n      <td>1.651437</td>\n      <td>1337.453826</td>\n    </tr>\n    <tr>\n      <td>1</td>\n      <td>1.0</td>\n      <td>-0.866495</td>\n      <td>1191.232457</td>\n    </tr>\n    <tr>\n      <td>2</td>\n      <td>-1.0</td>\n      <td>0.789828</td>\n      <td>-475.647768</td>\n    </tr>\n    <tr>\n      <td>3</td>\n      <td>-1.0</td>\n      <td>0.179549</td>\n      <td>1959.095353</td>\n    </tr>\n    <tr>\n      <td>4</td>\n      <td>1.0</td>\n      <td>-0.434351</td>\n      <td>568.504207</td>\n    </tr>\n    <tr>\n      <td>...</td>\n      <td>...</td>\n      <td>...</td>\n      <td>...</td>\n    </tr>\n    <tr>\n      <td>195</td>\n      <td>-1.0</td>\n      <td>1.150206</td>\n      <td>2559.850231</td>\n    </tr>\n    <tr>\n      <td>196</td>\n      <td>1.0</td>\n      <td>-0.732462</td>\n      <td>159.748695</td>\n    </tr>\n    <tr>\n      <td>197</td>\n      <td>1.0</td>\n      <td>0.412912</td>\n      <td>-1587.206427</td>\n    </tr>\n    <tr>\n      <td>198</td>\n      <td>-1.0</td>\n      <td>-0.098685</td>\n      <td>682.034777</td>\n    </tr>\n    <tr>\n      <td>199</td>\n      <td>1.0</td>\n      <td>0.760949</td>\n      <td>-1577.448794</td>\n    </tr>\n  </tbody>\n</table>\n<p>200 rows × 3 columns</p>\n</div>",
      "text/plain": "       0         1            2\n0   -1.0  1.651437  1337.453826\n1    1.0 -0.866495  1191.232457\n2   -1.0  0.789828  -475.647768\n3   -1.0  0.179549  1959.095353\n4    1.0 -0.434351   568.504207\n..   ...       ...          ...\n195 -1.0  1.150206  2559.850231\n196  1.0 -0.732462   159.748695\n197  1.0  0.412912 -1587.206427\n198 -1.0 -0.098685   682.034777\n199  1.0  0.760949 -1577.448794\n\n[200 rows x 3 columns]"
     },
     "execution_count": 59,
     "metadata": {},
     "output_type": "execute_result"
    }
   ],
   "source": [
    "test = pd.read_csv('test.csv', header=None)\n",
    "test"
   ]
  },
  {
   "cell_type": "code",
   "execution_count": 65,
   "metadata": {},
   "outputs": [
    {
     "data": {
      "text/html": "<div>\n<style scoped>\n    .dataframe tbody tr th:only-of-type {\n        vertical-align: middle;\n    }\n\n    .dataframe tbody tr th {\n        vertical-align: top;\n    }\n\n    .dataframe thead th {\n        text-align: right;\n    }\n</style>\n<table border=\"1\" class=\"dataframe\">\n  <thead>\n    <tr style=\"text-align: right;\">\n      <th></th>\n      <th>1</th>\n      <th>2</th>\n    </tr>\n  </thead>\n  <tbody>\n    <tr>\n      <td>0</td>\n      <td>-0.024626</td>\n      <td>1174.600238</td>\n    </tr>\n    <tr>\n      <td>1</td>\n      <td>-0.978058</td>\n      <td>1083.198803</td>\n    </tr>\n    <tr>\n      <td>2</td>\n      <td>0.314272</td>\n      <td>-1472.977609</td>\n    </tr>\n    <tr>\n      <td>3</td>\n      <td>0.179752</td>\n      <td>231.017267</td>\n    </tr>\n    <tr>\n      <td>4</td>\n      <td>-1.262544</td>\n      <td>-778.271726</td>\n    </tr>\n    <tr>\n      <td>...</td>\n      <td>...</td>\n      <td>...</td>\n    </tr>\n    <tr>\n      <td>295</td>\n      <td>-0.126438</td>\n      <td>1861.564124</td>\n    </tr>\n    <tr>\n      <td>296</td>\n      <td>-0.490972</td>\n      <td>1815.652064</td>\n    </tr>\n    <tr>\n      <td>297</td>\n      <td>-0.375750</td>\n      <td>-314.074374</td>\n    </tr>\n    <tr>\n      <td>298</td>\n      <td>-1.861976</td>\n      <td>-1083.677679</td>\n    </tr>\n    <tr>\n      <td>299</td>\n      <td>-0.039329</td>\n      <td>-1863.884299</td>\n    </tr>\n  </tbody>\n</table>\n<p>300 rows × 2 columns</p>\n</div>",
      "text/plain": "            1            2\n0   -0.024626  1174.600238\n1   -0.978058  1083.198803\n2    0.314272 -1472.977609\n3    0.179752   231.017267\n4   -1.262544  -778.271726\n..        ...          ...\n295 -0.126438  1861.564124\n296 -0.490972  1815.652064\n297 -0.375750  -314.074374\n298 -1.861976 -1083.677679\n299 -0.039329 -1863.884299\n\n[300 rows x 2 columns]"
     },
     "execution_count": 65,
     "metadata": {},
     "output_type": "execute_result"
    }
   ],
   "source": [
    "x_train = train.iloc[:, 1:3]\n",
    "y_train = train.iloc[:, 0]\n",
    "x_train"
   ]
  },
  {
   "cell_type": "code",
   "execution_count": 66,
   "metadata": {},
   "outputs": [
    {
     "data": {
      "text/plain": "0     -1.0\n1      1.0\n2     -1.0\n3     -1.0\n4      1.0\n      ... \n195   -1.0\n196    1.0\n197    1.0\n198   -1.0\n199    1.0\nName: 0, Length: 200, dtype: float64"
     },
     "execution_count": 66,
     "metadata": {},
     "output_type": "execute_result"
    }
   ],
   "source": [
    "x_test = test.iloc[:, 1:3]\n",
    "y_test = test.iloc[:, 0]\n",
    "y_test"
   ]
  },
  {
   "cell_type": "code",
   "execution_count": 67,
   "metadata": {},
   "outputs": [
    {
     "data": {
      "text/plain": "0.655"
     },
     "execution_count": 67,
     "metadata": {},
     "output_type": "execute_result"
    }
   ],
   "source": [
    "model = linear_model.Perceptron()\n",
    "model.fit(x_train, y_train)\n",
    "acc1 = metrics.accuracy_score(y_test, model.predict(x_test))\n",
    "acc1"
   ]
  },
  {
   "cell_type": "code",
   "execution_count": 71,
   "metadata": {},
   "outputs": [],
   "source": [
    "scaler = preprocessing.StandardScaler()\n",
    "x_trainN = scaler.fit_transform(x_train)\n",
    "x_testN = scaler.transform(x_test)"
   ]
  },
  {
   "cell_type": "code",
   "execution_count": 72,
   "metadata": {},
   "outputs": [
    {
     "data": {
      "text/plain": "0.845"
     },
     "execution_count": 72,
     "metadata": {},
     "output_type": "execute_result"
    }
   ],
   "source": [
    "model.fit(x_trainN, y_train)\n",
    "acc2 = metrics.accuracy_score(y_test, model.predict(x_testN))\n",
    "acc2"
   ]
  },
  {
   "cell_type": "code",
   "execution_count": 73,
   "metadata": {},
   "outputs": [
    {
     "data": {
      "text/plain": "0.18999999999999995"
     },
     "execution_count": 73,
     "metadata": {},
     "output_type": "execute_result"
    }
   ],
   "source": [
    "acc2 - acc1"
   ]
  },
  {
   "cell_type": "code",
   "execution_count": 74,
   "metadata": {},
   "outputs": [
    {
     "data": {
      "text/plain": "0.845"
     },
     "execution_count": 74,
     "metadata": {},
     "output_type": "execute_result"
    }
   ],
   "source": [
    "model1 = linear_model.Perceptron()\n",
    "model1.fit(x_trainN, y_train)\n",
    "acc3 = metrics.accuracy_score(y_test, model1.predict(x_testN))\n",
    "acc3"
   ]
  },
  {
   "cell_type": "code",
   "execution_count": null,
   "metadata": {},
   "outputs": [],
   "source": []
  }
 ]
}