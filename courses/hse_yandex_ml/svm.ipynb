{
 "nbformat": 4,
 "nbformat_minor": 2,
 "metadata": {
  "language_info": {
   "name": "python",
   "codemirror_mode": {
    "name": "ipython",
    "version": 3
   },
   "version": "3.7.4"
  },
  "orig_nbformat": 2,
  "file_extension": ".py",
  "mimetype": "text/x-python",
  "name": "python",
  "npconvert_exporter": "python",
  "pygments_lexer": "ipython3",
  "version": 3
 },
 "cells": [
  {
   "cell_type": "code",
   "execution_count": 1,
   "metadata": {},
   "outputs": [],
   "source": [
    "import pandas as pd\n",
    "from sklearn.svm import SVC"
   ]
  },
  {
   "cell_type": "code",
   "execution_count": 2,
   "metadata": {},
   "outputs": [
    {
     "data": {
      "text/html": "<div>\n<style scoped>\n    .dataframe tbody tr th:only-of-type {\n        vertical-align: middle;\n    }\n\n    .dataframe tbody tr th {\n        vertical-align: top;\n    }\n\n    .dataframe thead th {\n        text-align: right;\n    }\n</style>\n<table border=\"1\" class=\"dataframe\">\n  <thead>\n    <tr style=\"text-align: right;\">\n      <th></th>\n      <th>0</th>\n      <th>1</th>\n      <th>2</th>\n    </tr>\n  </thead>\n  <tbody>\n    <tr>\n      <td>0</td>\n      <td>0.0</td>\n      <td>0.70</td>\n      <td>0.29</td>\n    </tr>\n    <tr>\n      <td>1</td>\n      <td>1.0</td>\n      <td>0.23</td>\n      <td>0.55</td>\n    </tr>\n    <tr>\n      <td>2</td>\n      <td>0.0</td>\n      <td>0.72</td>\n      <td>0.42</td>\n    </tr>\n    <tr>\n      <td>3</td>\n      <td>0.0</td>\n      <td>0.98</td>\n      <td>0.68</td>\n    </tr>\n    <tr>\n      <td>4</td>\n      <td>0.0</td>\n      <td>0.48</td>\n      <td>0.39</td>\n    </tr>\n    <tr>\n      <td>5</td>\n      <td>1.0</td>\n      <td>0.34</td>\n      <td>0.73</td>\n    </tr>\n    <tr>\n      <td>6</td>\n      <td>0.0</td>\n      <td>0.44</td>\n      <td>0.06</td>\n    </tr>\n    <tr>\n      <td>7</td>\n      <td>1.0</td>\n      <td>0.40</td>\n      <td>0.74</td>\n    </tr>\n    <tr>\n      <td>8</td>\n      <td>0.0</td>\n      <td>0.18</td>\n      <td>0.18</td>\n    </tr>\n    <tr>\n      <td>9</td>\n      <td>1.0</td>\n      <td>0.53</td>\n      <td>0.53</td>\n    </tr>\n  </tbody>\n</table>\n</div>",
      "text/plain": "     0     1     2\n0  0.0  0.70  0.29\n1  1.0  0.23  0.55\n2  0.0  0.72  0.42\n3  0.0  0.98  0.68\n4  0.0  0.48  0.39\n5  1.0  0.34  0.73\n6  0.0  0.44  0.06\n7  1.0  0.40  0.74\n8  0.0  0.18  0.18\n9  1.0  0.53  0.53"
     },
     "execution_count": 2,
     "metadata": {},
     "output_type": "execute_result"
    }
   ],
   "source": [
    "df = pd.read_csv('svm.csv', header=None)\n",
    "df"
   ]
  },
  {
   "cell_type": "code",
   "execution_count": 3,
   "metadata": {},
   "outputs": [
    {
     "data": {
      "text/html": "<div>\n<style scoped>\n    .dataframe tbody tr th:only-of-type {\n        vertical-align: middle;\n    }\n\n    .dataframe tbody tr th {\n        vertical-align: top;\n    }\n\n    .dataframe thead th {\n        text-align: right;\n    }\n</style>\n<table border=\"1\" class=\"dataframe\">\n  <thead>\n    <tr style=\"text-align: right;\">\n      <th></th>\n      <th>1</th>\n      <th>2</th>\n    </tr>\n  </thead>\n  <tbody>\n    <tr>\n      <td>0</td>\n      <td>0.70</td>\n      <td>0.29</td>\n    </tr>\n    <tr>\n      <td>1</td>\n      <td>0.23</td>\n      <td>0.55</td>\n    </tr>\n    <tr>\n      <td>2</td>\n      <td>0.72</td>\n      <td>0.42</td>\n    </tr>\n    <tr>\n      <td>3</td>\n      <td>0.98</td>\n      <td>0.68</td>\n    </tr>\n    <tr>\n      <td>4</td>\n      <td>0.48</td>\n      <td>0.39</td>\n    </tr>\n    <tr>\n      <td>5</td>\n      <td>0.34</td>\n      <td>0.73</td>\n    </tr>\n    <tr>\n      <td>6</td>\n      <td>0.44</td>\n      <td>0.06</td>\n    </tr>\n    <tr>\n      <td>7</td>\n      <td>0.40</td>\n      <td>0.74</td>\n    </tr>\n    <tr>\n      <td>8</td>\n      <td>0.18</td>\n      <td>0.18</td>\n    </tr>\n    <tr>\n      <td>9</td>\n      <td>0.53</td>\n      <td>0.53</td>\n    </tr>\n  </tbody>\n</table>\n</div>",
      "text/plain": "      1     2\n0  0.70  0.29\n1  0.23  0.55\n2  0.72  0.42\n3  0.98  0.68\n4  0.48  0.39\n5  0.34  0.73\n6  0.44  0.06\n7  0.40  0.74\n8  0.18  0.18\n9  0.53  0.53"
     },
     "execution_count": 3,
     "metadata": {},
     "output_type": "execute_result"
    }
   ],
   "source": [
    "x = df.iloc[:, 1:3]\n",
    "x"
   ]
  },
  {
   "cell_type": "code",
   "execution_count": 4,
   "metadata": {},
   "outputs": [
    {
     "data": {
      "text/plain": "0    0.0\n1    1.0\n2    0.0\n3    0.0\n4    0.0\n5    1.0\n6    0.0\n7    1.0\n8    0.0\n9    1.0\nName: 0, dtype: float64"
     },
     "execution_count": 4,
     "metadata": {},
     "output_type": "execute_result"
    }
   ],
   "source": [
    "y = df.iloc[:, 0]\n",
    "y"
   ]
  },
  {
   "cell_type": "code",
   "execution_count": 5,
   "metadata": {},
   "outputs": [
    {
     "data": {
      "text/plain": "array([3, 4, 9])"
     },
     "execution_count": 5,
     "metadata": {},
     "output_type": "execute_result"
    }
   ],
   "source": [
    "clf = SVC(C=100000, kernel='linear', random_state=241)\n",
    "clf.fit(x, y)\n",
    "clf.support_"
   ]
  },
  {
   "cell_type": "code",
   "execution_count": null,
   "metadata": {},
   "outputs": [],
   "source": []
  }
 ]
}