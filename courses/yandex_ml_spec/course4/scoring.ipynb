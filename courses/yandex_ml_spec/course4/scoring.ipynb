{
 "cells": [
  {
   "cell_type": "markdown",
   "source": [
    "# Анализ данных в задаче кредитного скоринга"
   ],
   "metadata": {}
  },
  {
   "cell_type": "code",
   "execution_count": 42,
   "source": [
    "# Импорт библиотек\r\n",
    "import pandas as pd\r\n",
    "import numpy as np\r\n",
    "import scipy.stats as sts\r\n",
    "import matplotlib.pyplot as plt\r\n",
    "%matplotlib inline"
   ],
   "outputs": [],
   "metadata": {}
  },
  {
   "cell_type": "code",
   "execution_count": 43,
   "source": [
    "# Считываем исходные данные\r\n",
    "df = pd.read_csv('credit_card_default_analysis.csv')\r\n",
    "df.head()"
   ],
   "outputs": [
    {
     "output_type": "execute_result",
     "data": {
      "text/html": [
       "<div>\n",
       "<style scoped>\n",
       "    .dataframe tbody tr th:only-of-type {\n",
       "        vertical-align: middle;\n",
       "    }\n",
       "\n",
       "    .dataframe tbody tr th {\n",
       "        vertical-align: top;\n",
       "    }\n",
       "\n",
       "    .dataframe thead th {\n",
       "        text-align: right;\n",
       "    }\n",
       "</style>\n",
       "<table border=\"1\" class=\"dataframe\">\n",
       "  <thead>\n",
       "    <tr style=\"text-align: right;\">\n",
       "      <th></th>\n",
       "      <th>ID</th>\n",
       "      <th>LIMIT_BAL</th>\n",
       "      <th>SEX</th>\n",
       "      <th>EDUCATION</th>\n",
       "      <th>MARRIAGE</th>\n",
       "      <th>AGE</th>\n",
       "      <th>PAY_0</th>\n",
       "      <th>PAY_2</th>\n",
       "      <th>PAY_3</th>\n",
       "      <th>PAY_4</th>\n",
       "      <th>...</th>\n",
       "      <th>BILL_AMT4</th>\n",
       "      <th>BILL_AMT5</th>\n",
       "      <th>BILL_AMT6</th>\n",
       "      <th>PAY_AMT1</th>\n",
       "      <th>PAY_AMT2</th>\n",
       "      <th>PAY_AMT3</th>\n",
       "      <th>PAY_AMT4</th>\n",
       "      <th>PAY_AMT5</th>\n",
       "      <th>PAY_AMT6</th>\n",
       "      <th>default</th>\n",
       "    </tr>\n",
       "  </thead>\n",
       "  <tbody>\n",
       "    <tr>\n",
       "      <td>0</td>\n",
       "      <td>1</td>\n",
       "      <td>20000</td>\n",
       "      <td>2</td>\n",
       "      <td>2</td>\n",
       "      <td>1</td>\n",
       "      <td>24</td>\n",
       "      <td>2</td>\n",
       "      <td>2</td>\n",
       "      <td>0</td>\n",
       "      <td>0</td>\n",
       "      <td>...</td>\n",
       "      <td>0</td>\n",
       "      <td>0</td>\n",
       "      <td>0</td>\n",
       "      <td>0</td>\n",
       "      <td>689</td>\n",
       "      <td>0</td>\n",
       "      <td>0</td>\n",
       "      <td>0</td>\n",
       "      <td>0</td>\n",
       "      <td>1</td>\n",
       "    </tr>\n",
       "    <tr>\n",
       "      <td>1</td>\n",
       "      <td>2</td>\n",
       "      <td>120000</td>\n",
       "      <td>2</td>\n",
       "      <td>2</td>\n",
       "      <td>2</td>\n",
       "      <td>26</td>\n",
       "      <td>0</td>\n",
       "      <td>2</td>\n",
       "      <td>0</td>\n",
       "      <td>0</td>\n",
       "      <td>...</td>\n",
       "      <td>3272</td>\n",
       "      <td>3455</td>\n",
       "      <td>3261</td>\n",
       "      <td>0</td>\n",
       "      <td>1000</td>\n",
       "      <td>1000</td>\n",
       "      <td>1000</td>\n",
       "      <td>0</td>\n",
       "      <td>2000</td>\n",
       "      <td>1</td>\n",
       "    </tr>\n",
       "    <tr>\n",
       "      <td>2</td>\n",
       "      <td>3</td>\n",
       "      <td>90000</td>\n",
       "      <td>2</td>\n",
       "      <td>2</td>\n",
       "      <td>2</td>\n",
       "      <td>34</td>\n",
       "      <td>0</td>\n",
       "      <td>0</td>\n",
       "      <td>0</td>\n",
       "      <td>0</td>\n",
       "      <td>...</td>\n",
       "      <td>14331</td>\n",
       "      <td>14948</td>\n",
       "      <td>15549</td>\n",
       "      <td>1518</td>\n",
       "      <td>1500</td>\n",
       "      <td>1000</td>\n",
       "      <td>1000</td>\n",
       "      <td>1000</td>\n",
       "      <td>5000</td>\n",
       "      <td>0</td>\n",
       "    </tr>\n",
       "    <tr>\n",
       "      <td>3</td>\n",
       "      <td>4</td>\n",
       "      <td>50000</td>\n",
       "      <td>2</td>\n",
       "      <td>2</td>\n",
       "      <td>1</td>\n",
       "      <td>37</td>\n",
       "      <td>0</td>\n",
       "      <td>0</td>\n",
       "      <td>0</td>\n",
       "      <td>0</td>\n",
       "      <td>...</td>\n",
       "      <td>28314</td>\n",
       "      <td>28959</td>\n",
       "      <td>29547</td>\n",
       "      <td>2000</td>\n",
       "      <td>2019</td>\n",
       "      <td>1200</td>\n",
       "      <td>1100</td>\n",
       "      <td>1069</td>\n",
       "      <td>1000</td>\n",
       "      <td>0</td>\n",
       "    </tr>\n",
       "    <tr>\n",
       "      <td>4</td>\n",
       "      <td>5</td>\n",
       "      <td>50000</td>\n",
       "      <td>1</td>\n",
       "      <td>2</td>\n",
       "      <td>1</td>\n",
       "      <td>57</td>\n",
       "      <td>0</td>\n",
       "      <td>0</td>\n",
       "      <td>0</td>\n",
       "      <td>0</td>\n",
       "      <td>...</td>\n",
       "      <td>20940</td>\n",
       "      <td>19146</td>\n",
       "      <td>19131</td>\n",
       "      <td>2000</td>\n",
       "      <td>36681</td>\n",
       "      <td>10000</td>\n",
       "      <td>9000</td>\n",
       "      <td>689</td>\n",
       "      <td>679</td>\n",
       "      <td>0</td>\n",
       "    </tr>\n",
       "  </tbody>\n",
       "</table>\n",
       "<p>5 rows × 25 columns</p>\n",
       "</div>"
      ],
      "text/plain": [
       "   ID  LIMIT_BAL  SEX  EDUCATION  MARRIAGE  AGE  PAY_0  PAY_2  PAY_3  PAY_4  \\\n",
       "0   1      20000    2          2         1   24      2      2      0      0   \n",
       "1   2     120000    2          2         2   26      0      2      0      0   \n",
       "2   3      90000    2          2         2   34      0      0      0      0   \n",
       "3   4      50000    2          2         1   37      0      0      0      0   \n",
       "4   5      50000    1          2         1   57      0      0      0      0   \n",
       "\n",
       "   ...  BILL_AMT4  BILL_AMT5  BILL_AMT6  PAY_AMT1  PAY_AMT2  PAY_AMT3  \\\n",
       "0  ...          0          0          0         0       689         0   \n",
       "1  ...       3272       3455       3261         0      1000      1000   \n",
       "2  ...      14331      14948      15549      1518      1500      1000   \n",
       "3  ...      28314      28959      29547      2000      2019      1200   \n",
       "4  ...      20940      19146      19131      2000     36681     10000   \n",
       "\n",
       "   PAY_AMT4  PAY_AMT5  PAY_AMT6  default  \n",
       "0         0         0         0        1  \n",
       "1      1000         0      2000        1  \n",
       "2      1000      1000      5000        0  \n",
       "3      1100      1069      1000        0  \n",
       "4      9000       689       679        0  \n",
       "\n",
       "[5 rows x 25 columns]"
      ]
     },
     "metadata": {},
     "execution_count": 43
    }
   ],
   "metadata": {}
  },
  {
   "cell_type": "markdown",
   "source": [
    "## Задание 1"
   ],
   "metadata": {}
  },
  {
   "cell_type": "code",
   "execution_count": 44,
   "source": [
    "#Построим гистограммы распределения размера кредитного лимита\r\n",
    "paid = df[df.default == 0].LIMIT_BAL.values\r\n",
    "default = df[df.default == 1].LIMIT_BAL.values\r\n",
    "plt.hist(paid, label=\"Вернули кредит\")\r\n",
    "plt.hist(default, label=\"Не вернули кредит\")\r\n",
    "plt.title(\"Гистограмма распределения размера кредитного лимита\")\r\n",
    "plt.legend()"
   ],
   "outputs": [
    {
     "output_type": "execute_result",
     "data": {
      "text/plain": [
       "<matplotlib.legend.Legend at 0x2556869bf08>"
      ]
     },
     "metadata": {},
     "execution_count": 44
    },
    {
     "output_type": "display_data",
     "data": {
      "image/png": "[encoded data removed]",
      "text/plain": [
       "<Figure size 432x288 with 1 Axes>"
      ]
     },
     "metadata": {
      "needs_background": "light"
     }
    }
   ],
   "metadata": {}
  },
  {
   "cell_type": "markdown",
   "source": [
    "Из гистограммы следует, размер кредитного лимита у тех, кто вернул кредит, значительно выше, чем у тех, кто не вернул"
   ],
   "metadata": {}
  },
  {
   "cell_type": "code",
   "execution_count": 45,
   "source": [
    "# Рассчитаем доверительный интервал для разности медиан с помощью бутстрепа и проверим гипотезу о равенстве медиан: \r\n",
    "# H0: M1=M2 (медианы равны)\r\n",
    "# H1: M1!= M2 (медианы не равны)\r\n",
    "\r\n",
    "def get_bootstrap_samples(data, n_samples):\r\n",
    "    indices = np.random.randint(0, len(data), (n_samples, len(data)))\r\n",
    "    samples = data[indices]\r\n",
    "    return samples\r\n",
    "\r\n",
    "def stat_intervals(stat, alpha):\r\n",
    "    boundaries = np.percentile(stat, [100 * alpha / 2., 100 * (1 - alpha / 2.)])\r\n",
    "    return boundaries\r\n",
    "\r\n",
    "np.random.seed(0)\r\n",
    "\r\n",
    "paid_median_scores = list(map(np.median, get_bootstrap_samples(paid, 1000)))\r\n",
    "default_median_scores = list(map(np.median, get_bootstrap_samples(default, 1000)))\r\n",
    "\r\n",
    "print(\"Точечная оценка медины кредитного лимита для выплативших кредит: \", np.median(paid))\r\n",
    "print(\"Точечная оценка медины кредитного лимита для невыплативших кредит: \", np.median(default))\r\n",
    "\r\n",
    "delta_median_scores = list(map(lambda x: x[0] - x[1], zip(paid_median_scores, default_median_scores)))\r\n",
    "print(\"95% доверительный интервал для разности медиан\",  stat_intervals(delta_median_scores, 0.05))"
   ],
   "outputs": [
    {
     "output_type": "stream",
     "name": "stdout",
     "text": [
      "Точечная оценка медины кредитного лимита для выплативших кредит:  150000.0\n",
      "Точечная оценка медины кредитного лимита для невыплативших кредит:  90000.0\n",
      "95% доверительный интервал для разности медиан [60000. 70000.]\n"
     ]
    }
   ],
   "metadata": {}
  },
  {
   "cell_type": "markdown",
   "source": [
    "95% Доверительный интервал для разности медиан кредитного лимита вернувших и не вернувших кредит не содержит 0, значит гипотеза о равенстве медиан отвергается. Границы интервала достаточно далеко удалены от 0, и имеют большие абсолютные значения, поэтому данный результат можно считать практически значимым."
   ],
   "metadata": {}
  },
  {
   "cell_type": "code",
   "execution_count": 46,
   "source": [
    "# Проверим гипотезу о равенстве распределений кредитного лимита для вернувших и невернувших кредит с помощью критерия Манна-Уитни (так как выборки независимы)\r\n",
    "# H0: F_x1(x) = F_x2(x) (выборки получены из одного распределения)\r\n",
    "# H1: F_x1(x) = F_x2(x + delta), delta != 0 (выборки получены из разных распределений)\r\n",
    "\r\n",
    "def hypothesis_check(p, alpha=0.05):\r\n",
    "    print(\"Достигаемый уровень значимости:\", p)\r\n",
    "    if p < alpha:\r\n",
    "        print(\"Гипотеза Н0 отвергается на уровне значимости\", alpha)\r\n",
    "    else:\r\n",
    "        print(\"Гипотеза Н0 принимается на уровне значимости\", alpha)\r\n",
    "\r\n",
    "_, p = sts.mannwhitneyu(paid, default, alternative=\"two-sided\")\r\n",
    "hypothesis_check(p)"
   ],
   "outputs": [
    {
     "output_type": "stream",
     "name": "stdout",
     "text": [
      "Достигаемый уровень значимости: 1.2255485818223303e-189\n",
      "Гипотеза Н0 отвергается на уровне значимости 0.05\n"
     ]
    }
   ],
   "metadata": {}
  },
  {
   "cell_type": "markdown",
   "source": [
    "Гипотезу о равенстве распределения кредитного лимита вернувших и не вернувших кредит можно уверенно отвергнуть"
   ],
   "metadata": {}
  },
  {
   "cell_type": "markdown",
   "source": [
    "## Задание 2"
   ],
   "metadata": {}
  },
  {
   "cell_type": "code",
   "execution_count": 47,
   "source": [
    "# Построим гистограммы распределения мужчин и женщин среди тех, кто вернул и не вернул кредит\r\n",
    "paid = df[df.default == 0].SEX\r\n",
    "default = df[df.default == 1].SEX\r\n",
    "fig, axes = plt.subplots(1, 2, figsize=(10,5))\r\n",
    "axes[0].hist(paid[paid == 1] ,label=\"Мужчины\")\r\n",
    "axes[0].hist(paid[paid == 2] ,label=\"Женщины\")\r\n",
    "axes[0].legend()\r\n",
    "axes[0].set_title(\"Гистограмма распределения пола\\nдля выплативших кредит\")\r\n",
    "axes[1].hist(default[default == 1] ,label=\"Мужчины\")\r\n",
    "axes[1].hist(default[default == 2] ,label=\"Женщины\")\r\n",
    "axes[1].legend()\r\n",
    "axes[1].set_title(\"Гистограмма распределения пола\\nдля невыплативших кредит\")"
   ],
   "outputs": [
    {
     "output_type": "execute_result",
     "data": {
      "text/plain": [
       "Text(0.5, 1.0, 'Гистограмма распределения пола\\nдля невыплативших кредит')"
      ]
     },
     "metadata": {},
     "execution_count": 47
    },
    {
     "output_type": "display_data",
     "data": {
      "image/png": "[encoded data removed]",
      "text/plain": [
       "<Figure size 720x360 with 2 Axes>"
      ]
     },
     "metadata": {
      "needs_background": "light"
     }
    }
   ],
   "metadata": {}
  },
  {
   "cell_type": "markdown",
   "source": [
    "На гистограммах видно, что доля женщин среди выплативших кредит выше, чем среди невыплативших."
   ],
   "metadata": {}
  },
  {
   "cell_type": "code",
   "execution_count": 48,
   "source": [
    "# Построим 95% доверительный интервал для разности долей мужчин и женщин среди выплативших и невыплативших кредит (выборки независимы)\r\n",
    "# и проверим гипотезу о равенстве долей женщин среди выплативших и невыплативших кредит\r\n",
    "# H0: p1 = p2 (доли женщин равны)\r\n",
    "# H1: p1 != p2 (доли женщин не равны)\r\n",
    "\r\n",
    "def proportions_confint_diff_ind(p1, n1, p2, n2, alpha = 0.05):    \r\n",
    "    z = sts.norm.ppf(1 - alpha / 2.)   \r\n",
    "    diff = z * np.sqrt(p1 * (1 - p1)/ n1 + p2 * (1 - p2)/ n2)\r\n",
    "\r\n",
    "    left_boundary = (p1 - p2) - diff\r\n",
    "    right_boundary = (p1 - p2) + diff\r\n",
    "    \r\n",
    "    return (left_boundary, right_boundary)\r\n",
    "\r\n",
    "p1 = len(paid[paid == 2])\r\n",
    "n1 = len(paid)\r\n",
    "p2 = len(default[default == 2])\r\n",
    "n2 = len(default)\r\n",
    "\r\n",
    "print(\"Точечная оценка доли женщин среди выплативших кредит:\", round(p1 / n1 , 2))\r\n",
    "print(\"Точечная оценка доли женщин среди невыплативших кредит:\", round(p2 / n2 , 2))\r\n",
    "\r\n",
    "print(\"95% процентный доверительный интервал для разности долей:\", proportions_confint_diff_ind(p1 / n1, n1, p2 / n2, n2))"
   ],
   "outputs": [
    {
     "output_type": "stream",
     "name": "stdout",
     "text": [
      "Точечная оценка доли женщин среди выплативших кредит: 0.61\n",
      "Точечная оценка доли женщин среди невыплативших кредит: 0.57\n",
      "95% процентный доверительный интервал для разности долей: (0.03363493274962867, 0.060548077974896725)\n"
     ]
    }
   ],
   "metadata": {}
  },
  {
   "cell_type": "markdown",
   "source": [
    "95% Доверительный интервал для разности долей женщин среди вернувших и не вернувших кредит не содержит 0, значит гипотеза о равенстве долей отвергается. Различие составляет от 4 до 6 процентов, что достаточно много, поэтому результат можно считать практически значимым."
   ],
   "metadata": {}
  },
  {
   "cell_type": "code",
   "execution_count": 49,
   "source": [
    "# Проверим гипотезу о равенстве равенстве долей женщин среди выплативших и невыплативших кредит с помощью z-критерия для долей (выборки независимы)\r\n",
    "# H0: p1 = p2 (доли женщин равны)\r\n",
    "# H1: p1 != p2 (доли женщин не равны)\r\n",
    "\r\n",
    "def proportion_ztest_ind(p1, n1, p2, n2):\r\n",
    "    P = (p1 * n1 + p2 * n2) / (n1 + n2)\r\n",
    "    z = (p1 - p2) / np.sqrt(P * (1 - P) * ((1 / n1) + (1 / n2)))\r\n",
    "    return 2 * (1 - sts.norm.cdf(np.abs(z)))\r\n",
    "\r\n",
    "hypothesis_check(proportion_ztest_ind(p1 / n1, n1, p2 / n2, n2))\r\n"
   ],
   "outputs": [
    {
     "output_type": "stream",
     "name": "stdout",
     "text": [
      "Достигаемый уровень значимости: 4.472866521609831e-12\n",
      "Гипотеза Н0 отвергается на уровне значимости 0.05\n"
     ]
    }
   ],
   "metadata": {}
  },
  {
   "cell_type": "markdown",
   "source": [
    "Гипотеза о равенстве долей женщин среди выплативших и невыплатиших кредит отвергается. Как писалось выше, результат практически значим."
   ],
   "metadata": {}
  },
  {
   "cell_type": "markdown",
   "source": [
    "## Задание 3"
   ],
   "metadata": {}
  },
  {
   "cell_type": "code",
   "execution_count": 50,
   "source": [
    "# Построим гистограммы распределений уровня образования для выплативших и невыплативших кредит\r\n",
    "paid = df[df.default == 0].EDUCATION\r\n",
    "paid_count = paid.value_counts(sort=False)\r\n",
    "default = df[df.default == 1].EDUCATION\r\n",
    "default_count = default.value_counts(sort=False)\r\n",
    "default_count[0] = 0\r\n",
    "fig, axes = plt.subplots(1, 2, figsize=(10,5))\r\n",
    "axes[0].bar(paid_count.index, paid_count)\r\n",
    "axes[0].set_title(\"Гистограмма распределения уровня образования\\nдля выплативших кредит\")\r\n",
    "axes[1].bar(default_count.index, default_count)\r\n",
    "axes[1].set_title(\"Гистограмма распределения уровня образования\\nдля невыплативших кредит\")\r\n",
    "plt.subplots_adjust(wspace=1)\r\n",
    "\r\n"
   ],
   "outputs": [
    {
     "output_type": "display_data",
     "data": {
      "image/png": "[encoded data removed]",
      "text/plain": [
       "<Figure size 720x360 with 2 Axes>"
      ]
     },
     "metadata": {
      "needs_background": "light"
     }
    }
   ],
   "metadata": {}
  },
  {
   "cell_type": "markdown",
   "source": [
    "По графикам видно, что среди выплативших выше доля докторов и магистров, и ниже доля бакалавров и выпускников школы."
   ],
   "metadata": {}
  },
  {
   "cell_type": "code",
   "execution_count": 51,
   "source": [
    "# Построим таблицу сопряженности уровня образования и выплаты кредита\r\n",
    "contingency_table = pd.DataFrame(np.vstack((paid_count.sort_index(), default_count.sort_index())).T)\r\n",
    "contingency_table.columns = ['paid', 'default_observed']\r\n",
    "contingency_table['default_expected'] = contingency_table['paid'] / contingency_table['paid'].sum() * contingency_table['default_observed'].sum()\r\n",
    "contingency_table['difference'] = contingency_table.default_observed - contingency_table.default_expected\r\n",
    "contingency_table"
   ],
   "outputs": [
    {
     "output_type": "execute_result",
     "data": {
      "text/html": [
       "<div>\n",
       "<style scoped>\n",
       "    .dataframe tbody tr th:only-of-type {\n",
       "        vertical-align: middle;\n",
       "    }\n",
       "\n",
       "    .dataframe tbody tr th {\n",
       "        vertical-align: top;\n",
       "    }\n",
       "\n",
       "    .dataframe thead th {\n",
       "        text-align: right;\n",
       "    }\n",
       "</style>\n",
       "<table border=\"1\" class=\"dataframe\">\n",
       "  <thead>\n",
       "    <tr style=\"text-align: right;\">\n",
       "      <th></th>\n",
       "      <th>paid</th>\n",
       "      <th>default_observed</th>\n",
       "      <th>default_expected</th>\n",
       "      <th>difference</th>\n",
       "    </tr>\n",
       "  </thead>\n",
       "  <tbody>\n",
       "    <tr>\n",
       "      <td>0</td>\n",
       "      <td>14</td>\n",
       "      <td>0</td>\n",
       "      <td>3.976374</td>\n",
       "      <td>-3.976374</td>\n",
       "    </tr>\n",
       "    <tr>\n",
       "      <td>1</td>\n",
       "      <td>8549</td>\n",
       "      <td>2036</td>\n",
       "      <td>2428.144325</td>\n",
       "      <td>-392.144325</td>\n",
       "    </tr>\n",
       "    <tr>\n",
       "      <td>2</td>\n",
       "      <td>10700</td>\n",
       "      <td>3330</td>\n",
       "      <td>3039.085773</td>\n",
       "      <td>290.914227</td>\n",
       "    </tr>\n",
       "    <tr>\n",
       "      <td>3</td>\n",
       "      <td>3680</td>\n",
       "      <td>1237</td>\n",
       "      <td>1045.218285</td>\n",
       "      <td>191.781715</td>\n",
       "    </tr>\n",
       "    <tr>\n",
       "      <td>4</td>\n",
       "      <td>116</td>\n",
       "      <td>7</td>\n",
       "      <td>32.947098</td>\n",
       "      <td>-25.947098</td>\n",
       "    </tr>\n",
       "    <tr>\n",
       "      <td>5</td>\n",
       "      <td>262</td>\n",
       "      <td>18</td>\n",
       "      <td>74.414997</td>\n",
       "      <td>-56.414997</td>\n",
       "    </tr>\n",
       "    <tr>\n",
       "      <td>6</td>\n",
       "      <td>43</td>\n",
       "      <td>8</td>\n",
       "      <td>12.213148</td>\n",
       "      <td>-4.213148</td>\n",
       "    </tr>\n",
       "  </tbody>\n",
       "</table>\n",
       "</div>"
      ],
      "text/plain": [
       "    paid  default_observed  default_expected  difference\n",
       "0     14                 0          3.976374   -3.976374\n",
       "1   8549              2036       2428.144325 -392.144325\n",
       "2  10700              3330       3039.085773  290.914227\n",
       "3   3680              1237       1045.218285  191.781715\n",
       "4    116                 7         32.947098  -25.947098\n",
       "5    262                18         74.414997  -56.414997\n",
       "6     43                 8         12.213148   -4.213148"
      ]
     },
     "metadata": {},
     "execution_count": 51
    }
   ],
   "metadata": {}
  },
  {
   "cell_type": "code",
   "execution_count": 52,
   "source": [
    "# Проверим гипотезу об отсутствии влияния образования на возврат кредита с помощью критерия Хи-квадрат\r\n",
    "# H0: F1(x) = F2(x) (Распределения уровня образования не отличаются для вернувших и невернувших кредит) \r\n",
    "# Н1: F1(x) != F2(x) (Распределения уровня образования отличаются для вернувших и невернувших кредит)\r\n",
    "\r\n",
    "_, p = sts.chisquare(contingency_table.default_observed, contingency_table.default_expected)\r\n",
    "hypothesis_check(p)"
   ],
   "outputs": [
    {
     "output_type": "stream",
     "name": "stdout",
     "text": [
      "Достигаемый уровень значимости: 2.197883571213863e-39\n",
      "Гипотеза Н0 отвергается на уровне значимости 0.05\n"
     ]
    }
   ],
   "metadata": {}
  },
  {
   "cell_type": "markdown",
   "source": [
    "Гипотеза об отсутствии влияния образования на возврат кредита уверенно отклоняется. Из таблицы сопряженности следует, что наличие магистерского образования и докторской степени является индикатором возврата кредита, а наличие степени бакалавра или школьного - индикатором невозврата."
   ],
   "metadata": {}
  },
  {
   "cell_type": "markdown",
   "source": [
    "## Задание 4"
   ],
   "metadata": {}
  },
  {
   "cell_type": "code",
   "execution_count": 53,
   "source": [
    "# Построим гистограммы распределения семейного положения среди тех, кто вернул и не вернул кредит\r\n",
    "paid = df[df.default == 0].MARRIAGE\r\n",
    "default = df[df.default == 1].MARRIAGE\r\n",
    "paid_count = paid.value_counts(sort=False)\r\n",
    "default_count = default.value_counts(sort=False)\r\n",
    "fig, axes = plt.subplots(1, 2, figsize=(10,5))\r\n",
    "axes[0].bar(paid_count.index, paid_count)\r\n",
    "axes[0].set_title(\"Гистограмма распределения семейного положения\\nдля выплативших кредит\")\r\n",
    "axes[1].bar(default_count.index, default_count)\r\n",
    "axes[1].set_title(\"Гистограмма распределения семейного положения\\nдля невыплативших кредит\")\r\n",
    "plt.subplots_adjust(wspace=1)\r\n"
   ],
   "outputs": [
    {
     "output_type": "display_data",
     "data": {
      "image/png": "[encoded data removed]",
      "text/plain": [
       "<Figure size 720x360 with 2 Axes>"
      ]
     },
     "metadata": {
      "needs_background": "light"
     }
    }
   ],
   "metadata": {}
  },
  {
   "cell_type": "markdown",
   "source": [
    "По гистограммам видно, что среди выплативших кредит доля холостых слегка выше доли замужних/женатых, тогда как среди невыплативших доли холостых и замужних/женатых примерно равны."
   ],
   "metadata": {}
  },
  {
   "cell_type": "code",
   "execution_count": 54,
   "source": [
    "# Мы имеем 2 категориальных признака, у семейного положения 4 градации, у возврата кредита - 2. \r\n",
    "# Чтобы измерить степень ассоциации между ними посчитаем коэффициент V Крамера.\r\n",
    "\r\n",
    "def cramer(matrix):\r\n",
    "    chi2 = sts.chi2_contingency(matrix)[0]\r\n",
    "    n = sum(matrix.sum())\r\n",
    "    phi2 = chi2 / n\r\n",
    "    r, k = matrix.shape\r\n",
    "    phi2_corr = max(0, phi2 - ((k - 1) * (r - 1)) / (n - 1))\r\n",
    "    r_corr = r - ((r - 1) ** 2) / (n - 1)\r\n",
    "    k_corr = k - ((k - 1) ** 2) / (n - 1)\r\n",
    "    return np.sqrt(phi2_corr / min((k_corr - 1), (r_corr - 1)))\r\n",
    "\r\n",
    "matrix = pd.crosstab(df.default, df.MARRIAGE)\r\n",
    "print(\"Коэффициент V Крамера между семейным положением и возвратом кредита:\", cramer(matrix))"
   ],
   "outputs": [
    {
     "output_type": "stream",
     "name": "stdout",
     "text": [
      "Коэффициент V Крамера между семейным положением и возвратом кредита: 0.014009346970837748\n"
     ]
    }
   ],
   "metadata": {}
  },
  {
   "cell_type": "markdown",
   "source": [
    "Коэффициент V Крамера близок к нулю, из чего можно сделать вывод об отсутствии ассоциации между семейным положением и возвратом кредита."
   ],
   "metadata": {}
  },
  {
   "cell_type": "markdown",
   "source": [
    "## Задание 5"
   ],
   "metadata": {}
  },
  {
   "cell_type": "code",
   "execution_count": 55,
   "source": [
    "#Построим гистограммы распределения возраста\r\n",
    "paid = df[df.default == 0].AGE.values\r\n",
    "default = df[df.default == 1].AGE.values\r\n",
    "fig, axes = plt.subplots(1, 2, figsize=(10,5))\r\n",
    "axes[0].hist(paid)\r\n",
    "axes[0].set_title(\"Гистограмма распределения возраста\\nдля выплативших кредит\")\r\n",
    "axes[1].hist(default)\r\n",
    "axes[1].set_title(\"Гистограмма распределения возраста\\nдля невыплативших кредит\")"
   ],
   "outputs": [
    {
     "output_type": "execute_result",
     "data": {
      "text/plain": [
       "Text(0.5, 1.0, 'Гистограмма распределения возраста\\nдля невыплативших кредит')"
      ]
     },
     "metadata": {},
     "execution_count": 55
    },
    {
     "output_type": "display_data",
     "data": {
      "image/png": "[encoded data removed]",
      "text/plain": [
       "<Figure size 720x360 with 2 Axes>"
      ]
     },
     "metadata": {
      "needs_background": "light"
     }
    }
   ],
   "metadata": {}
  },
  {
   "cell_type": "markdown",
   "source": [
    "На гистограммах не видно значительных различий в распределениях возраста выплативших и невыплативших кредит."
   ],
   "metadata": {}
  },
  {
   "cell_type": "code",
   "execution_count": 56,
   "source": [
    "# Рассчитаем доверительный интервал для разности медиан возрастов выплативших и невыплативших кредит с помощью бутстрепа и проверим гипотезу о их равенстве: \r\n",
    "# H0: M1=M2 (медианы возрастов равны)\r\n",
    "# H1: M1!= M2 (медианы возрастов не равны)\r\n",
    "\r\n",
    "paid_median_scores = list(map(np.median, get_bootstrap_samples(paid, 1000)))\r\n",
    "default_median_scores = list(map(np.median, get_bootstrap_samples(default, 1000)))\r\n",
    "\r\n",
    "print(\"Точечная оценка медины кредитного лимита для выплативших кредит: \", np.median(paid))\r\n",
    "print(\"Точечная оценка медины кредитного лимита для невыплативших кредит: \", np.median(default))\r\n",
    "\r\n",
    "delta_median_scores = list(map(lambda x: x[0] - x[1], zip(paid_median_scores, default_median_scores)))\r\n",
    "print(\"95% доверительный интервал для разности медиан\",  stat_intervals(delta_median_scores, 0.05))"
   ],
   "outputs": [
    {
     "output_type": "stream",
     "name": "stdout",
     "text": [
      "Точечная оценка медины кредитного лимита для выплативших кредит:  34.0\n",
      "Точечная оценка медины кредитного лимита для невыплативших кредит:  34.0\n",
      "95% доверительный интервал для разности медиан [-1.  0.]\n"
     ]
    }
   ],
   "metadata": {}
  },
  {
   "cell_type": "markdown",
   "source": [
    "Доверительный интервал содержит 0, следовательно гипотеза о равестве медиан принимается."
   ],
   "metadata": {}
  },
  {
   "cell_type": "code",
   "execution_count": 57,
   "source": [
    "# Проверим гипотезу о равенстве распределений возрастов вернувших и не вернувших кредит с помощью критерия Манна-Уитни (так как выборки независимы)\r\n",
    "# H0: F_x1(x) = F_x2(x) (выборки получены из одного распределения)\r\n",
    "# H1: F_x1(x) = F_x2(x + delta), delta != 0 (выборки получены из разных распределений)\r\n",
    "\r\n",
    "def hypothesis_check(p, alpha=0.05):\r\n",
    "    print(\"Достигаемый уровень значимости:\", p)\r\n",
    "    if p < alpha:\r\n",
    "        print(\"Гипотеза Н0 отвергается на уровне значимости\", alpha)\r\n",
    "    else:\r\n",
    "        print(\"Гипотеза Н0 принимается на уровне значимости\", alpha)\r\n",
    "\r\n",
    "_, p = sts.mannwhitneyu(paid, default, alternative=\"two-sided\")\r\n",
    "hypothesis_check(p)"
   ],
   "outputs": [
    {
     "output_type": "stream",
     "name": "stdout",
     "text": [
      "Достигаемый уровень значимости: 0.3725035434898616\n",
      "Гипотеза Н0 принимается на уровне значимости 0.05\n"
     ]
    }
   ],
   "metadata": {}
  },
  {
   "cell_type": "markdown",
   "source": [
    "Гипотеза о равенстве распределений возрастов принимается, и исходя также из проведенной выше проверки гипотезы о равенстве медиан, можно сделать вывод что возраст не влияет на возврат кредита."
   ],
   "metadata": {}
  }
 ],
 "metadata": {
  "orig_nbformat": 4,
  "language_info": {
   "name": "python",
   "version": "3.7.4",
   "mimetype": "text/x-python",
   "codemirror_mode": {
    "name": "ipython",
    "version": 3
   },
   "pygments_lexer": "ipython3",
   "nbconvert_exporter": "python",
   "file_extension": ".py"
  },
  "kernelspec": {
   "name": "python3",
   "display_name": "Python 3.7.4 64-bit ('base': conda)"
  },
  "interpreter": {
   "hash": "96b9ad8831263b00e05b6a0bae4c8f5254c7a8a2cb2b957e99bf68d97caf9887"
  }
 },
 "nbformat": 4,
 "nbformat_minor": 2
}