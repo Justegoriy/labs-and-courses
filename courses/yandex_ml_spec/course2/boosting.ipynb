{
 "metadata": {
  "language_info": {
   "codemirror_mode": {
    "name": "ipython",
    "version": 3
   },
   "file_extension": ".py",
   "mimetype": "text/x-python",
   "name": "python",
   "nbconvert_exporter": "python",
   "pygments_lexer": "ipython3",
   "version": "3.7.4"
  },
  "orig_nbformat": 2,
  "kernelspec": {
   "name": "python374jvsc74a57bd096b9ad8831263b00e05b6a0bae4c8f5254c7a8a2cb2b957e99bf68d97caf9887",
   "display_name": "Python 3.7.4 64-bit (conda)"
  }
 },
 "nbformat": 4,
 "nbformat_minor": 2,
 "cells": [
  {
   "cell_type": "code",
   "execution_count": 1,
   "metadata": {},
   "outputs": [],
   "source": [
    "import pandas as pd\n",
    "import numpy as np"
   ]
  },
  {
   "cell_type": "code",
   "execution_count": 2,
   "metadata": {},
   "outputs": [],
   "source": [
    "def write_answer(ans):\n",
    "    with open(\"answer.txt\", \"w\") as fout:\n",
    "        fout.write(str(ans))"
   ]
  },
  {
   "cell_type": "code",
   "execution_count": 3,
   "metadata": {},
   "outputs": [],
   "source": [
    "from sklearn.datasets import load_boston\n",
    "\n",
    "df = load_boston()\n",
    "x = df.data\n",
    "y = df.target"
   ]
  },
  {
   "cell_type": "code",
   "execution_count": 4,
   "metadata": {},
   "outputs": [],
   "source": [
    "x_train = x[:-126, :]\n",
    "x_test = x[-126:, :]\n",
    "y_train = y[:-126, ]\n",
    "y_test = y[-126:, ]"
   ]
  },
  {
   "cell_type": "code",
   "execution_count": 5,
   "metadata": {},
   "outputs": [],
   "source": [
    "def gradient(y, a_x):\n",
    "    return -(a_x - y)\n",
    "\n",
    "def gbm_predict(X):\n",
    "    return [sum([coeff * algo.predict([x])[0] for algo, coeff in zip(trees, coefs)]) for x in X]"
   ]
  },
  {
   "cell_type": "code",
   "execution_count": 6,
   "metadata": {},
   "outputs": [
    {
     "output_type": "execute_result",
     "data": {
      "text/plain": [
       "5.4551393760319415"
      ]
     },
     "metadata": {},
     "execution_count": 6
    }
   ],
   "source": [
    "from sklearn.tree import DecisionTreeRegressor\n",
    "from sklearn.metrics import mean_squared_error\n",
    "\n",
    "trees = []\n",
    "coefs = [0.9] * 50\n",
    "tree_0 = DecisionTreeRegressor(max_depth=5, random_state=42)\n",
    "tree_0.fit(x_train, y_train)\n",
    "trees.append(tree_0)\n",
    "for i in range(1, 50):\n",
    "    s = gradient(y_train, gbm_predict(x_train))\n",
    "    clf = DecisionTreeRegressor(max_depth=5, random_state=42)\n",
    "    clf.fit(x_train, s)\n",
    "    trees.append(clf)\n",
    "\n",
    "\n",
    "score = mean_squared_error(y_test, gbm_predict(x_test))\n",
    "write_answer(score ** 0.5)\n",
    "score ** 0.5"
   ]
  },
  {
   "cell_type": "code",
   "execution_count": 7,
   "metadata": {},
   "outputs": [
    {
     "output_type": "execute_result",
     "data": {
      "text/plain": [
       "5.167014791810496"
      ]
     },
     "metadata": {},
     "execution_count": 7
    }
   ],
   "source": [
    "trees = []\n",
    "coefs = [0.9]\n",
    "tree_0 = DecisionTreeRegressor(max_depth=5, random_state=42)\n",
    "tree_0.fit(x_train, y_train)\n",
    "trees.append(tree_0)\n",
    "for i in range(1, 50):\n",
    "    s = gradient(y_train, gbm_predict(x_train))\n",
    "    clf = DecisionTreeRegressor(max_depth=5, random_state=42)\n",
    "    clf.fit(x_train, s)\n",
    "    trees.append(clf)\n",
    "    coefs.append(0.9 / (i))\n",
    "\n",
    "\n",
    "score = mean_squared_error(y_test, gbm_predict(x_test))\n",
    "write_answer(score ** 0.5)\n",
    "score ** 0.5"
   ]
  },
  {
   "cell_type": "code",
   "execution_count": 26,
   "metadata": {},
   "outputs": [
    {
     "output_type": "execute_result",
     "data": {
      "text/plain": [
       "5.776231656110903"
      ]
     },
     "metadata": {},
     "execution_count": 26
    }
   ],
   "source": [
    "from sklearn.ensemble import GradientBoostingRegressor\n",
    "\n",
    "model = GradientBoostingRegressor(max_depth=100)\n",
    "model.fit(x_train, y_train)\n",
    "score = mean_squared_error(y_test, model.predict(x_test))\n",
    "score ** 0.5"
   ]
  },
  {
   "cell_type": "code",
   "execution_count": 28,
   "metadata": {},
   "outputs": [
    {
     "output_type": "execute_result",
     "data": {
      "text/plain": [
       "7.819688142087171"
      ]
     },
     "metadata": {},
     "execution_count": 28
    }
   ],
   "source": [
    "from sklearn.linear_model import LinearRegression\n",
    "\n",
    "model = LinearRegression()\n",
    "model.fit(x_train, y_train)\n",
    "score = mean_squared_error(y_test, model.predict(x_test))\n",
    "write_answer(score ** 0.5)\n",
    "score ** 0.5"
   ]
  },
  {
   "cell_type": "code",
   "execution_count": null,
   "metadata": {},
   "outputs": [],
   "source": []
  }
 ]
}