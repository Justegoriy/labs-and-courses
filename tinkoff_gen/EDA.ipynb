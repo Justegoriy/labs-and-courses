{
 "cells": [
  {
   "cell_type": "markdown",
   "source": [
    "# Разведочный анализ данных"
   ],
   "metadata": {}
  },
  {
   "cell_type": "markdown",
   "source": [
    "В качестве анализируемого мною был выбран датасет о сердченой недостаточности https://www.kaggle.com/fedesoriano/heart-failure-prediction.\r\n",
    "\r\n",
    "Описание: сердечно-сосудистые заболевания (ССЗ) являются причиной смерти номер 1 во всем мире, унося, по оценкам, 17,9 миллиона жизней ежегодно, что составляет 31% всех смертей во всем мире. Четыре из 5 смертей от ССЗ происходят в результате сердечных приступов и инсультов, и одна треть этих смертей происходит преждевременно у людей в возрасте до 70 лет. Сердечная недостаточность является распространенным событием, вызванным ССЗ, и этот набор данных содержит 11 признаков, которые можно использовать для прогнозирования возможного заболевания сердца.\r\n",
    "Люди с сердечно-сосудистыми заболеваниями или с высоким сердечно-сосудистым риском (из-за наличия одного или нескольких факторов риска, таких как гипертония, диабет, гиперлипидемия или уже установленное заболевание) нуждаются в раннем выявлении и лечении, в которых модель машинного обучения может оказать большую помощь."
   ],
   "metadata": {}
  },
  {
   "cell_type": "markdown",
   "source": [
    "\r\n",
    "Признаки: <br>\r\n",
    "Age: возраст пациента, годы <br>\r\n",
    "Sex: пол [M: мужской, F: женский] <br> \r\n",
    "ChestPainType: тип боли в груди [TA: Типичная стенокардия, ATA: Атипичная стенокардия, NAP: неангинальная боль, ASY: бессимптомная] <br> \r\n",
    "RestingBP: артериальное давление в состоянии покоя [мм ртутного столба] <br>\r\n",
    "Cholesterol: сывороточный холестерин [мм / дл]\\ FastingBS: уровень сахара в крови натощак [1: если FastingBS > 120 мг/дл, 0: иначе] <br>\r\n",
    "RestingECG: электрокардиограмма в состоянии покоя [Normal: Нормальный, ST: с аномалией зубца ST-T (инверсии зубца T и / или подъем или понижение ST > 0,05 мВ), LVH: с вероятной или определенной гипертрофией левого желудочка по критериям Эстеса] <br>\r\n",
    "MaxHR: максимальная достигнутая частота сердечных сокращений [числовое значение от 60 до 202] <br>\r\n",
    "ExerciseAngina: стенокардия, вызванная физической нагрузкой [Y: Да, N: Нет] <br>\r\n",
    "Oldpeak: Депрессия сегмента ST сердца <br> \r\n",
    "ST_Slope: наклон сегмента ST пикового упражнения [Up: восходящий, Flat: плоский, Down: нисходящий] <br> \r\n",
    "HeartDisease: наличие заболевания [1: заболевание сердца, 0: норма]"
   ],
   "metadata": {}
  },
  {
   "cell_type": "code",
   "execution_count": 191,
   "source": [
    "# Импорт библиотек\r\n",
    "import numpy as np\r\n",
    "import pandas as pd\r\n",
    "import matplotlib.pyplot as plt\r\n",
    "%matplotlib inline\r\n",
    "import scipy.stats as sts"
   ],
   "outputs": [],
   "metadata": {}
  },
  {
   "cell_type": "code",
   "execution_count": 192,
   "source": [
    "# Загружаем данные\r\n",
    "df = pd.read_csv('heart.csv')\r\n",
    "df.head()"
   ],
   "outputs": [
    {
     "output_type": "execute_result",
     "data": {
      "text/html": [
       "<div>\n",
       "<style scoped>\n",
       "    .dataframe tbody tr th:only-of-type {\n",
       "        vertical-align: middle;\n",
       "    }\n",
       "\n",
       "    .dataframe tbody tr th {\n",
       "        vertical-align: top;\n",
       "    }\n",
       "\n",
       "    .dataframe thead th {\n",
       "        text-align: right;\n",
       "    }\n",
       "</style>\n",
       "<table border=\"1\" class=\"dataframe\">\n",
       "  <thead>\n",
       "    <tr style=\"text-align: right;\">\n",
       "      <th></th>\n",
       "      <th>Age</th>\n",
       "      <th>Sex</th>\n",
       "      <th>ChestPainType</th>\n",
       "      <th>RestingBP</th>\n",
       "      <th>Cholesterol</th>\n",
       "      <th>FastingBS</th>\n",
       "      <th>RestingECG</th>\n",
       "      <th>MaxHR</th>\n",
       "      <th>ExerciseAngina</th>\n",
       "      <th>Oldpeak</th>\n",
       "      <th>ST_Slope</th>\n",
       "      <th>HeartDisease</th>\n",
       "    </tr>\n",
       "  </thead>\n",
       "  <tbody>\n",
       "    <tr>\n",
       "      <td>0</td>\n",
       "      <td>40</td>\n",
       "      <td>M</td>\n",
       "      <td>ATA</td>\n",
       "      <td>140</td>\n",
       "      <td>289</td>\n",
       "      <td>0</td>\n",
       "      <td>Normal</td>\n",
       "      <td>172</td>\n",
       "      <td>N</td>\n",
       "      <td>0.0</td>\n",
       "      <td>Up</td>\n",
       "      <td>0</td>\n",
       "    </tr>\n",
       "    <tr>\n",
       "      <td>1</td>\n",
       "      <td>49</td>\n",
       "      <td>F</td>\n",
       "      <td>NAP</td>\n",
       "      <td>160</td>\n",
       "      <td>180</td>\n",
       "      <td>0</td>\n",
       "      <td>Normal</td>\n",
       "      <td>156</td>\n",
       "      <td>N</td>\n",
       "      <td>1.0</td>\n",
       "      <td>Flat</td>\n",
       "      <td>1</td>\n",
       "    </tr>\n",
       "    <tr>\n",
       "      <td>2</td>\n",
       "      <td>37</td>\n",
       "      <td>M</td>\n",
       "      <td>ATA</td>\n",
       "      <td>130</td>\n",
       "      <td>283</td>\n",
       "      <td>0</td>\n",
       "      <td>ST</td>\n",
       "      <td>98</td>\n",
       "      <td>N</td>\n",
       "      <td>0.0</td>\n",
       "      <td>Up</td>\n",
       "      <td>0</td>\n",
       "    </tr>\n",
       "    <tr>\n",
       "      <td>3</td>\n",
       "      <td>48</td>\n",
       "      <td>F</td>\n",
       "      <td>ASY</td>\n",
       "      <td>138</td>\n",
       "      <td>214</td>\n",
       "      <td>0</td>\n",
       "      <td>Normal</td>\n",
       "      <td>108</td>\n",
       "      <td>Y</td>\n",
       "      <td>1.5</td>\n",
       "      <td>Flat</td>\n",
       "      <td>1</td>\n",
       "    </tr>\n",
       "    <tr>\n",
       "      <td>4</td>\n",
       "      <td>54</td>\n",
       "      <td>M</td>\n",
       "      <td>NAP</td>\n",
       "      <td>150</td>\n",
       "      <td>195</td>\n",
       "      <td>0</td>\n",
       "      <td>Normal</td>\n",
       "      <td>122</td>\n",
       "      <td>N</td>\n",
       "      <td>0.0</td>\n",
       "      <td>Up</td>\n",
       "      <td>0</td>\n",
       "    </tr>\n",
       "  </tbody>\n",
       "</table>\n",
       "</div>"
      ],
      "text/plain": [
       "   Age Sex ChestPainType  RestingBP  Cholesterol  FastingBS RestingECG  MaxHR  \\\n",
       "0   40   M           ATA        140          289          0     Normal    172   \n",
       "1   49   F           NAP        160          180          0     Normal    156   \n",
       "2   37   M           ATA        130          283          0         ST     98   \n",
       "3   48   F           ASY        138          214          0     Normal    108   \n",
       "4   54   M           NAP        150          195          0     Normal    122   \n",
       "\n",
       "  ExerciseAngina  Oldpeak ST_Slope  HeartDisease  \n",
       "0              N      0.0       Up             0  \n",
       "1              N      1.0     Flat             1  \n",
       "2              N      0.0       Up             0  \n",
       "3              Y      1.5     Flat             1  \n",
       "4              N      0.0       Up             0  "
      ]
     },
     "metadata": {},
     "execution_count": 192
    }
   ],
   "metadata": {}
  },
  {
   "cell_type": "code",
   "execution_count": 193,
   "source": [
    "# Проверим данные на наличие пропусков\r\n",
    "df.isna().sum(axis=0)"
   ],
   "outputs": [
    {
     "output_type": "execute_result",
     "data": {
      "text/plain": [
       "Age               0\n",
       "Sex               0\n",
       "ChestPainType     0\n",
       "RestingBP         0\n",
       "Cholesterol       0\n",
       "FastingBS         0\n",
       "RestingECG        0\n",
       "MaxHR             0\n",
       "ExerciseAngina    0\n",
       "Oldpeak           0\n",
       "ST_Slope          0\n",
       "HeartDisease      0\n",
       "dtype: int64"
      ]
     },
     "metadata": {},
     "execution_count": 193
    }
   ],
   "metadata": {}
  },
  {
   "cell_type": "markdown",
   "source": [
    "## Анализ признаков"
   ],
   "metadata": {}
  },
  {
   "cell_type": "markdown",
   "source": [
    "### Возраст"
   ],
   "metadata": {}
  },
  {
   "cell_type": "code",
   "execution_count": 194,
   "source": [
    "#Построим гистограммы распределения возраста\r\n",
    "decease = df[df.HeartDisease == 1].Age.values\r\n",
    "healthy = df[df.HeartDisease == 0].Age.values\r\n",
    "_ = plt.hist(healthy, label=\"Здоровые\")\r\n",
    "_ = plt.hist(decease, label=\"Люди с заболеванием сердца\", alpha=0.6)\r\n",
    "_ = plt.title(\"Гистограмма распределения возраста пациентов\")\r\n",
    "_ = plt.legend()"
   ],
   "outputs": [
    {
     "output_type": "display_data",
     "data": {
      "image/png": "[encoded data removed]",
      "text/plain": [
       "<Figure size 432x288 with 1 Axes>"
      ]
     },
     "metadata": {
      "needs_background": "light"
     }
    }
   ],
   "metadata": {}
  },
  {
   "cell_type": "markdown",
   "source": [
    "На гистограммах видно, что распределение возрастов людей с заболеваниями сердца смещено вправо. Проверим это формально, для этого проверим гипотезу о равенстве медиан возрастов."
   ],
   "metadata": {}
  },
  {
   "cell_type": "code",
   "execution_count": 195,
   "source": [
    "# Рассчитаем доверительный интервал для разности медиан с помощью бутстрепа и проверим гипотезу о равенстве медиан: \r\n",
    "# H0: M1=M2 (медианы равны)\r\n",
    "# H1: M1!= M2 (медианы не равны)\r\n",
    "\r\n",
    "def get_bootstrap_samples(data, n_samples):\r\n",
    "    indices = np.random.randint(0, len(data), (n_samples, len(data)))\r\n",
    "    samples = data[indices]\r\n",
    "    return samples\r\n",
    "\r\n",
    "def stat_intervals(stat, alpha):\r\n",
    "    boundaries = np.percentile(stat, [100 * alpha / 2., 100 * (1 - alpha / 2.)])\r\n",
    "    return boundaries\r\n",
    "\r\n",
    "np.random.seed(0)\r\n",
    "\r\n",
    "decease_median_scores = list(map(np.median, get_bootstrap_samples(decease, 1000)))\r\n",
    "healthy_median_scores = list(map(np.median, get_bootstrap_samples(healthy, 1000)))\r\n",
    "\r\n",
    "print(\"Точечная оценка медианы возраста для больных: \", np.median(decease))\r\n",
    "print(\"Точечная оценка медианы возраста для здоровых: \", np.median(healthy))\r\n",
    "\r\n",
    "delta_median_scores = list(map(lambda x: x[0] - x[1], zip(decease_median_scores, healthy_median_scores)))\r\n",
    "print(\"95% доверительный интервал для разности медиан\",  stat_intervals(delta_median_scores, 0.05))"
   ],
   "outputs": [
    {
     "output_type": "stream",
     "name": "stdout",
     "text": [
      "Точечная оценка медианы возраста для больных:  57.0\n",
      "Точечная оценка медианы возраста для здоровых:  51.0\n",
      "95% доверительный интервал для разности медиан [4. 7.]\n"
     ]
    }
   ],
   "metadata": {}
  },
  {
   "cell_type": "markdown",
   "source": [
    "95% доверительный интервал не содержит 0, значит гипотеза о равенстве медиан отвергается. Медианный возраст больных заболеваниями сердца выше на 4-7 лет. Можно сделать вывод о том, что возраст влияет на риск заболеваний сердца."
   ],
   "metadata": {}
  },
  {
   "cell_type": "markdown",
   "source": [
    "### Пол"
   ],
   "metadata": {}
  },
  {
   "cell_type": "code",
   "execution_count": 196,
   "source": [
    "# Построим диаграммы числа мужчин и женщин среди больных и здоровых\r\n",
    "# Заменим буквенные обозначения на числовые: [M: 0, F: 1])\r\n",
    "df = df.replace({\"M\" : 0, \"F\" : 1})\r\n",
    "decease = df[df.HeartDisease == 1].Sex.values\r\n",
    "healthy = df[df.HeartDisease == 0].Sex.values\r\n",
    "print(\"Доля женщин в выборке:\", df.Sex.sum() / len(df.Sex))\r\n",
    "fig, axes = plt.subplots(1, 2, figsize=(10,5))\r\n",
    "axes[0].hist(decease[decease == 0] ,label=\"Мужчины\")\r\n",
    "axes[0].hist(decease[decease == 1] ,label=\"Женщины\")\r\n",
    "axes[0].legend()\r\n",
    "axes[0].set_title(\"Пол больных заболеваниями сердца\")\r\n",
    "axes[1].hist(healthy[healthy == 0] ,label=\"Мужчины\")\r\n",
    "axes[1].hist(healthy[healthy == 1] ,label=\"Женщины\")\r\n",
    "axes[1].legend()\r\n",
    "_ = axes[1].set_title(\"Пол здоровых\")"
   ],
   "outputs": [
    {
     "output_type": "stream",
     "name": "stdout",
     "text": [
      "Доля женщин в выборке: 0.210239651416122\n"
     ]
    },
    {
     "output_type": "display_data",
     "data": {
      "image/png": "[encoded data removed]",
      "text/plain": [
       "<Figure size 720x360 with 2 Axes>"
      ]
     },
     "metadata": {
      "needs_background": "light"
     }
    }
   ],
   "metadata": {}
  },
  {
   "cell_type": "markdown",
   "source": [
    "По графикам создается впечатление, что доля женщин среди здоровых выше, чем среди больных. Проверим это формально с помощью z-критерия для долей."
   ],
   "metadata": {}
  },
  {
   "cell_type": "code",
   "execution_count": 197,
   "source": [
    "# Проверим гипотезу о равенстве равенстве долей женщин среди больных и здоровых с помощью z-критерия для долей (выборки независимы)\r\n",
    "# H0: p1 = p2 (доли женщин равны)\r\n",
    "# H1: p1 != p2 (доли женщин не равны)\r\n",
    "\r\n",
    "def proportion_ztest_ind(p1, n1, p2, n2):\r\n",
    "    P = (p1 * n1 + p2 * n2) / (n1 + n2)\r\n",
    "    z = (p1 - p2) / np.sqrt(P * (1 - P) * ((1 / n1) + (1 / n2)))\r\n",
    "    return 2 * (1 - sts.norm.cdf(np.abs(z)))\r\n",
    "\r\n",
    "def hypothesis_check(p, alpha=0.05):\r\n",
    "    print(\"Достигаемый уровень значимости:\", p)\r\n",
    "    if p < alpha:\r\n",
    "        print(\"Гипотеза Н0 отвергается на уровне значимости\", alpha)\r\n",
    "    else:\r\n",
    "        print(\"Гипотеза Н0 принимается на уровне значимости\", alpha)\r\n",
    "\r\n",
    "p1 = decease.sum()\r\n",
    "n1 = len(decease)\r\n",
    "p2 = healthy.sum()\r\n",
    "n2 = len(healthy)\r\n",
    "\r\n",
    "print(\"Точечная оценка доли женщин среди больных:\", round(p1 / n1 , 2))\r\n",
    "print(\"Точечная оценка доли женщин среди здоровых:\", round(p2 / n2 , 2))\r\n",
    "hypothesis_check(proportion_ztest_ind(p1 / n1, n1, p2 / n2, n2))\r\n"
   ],
   "outputs": [
    {
     "output_type": "stream",
     "name": "stdout",
     "text": [
      "Точечная оценка доли женщин среди больных: 0.1\n",
      "Точечная оценка доли женщин среди здоровых: 0.35\n",
      "Достигаемый уровень значимости: 0.0\n",
      "Гипотеза Н0 отвергается на уровне значимости 0.05\n"
     ]
    }
   ],
   "metadata": {}
  },
  {
   "cell_type": "markdown",
   "source": [
    "Гипотеза о равенстве долей женщин среди больных и здоровых отвергается на уровне значимости 0.05, можно сделать вывод, что пол пациента влияет на риск заболеваний сердца."
   ],
   "metadata": {}
  },
  {
   "cell_type": "markdown",
   "source": [
    "### Тип боли в груди"
   ],
   "metadata": {}
  },
  {
   "cell_type": "code",
   "execution_count": 198,
   "source": [
    "# Построим диаграммы числе людей с типами боли в груди среди больных и здоровых \r\n",
    "# Заменим буквенные обозначения на числовые: [TA: 0, ATA: 1, NAP: 2, ASY: 3])\r\n",
    "df = df.replace({\"TA\" : 0, \"ATA\" : 1, \"NAP\" : 2, \"ASY\" : 3})\r\n",
    "decease = df[df.HeartDisease == 1].ChestPainType.values\r\n",
    "healthy = df[df.HeartDisease == 0].ChestPainType.values\r\n",
    "fig, axes = plt.subplots(1, 2, figsize=(10,5))\r\n",
    "axes[0].hist(decease)\r\n",
    "axes[0].set_title(\"Типы боли в груди больных\")\r\n",
    "axes[1].hist(healthy)\r\n",
    "_ = axes[1].set_title(\"Типы боли в груди здоровых\")"
   ],
   "outputs": [
    {
     "output_type": "display_data",
     "data": {
      "image/png": "[encoded data removed]",
      "text/plain": [
       "<Figure size 720x360 with 2 Axes>"
      ]
     },
     "metadata": {
      "needs_background": "light"
     }
    }
   ],
   "metadata": {}
  },
  {
   "cell_type": "markdown",
   "source": [
    "По диаграммам видно, что у больных преобладает бессимптомные боли. Проверим связь между типом боли и наличием сердчного заболевания с помощью коэффициента ассоциации Крамера."
   ],
   "metadata": {}
  },
  {
   "cell_type": "code",
   "execution_count": 199,
   "source": [
    "# Мы имеем 2 категориальных признака, у типа боли в груди 4 градации, у наличия заболевания - 2. \r\n",
    "# Чтобы измерить степень ассоциации между ними посчитаем коэффициент V Крамера.\r\n",
    "\r\n",
    "def cramer(matrix):\r\n",
    "    chi2 = sts.chi2_contingency(matrix)[0]\r\n",
    "    n = sum(matrix.sum())\r\n",
    "    phi2 = chi2 / n\r\n",
    "    r, k = matrix.shape\r\n",
    "    phi2_corr = max(0, phi2 - ((k - 1) * (r - 1)) / (n - 1))\r\n",
    "    r_corr = r - ((r - 1) ** 2) / (n - 1)\r\n",
    "    k_corr = k - ((k - 1) ** 2) / (n - 1)\r\n",
    "    return np.sqrt(phi2_corr / min((k_corr - 1), (r_corr - 1)))\r\n",
    "\r\n",
    "matrix = pd.crosstab(df.HeartDisease, df.ChestPainType)\r\n",
    "print(\"Коэффициент V Крамера между типом боли в груди и наличием сердечного заболевания:\", cramer(matrix))"
   ],
   "outputs": [
    {
     "output_type": "stream",
     "name": "stdout",
     "text": [
      "Коэффициент V Крамера между типом боли в груди и наличием сердечного заболевания: 0.5376392140005096\n"
     ]
    }
   ],
   "metadata": {}
  },
  {
   "cell_type": "markdown",
   "source": [
    "Согласно рекомендациям Rea & Parker значение коэффициента Крамера в диапазоне 0.4 < 0.54 < 0.6 говорит об относительно сильной связи между величинами. Можно сделать вывод, что тип боли в груди влияет на риск сердечного заболевания."
   ],
   "metadata": {}
  },
  {
   "cell_type": "markdown",
   "source": [
    "### Артериальное давление (АД) в состоянии покоя"
   ],
   "metadata": {}
  },
  {
   "cell_type": "code",
   "execution_count": 200,
   "source": [
    "#Построим гистограммы распределения АД\r\n",
    "decease = df[df.HeartDisease == 1].RestingBP.values\r\n",
    "healthy = df[df.HeartDisease == 0].RestingBP.values\r\n",
    "_ = plt.hist(healthy, label=\"Здоровые\")\r\n",
    "_ = plt.hist(decease, label=\"Люди с заболеванием сердца\", alpha=0.6)\r\n",
    "_ = plt.title(\"Гистограмма распределения АД\")\r\n",
    "_ = plt.legend()"
   ],
   "outputs": [
    {
     "output_type": "display_data",
     "data": {
      "image/png": "[encoded data removed]",
      "text/plain": [
       "<Figure size 432x288 with 1 Axes>"
      ]
     },
     "metadata": {
      "needs_background": "light"
     }
    }
   ],
   "metadata": {}
  },
  {
   "cell_type": "markdown",
   "source": [
    "На гистограмме не видно значительных различий между здоровыми и больными людьми. Проверим гипотезу о равенстве средних с помощью t-критерия Стьюдента"
   ],
   "metadata": {}
  },
  {
   "cell_type": "code",
   "execution_count": 201,
   "source": [
    "# Проверим гипотезу о равенстве средних значений (выборки независимы) с помощью t-критерия. \r\n",
    "# Распределения не сильно отличаются от нормального, поэтому t-критерий можно применить.\r\n",
    "# H0: m1=m2 (средние значения равны)\r\n",
    "# H1: m1!= m2 (средние значения не равны)\r\n",
    "\r\n",
    "print(\"Точечная оценка среднего АД для больных: \", np.mean(decease))\r\n",
    "print(\"Точечная оценка среднего АД для здоровых: \", np.mean(healthy))\r\n",
    "\r\n",
    "_, p =sts.ttest_ind(decease, healthy)\r\n",
    "hypothesis_check(p)"
   ],
   "outputs": [
    {
     "output_type": "stream",
     "name": "stdout",
     "text": [
      "Точечная оценка среднего АД для больных:  134.18503937007873\n",
      "Точечная оценка среднего АД для здоровых:  130.18048780487806\n",
      "Достигаемый уровень значимости: 0.0010953145851724372\n",
      "Гипотеза Н0 отвергается на уровне значимости 0.05\n"
     ]
    }
   ],
   "metadata": {}
  },
  {
   "cell_type": "markdown",
   "source": [
    "Гипотезу о равенстве средних значений можно отвергнуть на уровне значимости 0.05, однако различие между средними не очень большое, поэтому возможно не представляет практической значимости."
   ],
   "metadata": {}
  },
  {
   "cell_type": "markdown",
   "source": [
    "### Cholesterol"
   ],
   "metadata": {}
  },
  {
   "cell_type": "code",
   "execution_count": 202,
   "source": [
    "#Построим гистограммы распределения сывороточного холестерина\r\n",
    "decease = df[df.HeartDisease == 1].Cholesterol.values\r\n",
    "healthy = df[df.HeartDisease == 0].Cholesterol.values\r\n",
    "_ = plt.hist(healthy, label=\"Здоровые\")\r\n",
    "_ = plt.hist(decease, label=\"Люди с заболеванием сердца\", alpha=0.6)\r\n",
    "_ = plt.title(\"Гистограмма распределения холестерина\")\r\n",
    "_ = plt.legend()"
   ],
   "outputs": [
    {
     "output_type": "display_data",
     "data": {
      "image/png": "[encoded data removed]",
      "text/plain": [
       "<Figure size 432x288 with 1 Axes>"
      ]
     },
     "metadata": {
      "needs_background": "light"
     }
    }
   ],
   "metadata": {}
  },
  {
   "cell_type": "markdown",
   "source": [
    "На гистограмме видно, что у распределения холестерина для больных людей много значений близких к нулю. Проверим гипотезу о равестве распределений холестерина с помощью критерия Манна-Уитни, так как распределения очень сильно отличаются от нормального."
   ],
   "metadata": {}
  },
  {
   "cell_type": "code",
   "execution_count": 203,
   "source": [
    "# Проверим гипотезу о равенстве распределений холестерина для больных и здоровых с помощью критерия Манна-Уитни (выборки независимы)\r\n",
    "# H0: F_x1(x) = F_x2(x) (выборки получены из одного распределения)\r\n",
    "# H1: F_x1(x) = F_x2(x + delta), delta != 0 (выборки получены из разных распределений)\r\n",
    "\r\n",
    "_, p =sts.mannwhitneyu(decease, healthy)\r\n",
    "hypothesis_check(p)"
   ],
   "outputs": [
    {
     "output_type": "stream",
     "name": "stdout",
     "text": [
      "Достигаемый уровень значимости: 1.1401561817724619e-05\n",
      "Гипотеза Н0 отвергается на уровне значимости 0.05\n"
     ]
    }
   ],
   "metadata": {}
  },
  {
   "cell_type": "markdown",
   "source": [
    "Гипотеза о равенства распределений отвергается на уровне значимости 0.05, однако сложно сказать, почему у людей с низким сывороточным холестерином высокий риск заболеваний сердца. "
   ],
   "metadata": {}
  },
  {
   "cell_type": "markdown",
   "source": [
    "### Уровень сахара"
   ],
   "metadata": {}
  },
  {
   "cell_type": "code",
   "execution_count": 204,
   "source": [
    "# Построим диаграммы числа людей с высоким и низким уровнем сахара натощак среди больных и здоровых\r\n",
    "decease = df[df.HeartDisease == 1].FastingBS.values\r\n",
    "healthy = df[df.HeartDisease == 0].FastingBS.values\r\n",
    "fig, axes = plt.subplots(1, 2, figsize=(10,5))\r\n",
    "axes[0].hist(decease[decease == 0] ,label=\"Низкий\")\r\n",
    "axes[0].hist(decease[decease == 1] ,label=\"Высокий\")\r\n",
    "axes[0].legend()\r\n",
    "axes[0].set_title(\"Уровень сахара  больных заболеваниями сердца\")\r\n",
    "axes[1].hist(healthy[healthy == 0] ,label=\"Низкий\")\r\n",
    "axes[1].hist(healthy[healthy == 1] ,label=\"Высокий\")\r\n",
    "axes[1].legend()\r\n",
    "_ = axes[1].set_title(\"Уровень сахара здоровых\")"
   ],
   "outputs": [
    {
     "output_type": "display_data",
     "data": {
      "image/png": "[encoded data removed]",
      "text/plain": [
       "<Figure size 720x360 with 2 Axes>"
      ]
     },
     "metadata": {
      "needs_background": "light"
     }
    }
   ],
   "metadata": {}
  },
  {
   "cell_type": "markdown",
   "source": [
    "На графиках хорошо видно, что среди больных доля людей с высоким уровнем сахара выше, чем среди здоровых. Проверим значимость этого различия с помощью z-критерия для разности долей."
   ],
   "metadata": {}
  },
  {
   "cell_type": "code",
   "execution_count": 205,
   "source": [
    "# Проверим гипотезу о равенстве равенстве долей людей с высоким уровнем сахара среди больных и здоровых с помощью z-критерия для долей (выборки независимы)\r\n",
    "# H0: p1 = p2 (доли равны)\r\n",
    "# H1: p1 != p2 (долине равны)\r\n",
    "\r\n",
    "p1 = decease.sum()\r\n",
    "n1 = len(decease)\r\n",
    "p2 = healthy.sum()\r\n",
    "n2 = len(healthy)\r\n",
    "\r\n",
    "print(\"Точечная оценка доли людей с высоким уровнем сахара среди больных:\", round(p1 / n1 , 2))\r\n",
    "print(\"Точечная оценка доли людей с высоким уровнем сахара среди здоровых:\", round(p2 / n2 , 2))\r\n",
    "hypothesis_check(proportion_ztest_ind(p1 / n1, n1, p2 / n2, n2))"
   ],
   "outputs": [
    {
     "output_type": "stream",
     "name": "stdout",
     "text": [
      "Точечная оценка доли людей с высоким уровнем сахара среди больных: 0.33\n",
      "Точечная оценка доли людей с высоким уровнем сахара среди здоровых: 0.11\n",
      "Достигаемый уровень значимости: 6.661338147750939e-16\n",
      "Гипотеза Н0 отвергается на уровне значимости 0.05\n"
     ]
    }
   ],
   "metadata": {}
  },
  {
   "cell_type": "markdown",
   "source": [
    "Гипотеза о равенстве долей отвергается на уровне значимости 0.05, можно сделать вывод что уровень сахара влияет на риск сердченых заболеваний."
   ],
   "metadata": {}
  },
  {
   "cell_type": "markdown",
   "source": [
    "### Электрокардиограмма в состоянии покоя "
   ],
   "metadata": {}
  },
  {
   "cell_type": "code",
   "execution_count": 206,
   "source": [
    "# Построим диаграммы числа людей с различными результатами ЭКГ среди больных и здоровых \r\n",
    "# Заменим буквенные обозначения на числовые:# [0: Нормальный, 1: с аномалией зубца ST-T (инверсии зубца T и / или подъем или понижение ST > 0,05 мВ), \r\n",
    "# 2:  с вероятной или определенной гипертрофией левого желудочка по критериям Эстеса]\r\n",
    "df = df.replace({\"Normal\" : 0, \"ST\" : 1, \"LVH\" : 2})\r\n",
    "decease = df[df.HeartDisease == 1].RestingECG.values\r\n",
    "healthy = df[df.HeartDisease == 0].RestingECG.values\r\n",
    "fig, axes = plt.subplots(1, 2, figsize=(10,5))\r\n",
    "axes[0].hist(decease)\r\n",
    "axes[0].set_title(\"ЭКГ больных\")\r\n",
    "axes[1].hist(healthy)\r\n",
    "_ = axes[1].set_title(\"ЭКГ здоровых\")"
   ],
   "outputs": [
    {
     "output_type": "display_data",
     "data": {
      "image/png": "[encoded data removed]",
      "text/plain": [
       "<Figure size 720x360 with 2 Axes>"
      ]
     },
     "metadata": {
      "needs_background": "light"
     }
    }
   ],
   "metadata": {}
  },
  {
   "cell_type": "markdown",
   "source": [
    "На графиках заметно, что у здоровых людей доля нормальной ЭКГ выше, чем у больных. Проверим связь между ЭКГ и наличием сердчного заболевания с помощью коэффициента ассоциации Крамера."
   ],
   "metadata": {}
  },
  {
   "cell_type": "code",
   "execution_count": 207,
   "source": [
    "# Мы имеем 2 категориальных признака, у ЭКГ 3 градации, у наличия заболевания - 2. \r\n",
    "# Чтобы измерить степень ассоциации между ними посчитаем коэффициент V Крамера.\r\n",
    "\r\n",
    "matrix = pd.crosstab(df.HeartDisease, df.RestingECG)\r\n",
    "print(\"Коэффициент V Крамера между результатом ЭКГ и наличием сердечного заболевания:\", cramer(matrix))"
   ],
   "outputs": [
    {
     "output_type": "stream",
     "name": "stdout",
     "text": [
      "Коэффициент V Крамера между результатом ЭКГ и наличием сердечного заболевания: 0.0986788349534133\n"
     ]
    }
   ],
   "metadata": {}
  },
  {
   "cell_type": "markdown",
   "source": [
    "Согласно рекомендациям Rea & Parker значение коэффициента Крамера в диапазоне 0.099 < 0.1 говорит об отсутствии связи между величинами. Можно сделать вывод, что результат ЭКГ не влияет на риск сердечного заболевания."
   ],
   "metadata": {}
  },
  {
   "cell_type": "markdown",
   "source": [
    "### Максимальная достигнутая частота сердечных сокращений (чсс)"
   ],
   "metadata": {}
  },
  {
   "cell_type": "code",
   "execution_count": 208,
   "source": [
    "#Построим гистограммы распределения максимальной чсс для больных и здоровых\r\n",
    "decease = df[df.HeartDisease == 1].MaxHR.values\r\n",
    "healthy = df[df.HeartDisease == 0].MaxHR.values\r\n",
    "_ = plt.hist(healthy, label=\"Здоровые\")\r\n",
    "_ = plt.hist(decease, label=\"Люди с заболеванием сердца\", alpha=0.6)\r\n",
    "_ = plt.title(\"Гистограмма распределения максимальной чсс\")\r\n",
    "_ = plt.legend()"
   ],
   "outputs": [
    {
     "output_type": "display_data",
     "data": {
      "image/png": "[encoded data removed]",
      "text/plain": [
       "<Figure size 432x288 with 1 Axes>"
      ]
     },
     "metadata": {
      "needs_background": "light"
     }
    }
   ],
   "metadata": {}
  },
  {
   "cell_type": "markdown",
   "source": [
    "На гистограмме видно, что максимальная чсс у здоровых людей в среднем выше, чем у больных. Распределения не сильно отличаются от нормального,поэтому проверим гипотезу о равенстве средних с помощью t-критерия Стьюдента, "
   ],
   "metadata": {}
  },
  {
   "cell_type": "code",
   "execution_count": 209,
   "source": [
    "# Проверим гипотезу о равенстве средних значений (выборки независимы) с помощью t-критерия. \r\n",
    "# H0: m1=m2 (средние значения равны)\r\n",
    "# H1: m1!= m2 (средние значения не равны)\r\n",
    "\r\n",
    "print(\"Точечная оценка максимальной чсс для больных: \", np.mean(decease))\r\n",
    "print(\"Точечная оценка максимальной чсс для здоровых: \", np.mean(healthy))\r\n",
    "\r\n",
    "_, p =sts.ttest_ind(decease, healthy)\r\n",
    "hypothesis_check(p)"
   ],
   "outputs": [
    {
     "output_type": "stream",
     "name": "stdout",
     "text": [
      "Точечная оценка максимальной чсс для больных:  127.65551181102362\n",
      "Точечная оценка максимальной чсс для здоровых:  148.15121951219513\n",
      "Достигаемый уровень значимости: 1.1377859840278095e-36\n",
      "Гипотеза Н0 отвергается на уровне значимости 0.05\n"
     ]
    }
   ],
   "metadata": {}
  },
  {
   "cell_type": "markdown",
   "source": [
    "Гипотеза о равенстве средних отвергается на уровне значимости 0.05, из чего можно сделать вывод, что максимальная чсс связана с наличием у человека сердечного заболевания."
   ],
   "metadata": {}
  },
  {
   "cell_type": "markdown",
   "source": [
    "### Стенокардия, вызванная нагрузкой"
   ],
   "metadata": {}
  },
  {
   "cell_type": "code",
   "execution_count": 210,
   "source": [
    "# Построим диаграммы числа людей со стенокардией и без среди больных и здоровых\r\n",
    "# Заменим буквенные обозначения на числовые: [Y: 1, N: 0])\r\n",
    "df = df.replace({\"N\" : 0, \"Y\" : 1})\r\n",
    "decease = df[df.HeartDisease == 1].ExerciseAngina.values\r\n",
    "healthy = df[df.HeartDisease == 0].ExerciseAngina.values\r\n",
    "fig, axes = plt.subplots(1, 2, figsize=(10,5))\r\n",
    "axes[0].hist(decease[decease == 0] ,label=\"Нет\")\r\n",
    "axes[0].hist(decease[decease == 1] ,label=\"Стенокардия\")\r\n",
    "axes[0].legend()\r\n",
    "axes[0].set_title(\"Стенокардия у больных заболеваниями сердца\")\r\n",
    "axes[1].hist(healthy[healthy == 0] ,label=\"Нет\")\r\n",
    "axes[1].hist(healthy[healthy == 1] ,label=\"Стенокардия\")\r\n",
    "axes[1].legend()\r\n",
    "_ = axes[1].set_title(\"Стенокардия у здоровых\")"
   ],
   "outputs": [
    {
     "output_type": "display_data",
     "data": {
      "image/png": "[encoded data removed]",
      "text/plain": [
       "<Figure size 720x360 with 2 Axes>"
      ]
     },
     "metadata": {
      "needs_background": "light"
     }
    }
   ],
   "metadata": {}
  },
  {
   "cell_type": "markdown",
   "source": [
    "По графикам явно видно, что доля людей со стенокардией у больных значительно выше, чем у здоровых. Очевидно различие значимо, посмотрим на доли людей со стенокардией среди больных и здоровых."
   ],
   "metadata": {}
  },
  {
   "cell_type": "code",
   "execution_count": 211,
   "source": [
    "p1 = decease.sum()\r\n",
    "n1 = len(decease)\r\n",
    "p2 = healthy.sum()\r\n",
    "n2 = len(healthy)\r\n",
    "\r\n",
    "print(\"Точечная оценка доли людей со стенокардией среди больных:\", round(p1 / n1 , 2))\r\n",
    "print(\"Точечная оценка доли людей со стенокардией среди здоровых:\", round(p2 / n2 , 2))"
   ],
   "outputs": [
    {
     "output_type": "stream",
     "name": "stdout",
     "text": [
      "Точечная оценка доли людей со стенокардией среди больных: 0.62\n",
      "Точечная оценка доли людей со стенокардией среди здоровых: 0.13\n"
     ]
    }
   ],
   "metadata": {}
  },
  {
   "cell_type": "markdown",
   "source": [
    "Различие очень велико, и его можно считать практически значимым."
   ],
   "metadata": {}
  },
  {
   "cell_type": "markdown",
   "source": [
    "### Депрессия сегмента ST"
   ],
   "metadata": {}
  },
  {
   "cell_type": "code",
   "execution_count": 212,
   "source": [
    "#Построим гистограммы распределения депрессии ST для больных и здоровых\r\n",
    "decease = df[df.HeartDisease == 1].Oldpeak.values\r\n",
    "healthy = df[df.HeartDisease == 0].Oldpeak.values\r\n",
    "_ = plt.hist(healthy, label=\"Здоровые\")\r\n",
    "_ = plt.hist(decease, label=\"Люди с заболеванием сердца\", alpha=0.6)\r\n",
    "_ = plt.title(\"Гистограмма распределения депрессии ST\")\r\n",
    "_ = plt.legend()"
   ],
   "outputs": [
    {
     "output_type": "display_data",
     "data": {
      "image/png": "[encoded data removed]",
      "text/plain": [
       "<Figure size 432x288 with 1 Axes>"
      ]
     },
     "metadata": {
      "needs_background": "light"
     }
    }
   ],
   "metadata": {}
  },
  {
   "cell_type": "markdown",
   "source": [
    "По графику видно что распределения сильно отличаются. У здоровых людей данный показатель в среднем близок к 0, тогда как у больных наоборот, в основном отличен от нуля."
   ],
   "metadata": {}
  },
  {
   "cell_type": "markdown",
   "source": [
    "### Наклон сегмента ST пикового упражнения"
   ],
   "metadata": {}
  },
  {
   "cell_type": "code",
   "execution_count": 213,
   "source": [
    "# Построим диаграммы числа людей с различными наклонами сегмента ST пикового упражнения среди больных и здоровых \r\n",
    "# Заменим буквенные обозначения на числовые:# [0: восходящий, 1: плоский, 2: нисходящий]\r\n",
    "df = df.replace({\"Up\" : 0, \"Flat\" : 1, \"Down\" : 2})\r\n",
    "decease = df[df.HeartDisease == 1].ST_Slope.values\r\n",
    "healthy = df[df.HeartDisease == 0].ST_Slope.values\r\n",
    "fig, axes = plt.subplots(1, 2, figsize=(10,5))\r\n",
    "axes[0].hist(decease)\r\n",
    "axes[0].set_title(\"Наклон сегмента ST\\nпикового упражнения больных\")\r\n",
    "axes[1].hist(healthy)\r\n",
    "_ = axes[1].set_title(\"Наклон сегмента ST\\nпикового упражнения здоровых\")"
   ],
   "outputs": [
    {
     "output_type": "display_data",
     "data": {
      "image/png": "[encoded data removed]",
      "text/plain": [
       "<Figure size 720x360 with 2 Axes>"
      ]
     },
     "metadata": {
      "needs_background": "light"
     }
    }
   ],
   "metadata": {}
  },
  {
   "cell_type": "markdown",
   "source": [
    "По графикам видно, что у больных преобладает плоский наклон, тогда как у больных - восходящий. Проверим связь между наклоном сегмента ST пикового упражнения и наличием сердчного заболевания с помощью коэффициента ассоциации Крамера."
   ],
   "metadata": {}
  },
  {
   "cell_type": "code",
   "execution_count": 214,
   "source": [
    "# Мы имеем 2 категориальных признака, у наклона сегмента ST пикового упражнения 3 градации, у наличия заболевания - 2. \r\n",
    "# Чтобы измерить степень ассоциации между ними посчитаем коэффициент V Крамера.\r\n",
    "\r\n",
    "matrix = pd.crosstab(df.HeartDisease, df.ST_Slope)\r\n",
    "print(\"Коэффициент V Крамера между результатом ЭКГ и наличием сердечного заболевания:\", cramer(matrix))"
   ],
   "outputs": [
    {
     "output_type": "stream",
     "name": "stdout",
     "text": [
      "Коэффициент V Крамера между результатом ЭКГ и наличием сердечного заболевания: 0.6212492103002963\n"
     ]
    }
   ],
   "metadata": {}
  },
  {
   "cell_type": "markdown",
   "source": [
    "Согласно рекомендациям Rea & Parker значение коэффициента Крамера в диапазоне 0.6< 0.62 < 0.1 говорит о сильной связи между величинами. Можно сделать вывод, что наклон сегмента ST пикового упражнения связан с риском сердечного заболевания."
   ],
   "metadata": {}
  },
  {
   "cell_type": "markdown",
   "source": [
    "## Построение предсказательной модели"
   ],
   "metadata": {}
  },
  {
   "cell_type": "markdown",
   "source": [
    "### Логистическая регрессия"
   ],
   "metadata": {}
  },
  {
   "cell_type": "markdown",
   "source": [
    "Обучим на данных 2 модели с использованием кросс-валидации: логистическую регрессию и случайный лес."
   ],
   "metadata": {}
  },
  {
   "cell_type": "code",
   "execution_count": 215,
   "source": [
    "from sklearn.linear_model import LogisticRegression\r\n",
    "from sklearn.model_selection import cross_val_score\r\n",
    "\r\n",
    "x = df.iloc[:, :11]\r\n",
    "y = df.HeartDisease\r\n",
    "\r\n",
    "model = LogisticRegression(penalty='l2', solver='lbfgs', max_iter=1000)\r\n",
    "score = np.mean(cross_val_score(model, x, y, cv=5))\r\n",
    "\r\n",
    "print(\"Средняя точность логистической регрессии:\", score)"
   ],
   "outputs": [
    {
     "output_type": "stream",
     "name": "stdout",
     "text": [
      "Средняя точность логистической регрессии: 0.8082679971489666\n"
     ]
    }
   ],
   "metadata": {}
  },
  {
   "cell_type": "markdown",
   "source": [
    "### Случайный лес"
   ],
   "metadata": {}
  },
  {
   "cell_type": "code",
   "execution_count": 216,
   "source": [
    "from sklearn.ensemble import RandomForestClassifier\r\n",
    "\r\n",
    "forest = RandomForestClassifier(n_estimators=200)\r\n",
    "score = np.mean(cross_val_score(forest, x, y, cv=5))\r\n",
    "print(\"Средняя точность случайного леса:\", score)"
   ],
   "outputs": [
    {
     "output_type": "stream",
     "name": "stdout",
     "text": [
      "Средняя точность случайного леса: 0.8343727726300785\n"
     ]
    }
   ],
   "metadata": {}
  },
  {
   "cell_type": "markdown",
   "source": [
    "В среднем случайный лес имеет точность примерно на 2% выше, чем логистическая регрессия. Теперь посмотрим на коэффициенты логистической регрессии."
   ],
   "metadata": {}
  },
  {
   "cell_type": "code",
   "execution_count": 217,
   "source": [
    "import statsmodels.api as sm\r\n",
    "\r\n",
    "model1 = sm.GLM(y, x, family=sm.families.Binomial())\r\n",
    "model1_results = model1.fit()\r\n",
    "model1_results.summary()"
   ],
   "outputs": [
    {
     "output_type": "execute_result",
     "data": {
      "text/html": [
       "<table class=\"simpletable\">\n",
       "<caption>Generalized Linear Model Regression Results</caption>\n",
       "<tr>\n",
       "  <th>Dep. Variable:</th>     <td>HeartDisease</td>   <th>  No. Observations:  </th>  <td>   918</td> \n",
       "</tr>\n",
       "<tr>\n",
       "  <th>Model:</th>                  <td>GLM</td>       <th>  Df Residuals:      </th>  <td>   907</td> \n",
       "</tr>\n",
       "<tr>\n",
       "  <th>Model Family:</th>        <td>Binomial</td>     <th>  Df Model:          </th>  <td>    10</td> \n",
       "</tr>\n",
       "<tr>\n",
       "  <th>Link Function:</th>         <td>logit</td>      <th>  Scale:             </th> <td>  1.0000</td>\n",
       "</tr>\n",
       "<tr>\n",
       "  <th>Method:</th>                <td>IRLS</td>       <th>  Log-Likelihood:    </th> <td> -333.92</td>\n",
       "</tr>\n",
       "<tr>\n",
       "  <th>Date:</th>            <td>Sun, 26 Sep 2021</td> <th>  Deviance:          </th> <td>  667.85</td>\n",
       "</tr>\n",
       "<tr>\n",
       "  <th>Time:</th>                <td>21:46:03</td>     <th>  Pearson chi2:      </th> <td>1.17e+03</td>\n",
       "</tr>\n",
       "<tr>\n",
       "  <th>No. Iterations:</th>          <td>6</td>        <th>                     </th>     <td> </td>   \n",
       "</tr>\n",
       "<tr>\n",
       "  <th>Covariance Type:</th>     <td>nonrobust</td>    <th>                     </th>     <td> </td>   \n",
       "</tr>\n",
       "</table>\n",
       "<table class=\"simpletable\">\n",
       "<tr>\n",
       "         <td></td>           <th>coef</th>     <th>std err</th>      <th>z</th>      <th>P>|z|</th>  <th>[0.025</th>    <th>0.975]</th>  \n",
       "</tr>\n",
       "<tr>\n",
       "  <th>Age</th>            <td>   -0.0009</td> <td>    0.010</td> <td>   -0.085</td> <td> 0.932</td> <td>   -0.021</td> <td>    0.019</td>\n",
       "</tr>\n",
       "<tr>\n",
       "  <th>Sex</th>            <td>   -1.2653</td> <td>    0.251</td> <td>   -5.033</td> <td> 0.000</td> <td>   -1.758</td> <td>   -0.773</td>\n",
       "</tr>\n",
       "<tr>\n",
       "  <th>ChestPainType</th>  <td>    0.6486</td> <td>    0.105</td> <td>    6.188</td> <td> 0.000</td> <td>    0.443</td> <td>    0.854</td>\n",
       "</tr>\n",
       "<tr>\n",
       "  <th>RestingBP</th>      <td>   -0.0012</td> <td>    0.005</td> <td>   -0.233</td> <td> 0.816</td> <td>   -0.011</td> <td>    0.009</td>\n",
       "</tr>\n",
       "<tr>\n",
       "  <th>Cholesterol</th>    <td>   -0.0032</td> <td>    0.001</td> <td>   -3.177</td> <td> 0.001</td> <td>   -0.005</td> <td>   -0.001</td>\n",
       "</tr>\n",
       "<tr>\n",
       "  <th>FastingBS</th>      <td>    1.0961</td> <td>    0.258</td> <td>    4.241</td> <td> 0.000</td> <td>    0.589</td> <td>    1.603</td>\n",
       "</tr>\n",
       "<tr>\n",
       "  <th>RestingECG</th>     <td>    0.1121</td> <td>    0.123</td> <td>    0.911</td> <td> 0.363</td> <td>   -0.129</td> <td>    0.353</td>\n",
       "</tr>\n",
       "<tr>\n",
       "  <th>MaxHR</th>          <td>   -0.0147</td> <td>    0.003</td> <td>   -4.433</td> <td> 0.000</td> <td>   -0.021</td> <td>   -0.008</td>\n",
       "</tr>\n",
       "<tr>\n",
       "  <th>ExerciseAngina</th> <td>    1.0599</td> <td>    0.231</td> <td>    4.581</td> <td> 0.000</td> <td>    0.606</td> <td>    1.513</td>\n",
       "</tr>\n",
       "<tr>\n",
       "  <th>Oldpeak</th>        <td>    0.3778</td> <td>    0.113</td> <td>    3.330</td> <td> 0.001</td> <td>    0.155</td> <td>    0.600</td>\n",
       "</tr>\n",
       "<tr>\n",
       "  <th>ST_Slope</th>       <td>    1.5865</td> <td>    0.200</td> <td>    7.943</td> <td> 0.000</td> <td>    1.195</td> <td>    1.978</td>\n",
       "</tr>\n",
       "</table>"
      ],
      "text/plain": [
       "<class 'statsmodels.iolib.summary.Summary'>\n",
       "\"\"\"\n",
       "                 Generalized Linear Model Regression Results                  \n",
       "==============================================================================\n",
       "Dep. Variable:           HeartDisease   No. Observations:                  918\n",
       "Model:                            GLM   Df Residuals:                      907\n",
       "Model Family:                Binomial   Df Model:                           10\n",
       "Link Function:                  logit   Scale:                          1.0000\n",
       "Method:                          IRLS   Log-Likelihood:                -333.92\n",
       "Date:                Sun, 26 Sep 2021   Deviance:                       667.85\n",
       "Time:                        21:46:03   Pearson chi2:                 1.17e+03\n",
       "No. Iterations:                     6                                         \n",
       "Covariance Type:            nonrobust                                         \n",
       "==================================================================================\n",
       "                     coef    std err          z      P>|z|      [0.025      0.975]\n",
       "----------------------------------------------------------------------------------\n",
       "Age               -0.0009      0.010     -0.085      0.932      -0.021       0.019\n",
       "Sex               -1.2653      0.251     -5.033      0.000      -1.758      -0.773\n",
       "ChestPainType      0.6486      0.105      6.188      0.000       0.443       0.854\n",
       "RestingBP         -0.0012      0.005     -0.233      0.816      -0.011       0.009\n",
       "Cholesterol       -0.0032      0.001     -3.177      0.001      -0.005      -0.001\n",
       "FastingBS          1.0961      0.258      4.241      0.000       0.589       1.603\n",
       "RestingECG         0.1121      0.123      0.911      0.363      -0.129       0.353\n",
       "MaxHR             -0.0147      0.003     -4.433      0.000      -0.021      -0.008\n",
       "ExerciseAngina     1.0599      0.231      4.581      0.000       0.606       1.513\n",
       "Oldpeak            0.3778      0.113      3.330      0.001       0.155       0.600\n",
       "ST_Slope           1.5865      0.200      7.943      0.000       1.195       1.978\n",
       "==================================================================================\n",
       "\"\"\""
      ]
     },
     "metadata": {},
     "execution_count": 217
    }
   ],
   "metadata": {}
  },
  {
   "cell_type": "markdown",
   "source": [
    "Коэффициенты при возрасте, максимальном АД и результате ЭКГ не значимы на уровне значимости 0.05. Из анализа выше мы сделали подобные выводы насчет максимального АД и результатов ЭКГ, что касается возраста, то нами была переоцененая его практическая значимость. Посмотрим на корреляции между признаками"
   ],
   "metadata": {}
  },
  {
   "cell_type": "code",
   "execution_count": 218,
   "source": [
    "df.corr()"
   ],
   "outputs": [
    {
     "output_type": "execute_result",
     "data": {
      "text/html": [
       "<div>\n",
       "<style scoped>\n",
       "    .dataframe tbody tr th:only-of-type {\n",
       "        vertical-align: middle;\n",
       "    }\n",
       "\n",
       "    .dataframe tbody tr th {\n",
       "        vertical-align: top;\n",
       "    }\n",
       "\n",
       "    .dataframe thead th {\n",
       "        text-align: right;\n",
       "    }\n",
       "</style>\n",
       "<table border=\"1\" class=\"dataframe\">\n",
       "  <thead>\n",
       "    <tr style=\"text-align: right;\">\n",
       "      <th></th>\n",
       "      <th>Age</th>\n",
       "      <th>Sex</th>\n",
       "      <th>ChestPainType</th>\n",
       "      <th>RestingBP</th>\n",
       "      <th>Cholesterol</th>\n",
       "      <th>FastingBS</th>\n",
       "      <th>RestingECG</th>\n",
       "      <th>MaxHR</th>\n",
       "      <th>ExerciseAngina</th>\n",
       "      <th>Oldpeak</th>\n",
       "      <th>ST_Slope</th>\n",
       "      <th>HeartDisease</th>\n",
       "    </tr>\n",
       "  </thead>\n",
       "  <tbody>\n",
       "    <tr>\n",
       "      <td>Age</td>\n",
       "      <td>1.000000</td>\n",
       "      <td>-0.055750</td>\n",
       "      <td>0.165896</td>\n",
       "      <td>0.254399</td>\n",
       "      <td>-0.095282</td>\n",
       "      <td>0.198039</td>\n",
       "      <td>0.213152</td>\n",
       "      <td>-0.382045</td>\n",
       "      <td>0.215793</td>\n",
       "      <td>0.258612</td>\n",
       "      <td>0.268264</td>\n",
       "      <td>0.282039</td>\n",
       "    </tr>\n",
       "    <tr>\n",
       "      <td>Sex</td>\n",
       "      <td>-0.055750</td>\n",
       "      <td>1.000000</td>\n",
       "      <td>-0.168254</td>\n",
       "      <td>-0.005133</td>\n",
       "      <td>0.200092</td>\n",
       "      <td>-0.120076</td>\n",
       "      <td>0.018343</td>\n",
       "      <td>0.189186</td>\n",
       "      <td>-0.190664</td>\n",
       "      <td>-0.105734</td>\n",
       "      <td>-0.150693</td>\n",
       "      <td>-0.305445</td>\n",
       "    </tr>\n",
       "    <tr>\n",
       "      <td>ChestPainType</td>\n",
       "      <td>0.165896</td>\n",
       "      <td>-0.168254</td>\n",
       "      <td>1.000000</td>\n",
       "      <td>0.022168</td>\n",
       "      <td>-0.136139</td>\n",
       "      <td>0.116703</td>\n",
       "      <td>0.031383</td>\n",
       "      <td>-0.343654</td>\n",
       "      <td>0.416625</td>\n",
       "      <td>0.245027</td>\n",
       "      <td>0.317480</td>\n",
       "      <td>0.471354</td>\n",
       "    </tr>\n",
       "    <tr>\n",
       "      <td>RestingBP</td>\n",
       "      <td>0.254399</td>\n",
       "      <td>-0.005133</td>\n",
       "      <td>0.022168</td>\n",
       "      <td>1.000000</td>\n",
       "      <td>0.100893</td>\n",
       "      <td>0.070193</td>\n",
       "      <td>0.097661</td>\n",
       "      <td>-0.112135</td>\n",
       "      <td>0.155101</td>\n",
       "      <td>0.164803</td>\n",
       "      <td>0.075162</td>\n",
       "      <td>0.107589</td>\n",
       "    </tr>\n",
       "    <tr>\n",
       "      <td>Cholesterol</td>\n",
       "      <td>-0.095282</td>\n",
       "      <td>0.200092</td>\n",
       "      <td>-0.136139</td>\n",
       "      <td>0.100893</td>\n",
       "      <td>1.000000</td>\n",
       "      <td>-0.260974</td>\n",
       "      <td>0.112095</td>\n",
       "      <td>0.235792</td>\n",
       "      <td>-0.034166</td>\n",
       "      <td>0.050148</td>\n",
       "      <td>-0.111471</td>\n",
       "      <td>-0.232741</td>\n",
       "    </tr>\n",
       "    <tr>\n",
       "      <td>FastingBS</td>\n",
       "      <td>0.198039</td>\n",
       "      <td>-0.120076</td>\n",
       "      <td>0.116703</td>\n",
       "      <td>0.070193</td>\n",
       "      <td>-0.260974</td>\n",
       "      <td>1.000000</td>\n",
       "      <td>0.050707</td>\n",
       "      <td>-0.131438</td>\n",
       "      <td>0.060451</td>\n",
       "      <td>0.052698</td>\n",
       "      <td>0.175774</td>\n",
       "      <td>0.267291</td>\n",
       "    </tr>\n",
       "    <tr>\n",
       "      <td>RestingECG</td>\n",
       "      <td>0.213152</td>\n",
       "      <td>0.018343</td>\n",
       "      <td>0.031383</td>\n",
       "      <td>0.097661</td>\n",
       "      <td>0.112095</td>\n",
       "      <td>0.050707</td>\n",
       "      <td>1.000000</td>\n",
       "      <td>0.048552</td>\n",
       "      <td>0.036119</td>\n",
       "      <td>0.114428</td>\n",
       "      <td>0.078807</td>\n",
       "      <td>0.061011</td>\n",
       "    </tr>\n",
       "    <tr>\n",
       "      <td>MaxHR</td>\n",
       "      <td>-0.382045</td>\n",
       "      <td>0.189186</td>\n",
       "      <td>-0.343654</td>\n",
       "      <td>-0.112135</td>\n",
       "      <td>0.235792</td>\n",
       "      <td>-0.131438</td>\n",
       "      <td>0.048552</td>\n",
       "      <td>1.000000</td>\n",
       "      <td>-0.370425</td>\n",
       "      <td>-0.160691</td>\n",
       "      <td>-0.343419</td>\n",
       "      <td>-0.400421</td>\n",
       "    </tr>\n",
       "    <tr>\n",
       "      <td>ExerciseAngina</td>\n",
       "      <td>0.215793</td>\n",
       "      <td>-0.190664</td>\n",
       "      <td>0.416625</td>\n",
       "      <td>0.155101</td>\n",
       "      <td>-0.034166</td>\n",
       "      <td>0.060451</td>\n",
       "      <td>0.036119</td>\n",
       "      <td>-0.370425</td>\n",
       "      <td>1.000000</td>\n",
       "      <td>0.408752</td>\n",
       "      <td>0.428706</td>\n",
       "      <td>0.494282</td>\n",
       "    </tr>\n",
       "    <tr>\n",
       "      <td>Oldpeak</td>\n",
       "      <td>0.258612</td>\n",
       "      <td>-0.105734</td>\n",
       "      <td>0.245027</td>\n",
       "      <td>0.164803</td>\n",
       "      <td>0.050148</td>\n",
       "      <td>0.052698</td>\n",
       "      <td>0.114428</td>\n",
       "      <td>-0.160691</td>\n",
       "      <td>0.408752</td>\n",
       "      <td>1.000000</td>\n",
       "      <td>0.501921</td>\n",
       "      <td>0.403951</td>\n",
       "    </tr>\n",
       "    <tr>\n",
       "      <td>ST_Slope</td>\n",
       "      <td>0.268264</td>\n",
       "      <td>-0.150693</td>\n",
       "      <td>0.317480</td>\n",
       "      <td>0.075162</td>\n",
       "      <td>-0.111471</td>\n",
       "      <td>0.175774</td>\n",
       "      <td>0.078807</td>\n",
       "      <td>-0.343419</td>\n",
       "      <td>0.428706</td>\n",
       "      <td>0.501921</td>\n",
       "      <td>1.000000</td>\n",
       "      <td>0.558771</td>\n",
       "    </tr>\n",
       "    <tr>\n",
       "      <td>HeartDisease</td>\n",
       "      <td>0.282039</td>\n",
       "      <td>-0.305445</td>\n",
       "      <td>0.471354</td>\n",
       "      <td>0.107589</td>\n",
       "      <td>-0.232741</td>\n",
       "      <td>0.267291</td>\n",
       "      <td>0.061011</td>\n",
       "      <td>-0.400421</td>\n",
       "      <td>0.494282</td>\n",
       "      <td>0.403951</td>\n",
       "      <td>0.558771</td>\n",
       "      <td>1.000000</td>\n",
       "    </tr>\n",
       "  </tbody>\n",
       "</table>\n",
       "</div>"
      ],
      "text/plain": [
       "                     Age       Sex  ChestPainType  RestingBP  Cholesterol  \\\n",
       "Age             1.000000 -0.055750       0.165896   0.254399    -0.095282   \n",
       "Sex            -0.055750  1.000000      -0.168254  -0.005133     0.200092   \n",
       "ChestPainType   0.165896 -0.168254       1.000000   0.022168    -0.136139   \n",
       "RestingBP       0.254399 -0.005133       0.022168   1.000000     0.100893   \n",
       "Cholesterol    -0.095282  0.200092      -0.136139   0.100893     1.000000   \n",
       "FastingBS       0.198039 -0.120076       0.116703   0.070193    -0.260974   \n",
       "RestingECG      0.213152  0.018343       0.031383   0.097661     0.112095   \n",
       "MaxHR          -0.382045  0.189186      -0.343654  -0.112135     0.235792   \n",
       "ExerciseAngina  0.215793 -0.190664       0.416625   0.155101    -0.034166   \n",
       "Oldpeak         0.258612 -0.105734       0.245027   0.164803     0.050148   \n",
       "ST_Slope        0.268264 -0.150693       0.317480   0.075162    -0.111471   \n",
       "HeartDisease    0.282039 -0.305445       0.471354   0.107589    -0.232741   \n",
       "\n",
       "                FastingBS  RestingECG     MaxHR  ExerciseAngina   Oldpeak  \\\n",
       "Age              0.198039    0.213152 -0.382045        0.215793  0.258612   \n",
       "Sex             -0.120076    0.018343  0.189186       -0.190664 -0.105734   \n",
       "ChestPainType    0.116703    0.031383 -0.343654        0.416625  0.245027   \n",
       "RestingBP        0.070193    0.097661 -0.112135        0.155101  0.164803   \n",
       "Cholesterol     -0.260974    0.112095  0.235792       -0.034166  0.050148   \n",
       "FastingBS        1.000000    0.050707 -0.131438        0.060451  0.052698   \n",
       "RestingECG       0.050707    1.000000  0.048552        0.036119  0.114428   \n",
       "MaxHR           -0.131438    0.048552  1.000000       -0.370425 -0.160691   \n",
       "ExerciseAngina   0.060451    0.036119 -0.370425        1.000000  0.408752   \n",
       "Oldpeak          0.052698    0.114428 -0.160691        0.408752  1.000000   \n",
       "ST_Slope         0.175774    0.078807 -0.343419        0.428706  0.501921   \n",
       "HeartDisease     0.267291    0.061011 -0.400421        0.494282  0.403951   \n",
       "\n",
       "                ST_Slope  HeartDisease  \n",
       "Age             0.268264      0.282039  \n",
       "Sex            -0.150693     -0.305445  \n",
       "ChestPainType   0.317480      0.471354  \n",
       "RestingBP       0.075162      0.107589  \n",
       "Cholesterol    -0.111471     -0.232741  \n",
       "FastingBS       0.175774      0.267291  \n",
       "RestingECG      0.078807      0.061011  \n",
       "MaxHR          -0.343419     -0.400421  \n",
       "ExerciseAngina  0.428706      0.494282  \n",
       "Oldpeak         0.501921      0.403951  \n",
       "ST_Slope        1.000000      0.558771  \n",
       "HeartDisease    0.558771      1.000000  "
      ]
     },
     "metadata": {},
     "execution_count": 218
    }
   ],
   "metadata": {}
  },
  {
   "cell_type": "markdown",
   "source": [
    "Можно заметить, что незначимые признаки имеют очень небольшой коэффициент корреляции с предсказываемой переменной (кроме возраста, но он скоррелирован с другими признаками, что, возможно, и привело к его незначимости)."
   ],
   "metadata": {}
  }
 ],
 "metadata": {
  "orig_nbformat": 4,
  "language_info": {
   "name": "python",
   "version": "3.7.4",
   "mimetype": "text/x-python",
   "codemirror_mode": {
    "name": "ipython",
    "version": 3
   },
   "pygments_lexer": "ipython3",
   "nbconvert_exporter": "python",
   "file_extension": ".py"
  },
  "kernelspec": {
   "name": "python3",
   "display_name": "Python 3.7.4 64-bit ('base': conda)"
  },
  "interpreter": {
   "hash": "96b9ad8831263b00e05b6a0bae4c8f5254c7a8a2cb2b957e99bf68d97caf9887"
  }
 },
 "nbformat": 4,
 "nbformat_minor": 2
}